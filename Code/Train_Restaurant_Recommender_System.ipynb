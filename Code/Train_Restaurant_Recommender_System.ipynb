{
  "nbformat": 4,
  "nbformat_minor": 0,
  "metadata": {
    "colab": {
      "name": "Restaurant Recommender System - train - Harman.ipynb",
      "provenance": [],
      "collapsed_sections": []
    },
    "kernelspec": {
      "name": "python3",
      "display_name": "Python 3"
    },
    "language_info": {
      "name": "python"
    }
  },
  "cells": [
    {
      "cell_type": "code",
      "source": [
        "from google.colab import drive\n",
        "drive.mount('/content/drive')"
      ],
      "metadata": {
        "colab": {
          "base_uri": "https://localhost:8080/"
        },
        "id": "yw7tdrqIzpph",
        "outputId": "3b32132b-0089-4738-97e2-0fbac658a266"
      },
      "execution_count": null,
      "outputs": [
        {
          "output_type": "stream",
          "name": "stdout",
          "text": [
            "Mounted at /content/drive\n"
          ]
        }
      ]
    },
    {
      "cell_type": "code",
      "source": [
        "import pandas as pd\n",
        "import numpy as np\n",
        "import matplotlib.pyplot as plt\n",
        "import seaborn as sns\n",
        "from sklearn import preprocessing\n",
        "import pickle\n",
        "from sklearn.neighbors import KNeighborsClassifier, RadiusNeighborsClassifier\n",
        "from sklearn.neighbors import NearestNeighbors"
      ],
      "metadata": {
        "id": "ccqKzyTWzpr1"
      },
      "execution_count": null,
      "outputs": []
    },
    {
      "cell_type": "code",
      "source": [
        "rest_data = pd.read_csv('/content/drive/MyDrive/Harman_Project/Dataset/zomato.csv')\n",
        "rest_data"
      ],
      "metadata": {
        "colab": {
          "base_uri": "https://localhost:8080/",
          "height": 1000
        },
        "id": "o7ePaj9QzpuI",
        "outputId": "b7ee4dc0-9f7f-4ecd-e545-c25734158ce8"
      },
      "execution_count": null,
      "outputs": [
        {
          "output_type": "execute_result",
          "data": {
            "text/plain": [
              "                                                     url  \\\n",
              "0      https://www.zomato.com/bangalore/jalsa-banasha...   \n",
              "1      https://www.zomato.com/bangalore/spice-elephan...   \n",
              "2      https://www.zomato.com/SanchurroBangalore?cont...   \n",
              "3      https://www.zomato.com/bangalore/addhuri-udupi...   \n",
              "4      https://www.zomato.com/bangalore/grand-village...   \n",
              "...                                                  ...   \n",
              "51712  https://www.zomato.com/bangalore/best-brews-fo...   \n",
              "51713  https://www.zomato.com/bangalore/vinod-bar-and...   \n",
              "51714  https://www.zomato.com/bangalore/plunge-sherat...   \n",
              "51715  https://www.zomato.com/bangalore/chime-sherato...   \n",
              "51716  https://www.zomato.com/bangalore/the-nest-the-...   \n",
              "\n",
              "                                                 address  \\\n",
              "0      942, 21st Main Road, 2nd Stage, Banashankari, ...   \n",
              "1      2nd Floor, 80 Feet Road, Near Big Bazaar, 6th ...   \n",
              "2      1112, Next to KIMS Medical College, 17th Cross...   \n",
              "3      1st Floor, Annakuteera, 3rd Stage, Banashankar...   \n",
              "4      10, 3rd Floor, Lakshmi Associates, Gandhi Baza...   \n",
              "...                                                  ...   \n",
              "51712  Four Points by Sheraton Bengaluru, 43/3, White...   \n",
              "51713  Number 10, Garudachar Palya, Mahadevapura, Whi...   \n",
              "51714  Sheraton Grand Bengaluru Whitefield Hotel & Co...   \n",
              "51715  Sheraton Grand Bengaluru Whitefield Hotel & Co...   \n",
              "51716  ITPL Main Road, KIADB Export Promotion Industr...   \n",
              "\n",
              "                                                    name online_order  \\\n",
              "0                                                  Jalsa          Yes   \n",
              "1                                         Spice Elephant          Yes   \n",
              "2                                        San Churro Cafe          Yes   \n",
              "3                                  Addhuri Udupi Bhojana           No   \n",
              "4                                          Grand Village           No   \n",
              "...                                                  ...          ...   \n",
              "51712  Best Brews - Four Points by Sheraton Bengaluru...           No   \n",
              "51713                           Vinod Bar And Restaurant           No   \n",
              "51714  Plunge - Sheraton Grand Bengaluru Whitefield H...           No   \n",
              "51715  Chime - Sheraton Grand Bengaluru Whitefield Ho...           No   \n",
              "51716                       The Nest - The Den Bengaluru           No   \n",
              "\n",
              "      book_table    rate  votes                             phone  \\\n",
              "0            Yes   4.1/5    775    080 42297555\\r\\n+91 9743772233   \n",
              "1             No   4.1/5    787                      080 41714161   \n",
              "2             No   3.8/5    918                    +91 9663487993   \n",
              "3             No   3.7/5     88                    +91 9620009302   \n",
              "4             No   3.8/5    166  +91 8026612447\\r\\n+91 9901210005   \n",
              "...          ...     ...    ...                               ...   \n",
              "51712         No  3.6 /5     27                      080 40301477   \n",
              "51713         No     NaN      0                    +91 8197675843   \n",
              "51714         No     NaN      0                               NaN   \n",
              "51715        Yes  4.3 /5    236                      080 49652769   \n",
              "51716         No  3.4 /5     13                    +91 8071117272   \n",
              "\n",
              "                         location            rest_type  \\\n",
              "0                    Banashankari        Casual Dining   \n",
              "1                    Banashankari        Casual Dining   \n",
              "2                    Banashankari  Cafe, Casual Dining   \n",
              "3                    Banashankari          Quick Bites   \n",
              "4                    Basavanagudi        Casual Dining   \n",
              "...                           ...                  ...   \n",
              "51712                  Whitefield                  Bar   \n",
              "51713                  Whitefield                  Bar   \n",
              "51714                  Whitefield                  Bar   \n",
              "51715  ITPL Main Road, Whitefield                  Bar   \n",
              "51716  ITPL Main Road, Whitefield   Bar, Casual Dining   \n",
              "\n",
              "                                              dish_liked  \\\n",
              "0      Pasta, Lunch Buffet, Masala Papad, Paneer Laja...   \n",
              "1      Momos, Lunch Buffet, Chocolate Nirvana, Thai G...   \n",
              "2      Churros, Cannelloni, Minestrone Soup, Hot Choc...   \n",
              "3                                            Masala Dosa   \n",
              "4                                    Panipuri, Gol Gappe   \n",
              "...                                                  ...   \n",
              "51712                                                NaN   \n",
              "51713                                                NaN   \n",
              "51714                                                NaN   \n",
              "51715                       Cocktails, Pizza, Buttermilk   \n",
              "51716                                                NaN   \n",
              "\n",
              "                                     cuisines approx_cost(for two people)  \\\n",
              "0              North Indian, Mughlai, Chinese                         800   \n",
              "1                 Chinese, North Indian, Thai                         800   \n",
              "2                      Cafe, Mexican, Italian                         800   \n",
              "3                  South Indian, North Indian                         300   \n",
              "4                    North Indian, Rajasthani                         600   \n",
              "...                                       ...                         ...   \n",
              "51712                             Continental                       1,500   \n",
              "51713                             Finger Food                         600   \n",
              "51714                             Finger Food                       2,000   \n",
              "51715                             Finger Food                       2,500   \n",
              "51716  Finger Food, North Indian, Continental                       1,500   \n",
              "\n",
              "                                            reviews_list menu_item  \\\n",
              "0      [('Rated 4.0', 'RATED\\n  A beautiful place to ...        []   \n",
              "1      [('Rated 4.0', 'RATED\\n  Had been here for din...        []   \n",
              "2      [('Rated 3.0', \"RATED\\n  Ambience is not that ...        []   \n",
              "3      [('Rated 4.0', \"RATED\\n  Great food and proper...        []   \n",
              "4      [('Rated 4.0', 'RATED\\n  Very good restaurant ...        []   \n",
              "...                                                  ...       ...   \n",
              "51712  [('Rated 5.0', \"RATED\\n  Food and service are ...        []   \n",
              "51713                                                 []        []   \n",
              "51714                                                 []        []   \n",
              "51715  [('Rated 4.0', 'RATED\\n  Nice and friendly pla...        []   \n",
              "51716  [('Rated 5.0', 'RATED\\n  Great ambience , look...        []   \n",
              "\n",
              "      listed_in(type) listed_in(city)  \n",
              "0              Buffet    Banashankari  \n",
              "1              Buffet    Banashankari  \n",
              "2              Buffet    Banashankari  \n",
              "3              Buffet    Banashankari  \n",
              "4              Buffet    Banashankari  \n",
              "...               ...             ...  \n",
              "51712   Pubs and bars      Whitefield  \n",
              "51713   Pubs and bars      Whitefield  \n",
              "51714   Pubs and bars      Whitefield  \n",
              "51715   Pubs and bars      Whitefield  \n",
              "51716   Pubs and bars      Whitefield  \n",
              "\n",
              "[51717 rows x 17 columns]"
            ],
            "text/html": [
              "\n",
              "  <div id=\"df-8743c396-b8f5-491b-a2a0-a79f47eade15\">\n",
              "    <div class=\"colab-df-container\">\n",
              "      <div>\n",
              "<style scoped>\n",
              "    .dataframe tbody tr th:only-of-type {\n",
              "        vertical-align: middle;\n",
              "    }\n",
              "\n",
              "    .dataframe tbody tr th {\n",
              "        vertical-align: top;\n",
              "    }\n",
              "\n",
              "    .dataframe thead th {\n",
              "        text-align: right;\n",
              "    }\n",
              "</style>\n",
              "<table border=\"1\" class=\"dataframe\">\n",
              "  <thead>\n",
              "    <tr style=\"text-align: right;\">\n",
              "      <th></th>\n",
              "      <th>url</th>\n",
              "      <th>address</th>\n",
              "      <th>name</th>\n",
              "      <th>online_order</th>\n",
              "      <th>book_table</th>\n",
              "      <th>rate</th>\n",
              "      <th>votes</th>\n",
              "      <th>phone</th>\n",
              "      <th>location</th>\n",
              "      <th>rest_type</th>\n",
              "      <th>dish_liked</th>\n",
              "      <th>cuisines</th>\n",
              "      <th>approx_cost(for two people)</th>\n",
              "      <th>reviews_list</th>\n",
              "      <th>menu_item</th>\n",
              "      <th>listed_in(type)</th>\n",
              "      <th>listed_in(city)</th>\n",
              "    </tr>\n",
              "  </thead>\n",
              "  <tbody>\n",
              "    <tr>\n",
              "      <th>0</th>\n",
              "      <td>https://www.zomato.com/bangalore/jalsa-banasha...</td>\n",
              "      <td>942, 21st Main Road, 2nd Stage, Banashankari, ...</td>\n",
              "      <td>Jalsa</td>\n",
              "      <td>Yes</td>\n",
              "      <td>Yes</td>\n",
              "      <td>4.1/5</td>\n",
              "      <td>775</td>\n",
              "      <td>080 42297555\\r\\n+91 9743772233</td>\n",
              "      <td>Banashankari</td>\n",
              "      <td>Casual Dining</td>\n",
              "      <td>Pasta, Lunch Buffet, Masala Papad, Paneer Laja...</td>\n",
              "      <td>North Indian, Mughlai, Chinese</td>\n",
              "      <td>800</td>\n",
              "      <td>[('Rated 4.0', 'RATED\\n  A beautiful place to ...</td>\n",
              "      <td>[]</td>\n",
              "      <td>Buffet</td>\n",
              "      <td>Banashankari</td>\n",
              "    </tr>\n",
              "    <tr>\n",
              "      <th>1</th>\n",
              "      <td>https://www.zomato.com/bangalore/spice-elephan...</td>\n",
              "      <td>2nd Floor, 80 Feet Road, Near Big Bazaar, 6th ...</td>\n",
              "      <td>Spice Elephant</td>\n",
              "      <td>Yes</td>\n",
              "      <td>No</td>\n",
              "      <td>4.1/5</td>\n",
              "      <td>787</td>\n",
              "      <td>080 41714161</td>\n",
              "      <td>Banashankari</td>\n",
              "      <td>Casual Dining</td>\n",
              "      <td>Momos, Lunch Buffet, Chocolate Nirvana, Thai G...</td>\n",
              "      <td>Chinese, North Indian, Thai</td>\n",
              "      <td>800</td>\n",
              "      <td>[('Rated 4.0', 'RATED\\n  Had been here for din...</td>\n",
              "      <td>[]</td>\n",
              "      <td>Buffet</td>\n",
              "      <td>Banashankari</td>\n",
              "    </tr>\n",
              "    <tr>\n",
              "      <th>2</th>\n",
              "      <td>https://www.zomato.com/SanchurroBangalore?cont...</td>\n",
              "      <td>1112, Next to KIMS Medical College, 17th Cross...</td>\n",
              "      <td>San Churro Cafe</td>\n",
              "      <td>Yes</td>\n",
              "      <td>No</td>\n",
              "      <td>3.8/5</td>\n",
              "      <td>918</td>\n",
              "      <td>+91 9663487993</td>\n",
              "      <td>Banashankari</td>\n",
              "      <td>Cafe, Casual Dining</td>\n",
              "      <td>Churros, Cannelloni, Minestrone Soup, Hot Choc...</td>\n",
              "      <td>Cafe, Mexican, Italian</td>\n",
              "      <td>800</td>\n",
              "      <td>[('Rated 3.0', \"RATED\\n  Ambience is not that ...</td>\n",
              "      <td>[]</td>\n",
              "      <td>Buffet</td>\n",
              "      <td>Banashankari</td>\n",
              "    </tr>\n",
              "    <tr>\n",
              "      <th>3</th>\n",
              "      <td>https://www.zomato.com/bangalore/addhuri-udupi...</td>\n",
              "      <td>1st Floor, Annakuteera, 3rd Stage, Banashankar...</td>\n",
              "      <td>Addhuri Udupi Bhojana</td>\n",
              "      <td>No</td>\n",
              "      <td>No</td>\n",
              "      <td>3.7/5</td>\n",
              "      <td>88</td>\n",
              "      <td>+91 9620009302</td>\n",
              "      <td>Banashankari</td>\n",
              "      <td>Quick Bites</td>\n",
              "      <td>Masala Dosa</td>\n",
              "      <td>South Indian, North Indian</td>\n",
              "      <td>300</td>\n",
              "      <td>[('Rated 4.0', \"RATED\\n  Great food and proper...</td>\n",
              "      <td>[]</td>\n",
              "      <td>Buffet</td>\n",
              "      <td>Banashankari</td>\n",
              "    </tr>\n",
              "    <tr>\n",
              "      <th>4</th>\n",
              "      <td>https://www.zomato.com/bangalore/grand-village...</td>\n",
              "      <td>10, 3rd Floor, Lakshmi Associates, Gandhi Baza...</td>\n",
              "      <td>Grand Village</td>\n",
              "      <td>No</td>\n",
              "      <td>No</td>\n",
              "      <td>3.8/5</td>\n",
              "      <td>166</td>\n",
              "      <td>+91 8026612447\\r\\n+91 9901210005</td>\n",
              "      <td>Basavanagudi</td>\n",
              "      <td>Casual Dining</td>\n",
              "      <td>Panipuri, Gol Gappe</td>\n",
              "      <td>North Indian, Rajasthani</td>\n",
              "      <td>600</td>\n",
              "      <td>[('Rated 4.0', 'RATED\\n  Very good restaurant ...</td>\n",
              "      <td>[]</td>\n",
              "      <td>Buffet</td>\n",
              "      <td>Banashankari</td>\n",
              "    </tr>\n",
              "    <tr>\n",
              "      <th>...</th>\n",
              "      <td>...</td>\n",
              "      <td>...</td>\n",
              "      <td>...</td>\n",
              "      <td>...</td>\n",
              "      <td>...</td>\n",
              "      <td>...</td>\n",
              "      <td>...</td>\n",
              "      <td>...</td>\n",
              "      <td>...</td>\n",
              "      <td>...</td>\n",
              "      <td>...</td>\n",
              "      <td>...</td>\n",
              "      <td>...</td>\n",
              "      <td>...</td>\n",
              "      <td>...</td>\n",
              "      <td>...</td>\n",
              "      <td>...</td>\n",
              "    </tr>\n",
              "    <tr>\n",
              "      <th>51712</th>\n",
              "      <td>https://www.zomato.com/bangalore/best-brews-fo...</td>\n",
              "      <td>Four Points by Sheraton Bengaluru, 43/3, White...</td>\n",
              "      <td>Best Brews - Four Points by Sheraton Bengaluru...</td>\n",
              "      <td>No</td>\n",
              "      <td>No</td>\n",
              "      <td>3.6 /5</td>\n",
              "      <td>27</td>\n",
              "      <td>080 40301477</td>\n",
              "      <td>Whitefield</td>\n",
              "      <td>Bar</td>\n",
              "      <td>NaN</td>\n",
              "      <td>Continental</td>\n",
              "      <td>1,500</td>\n",
              "      <td>[('Rated 5.0', \"RATED\\n  Food and service are ...</td>\n",
              "      <td>[]</td>\n",
              "      <td>Pubs and bars</td>\n",
              "      <td>Whitefield</td>\n",
              "    </tr>\n",
              "    <tr>\n",
              "      <th>51713</th>\n",
              "      <td>https://www.zomato.com/bangalore/vinod-bar-and...</td>\n",
              "      <td>Number 10, Garudachar Palya, Mahadevapura, Whi...</td>\n",
              "      <td>Vinod Bar And Restaurant</td>\n",
              "      <td>No</td>\n",
              "      <td>No</td>\n",
              "      <td>NaN</td>\n",
              "      <td>0</td>\n",
              "      <td>+91 8197675843</td>\n",
              "      <td>Whitefield</td>\n",
              "      <td>Bar</td>\n",
              "      <td>NaN</td>\n",
              "      <td>Finger Food</td>\n",
              "      <td>600</td>\n",
              "      <td>[]</td>\n",
              "      <td>[]</td>\n",
              "      <td>Pubs and bars</td>\n",
              "      <td>Whitefield</td>\n",
              "    </tr>\n",
              "    <tr>\n",
              "      <th>51714</th>\n",
              "      <td>https://www.zomato.com/bangalore/plunge-sherat...</td>\n",
              "      <td>Sheraton Grand Bengaluru Whitefield Hotel &amp; Co...</td>\n",
              "      <td>Plunge - Sheraton Grand Bengaluru Whitefield H...</td>\n",
              "      <td>No</td>\n",
              "      <td>No</td>\n",
              "      <td>NaN</td>\n",
              "      <td>0</td>\n",
              "      <td>NaN</td>\n",
              "      <td>Whitefield</td>\n",
              "      <td>Bar</td>\n",
              "      <td>NaN</td>\n",
              "      <td>Finger Food</td>\n",
              "      <td>2,000</td>\n",
              "      <td>[]</td>\n",
              "      <td>[]</td>\n",
              "      <td>Pubs and bars</td>\n",
              "      <td>Whitefield</td>\n",
              "    </tr>\n",
              "    <tr>\n",
              "      <th>51715</th>\n",
              "      <td>https://www.zomato.com/bangalore/chime-sherato...</td>\n",
              "      <td>Sheraton Grand Bengaluru Whitefield Hotel &amp; Co...</td>\n",
              "      <td>Chime - Sheraton Grand Bengaluru Whitefield Ho...</td>\n",
              "      <td>No</td>\n",
              "      <td>Yes</td>\n",
              "      <td>4.3 /5</td>\n",
              "      <td>236</td>\n",
              "      <td>080 49652769</td>\n",
              "      <td>ITPL Main Road, Whitefield</td>\n",
              "      <td>Bar</td>\n",
              "      <td>Cocktails, Pizza, Buttermilk</td>\n",
              "      <td>Finger Food</td>\n",
              "      <td>2,500</td>\n",
              "      <td>[('Rated 4.0', 'RATED\\n  Nice and friendly pla...</td>\n",
              "      <td>[]</td>\n",
              "      <td>Pubs and bars</td>\n",
              "      <td>Whitefield</td>\n",
              "    </tr>\n",
              "    <tr>\n",
              "      <th>51716</th>\n",
              "      <td>https://www.zomato.com/bangalore/the-nest-the-...</td>\n",
              "      <td>ITPL Main Road, KIADB Export Promotion Industr...</td>\n",
              "      <td>The Nest - The Den Bengaluru</td>\n",
              "      <td>No</td>\n",
              "      <td>No</td>\n",
              "      <td>3.4 /5</td>\n",
              "      <td>13</td>\n",
              "      <td>+91 8071117272</td>\n",
              "      <td>ITPL Main Road, Whitefield</td>\n",
              "      <td>Bar, Casual Dining</td>\n",
              "      <td>NaN</td>\n",
              "      <td>Finger Food, North Indian, Continental</td>\n",
              "      <td>1,500</td>\n",
              "      <td>[('Rated 5.0', 'RATED\\n  Great ambience , look...</td>\n",
              "      <td>[]</td>\n",
              "      <td>Pubs and bars</td>\n",
              "      <td>Whitefield</td>\n",
              "    </tr>\n",
              "  </tbody>\n",
              "</table>\n",
              "<p>51717 rows × 17 columns</p>\n",
              "</div>\n",
              "      <button class=\"colab-df-convert\" onclick=\"convertToInteractive('df-8743c396-b8f5-491b-a2a0-a79f47eade15')\"\n",
              "              title=\"Convert this dataframe to an interactive table.\"\n",
              "              style=\"display:none;\">\n",
              "        \n",
              "  <svg xmlns=\"http://www.w3.org/2000/svg\" height=\"24px\"viewBox=\"0 0 24 24\"\n",
              "       width=\"24px\">\n",
              "    <path d=\"M0 0h24v24H0V0z\" fill=\"none\"/>\n",
              "    <path d=\"M18.56 5.44l.94 2.06.94-2.06 2.06-.94-2.06-.94-.94-2.06-.94 2.06-2.06.94zm-11 1L8.5 8.5l.94-2.06 2.06-.94-2.06-.94L8.5 2.5l-.94 2.06-2.06.94zm10 10l.94 2.06.94-2.06 2.06-.94-2.06-.94-.94-2.06-.94 2.06-2.06.94z\"/><path d=\"M17.41 7.96l-1.37-1.37c-.4-.4-.92-.59-1.43-.59-.52 0-1.04.2-1.43.59L10.3 9.45l-7.72 7.72c-.78.78-.78 2.05 0 2.83L4 21.41c.39.39.9.59 1.41.59.51 0 1.02-.2 1.41-.59l7.78-7.78 2.81-2.81c.8-.78.8-2.07 0-2.86zM5.41 20L4 18.59l7.72-7.72 1.47 1.35L5.41 20z\"/>\n",
              "  </svg>\n",
              "      </button>\n",
              "      \n",
              "  <style>\n",
              "    .colab-df-container {\n",
              "      display:flex;\n",
              "      flex-wrap:wrap;\n",
              "      gap: 12px;\n",
              "    }\n",
              "\n",
              "    .colab-df-convert {\n",
              "      background-color: #E8F0FE;\n",
              "      border: none;\n",
              "      border-radius: 50%;\n",
              "      cursor: pointer;\n",
              "      display: none;\n",
              "      fill: #1967D2;\n",
              "      height: 32px;\n",
              "      padding: 0 0 0 0;\n",
              "      width: 32px;\n",
              "    }\n",
              "\n",
              "    .colab-df-convert:hover {\n",
              "      background-color: #E2EBFA;\n",
              "      box-shadow: 0px 1px 2px rgba(60, 64, 67, 0.3), 0px 1px 3px 1px rgba(60, 64, 67, 0.15);\n",
              "      fill: #174EA6;\n",
              "    }\n",
              "\n",
              "    [theme=dark] .colab-df-convert {\n",
              "      background-color: #3B4455;\n",
              "      fill: #D2E3FC;\n",
              "    }\n",
              "\n",
              "    [theme=dark] .colab-df-convert:hover {\n",
              "      background-color: #434B5C;\n",
              "      box-shadow: 0px 1px 3px 1px rgba(0, 0, 0, 0.15);\n",
              "      filter: drop-shadow(0px 1px 2px rgba(0, 0, 0, 0.3));\n",
              "      fill: #FFFFFF;\n",
              "    }\n",
              "  </style>\n",
              "\n",
              "      <script>\n",
              "        const buttonEl =\n",
              "          document.querySelector('#df-8743c396-b8f5-491b-a2a0-a79f47eade15 button.colab-df-convert');\n",
              "        buttonEl.style.display =\n",
              "          google.colab.kernel.accessAllowed ? 'block' : 'none';\n",
              "\n",
              "        async function convertToInteractive(key) {\n",
              "          const element = document.querySelector('#df-8743c396-b8f5-491b-a2a0-a79f47eade15');\n",
              "          const dataTable =\n",
              "            await google.colab.kernel.invokeFunction('convertToInteractive',\n",
              "                                                     [key], {});\n",
              "          if (!dataTable) return;\n",
              "\n",
              "          const docLinkHtml = 'Like what you see? Visit the ' +\n",
              "            '<a target=\"_blank\" href=https://colab.research.google.com/notebooks/data_table.ipynb>data table notebook</a>'\n",
              "            + ' to learn more about interactive tables.';\n",
              "          element.innerHTML = '';\n",
              "          dataTable['output_type'] = 'display_data';\n",
              "          await google.colab.output.renderOutput(dataTable, element);\n",
              "          const docLink = document.createElement('div');\n",
              "          docLink.innerHTML = docLinkHtml;\n",
              "          element.appendChild(docLink);\n",
              "        }\n",
              "      </script>\n",
              "    </div>\n",
              "  </div>\n",
              "  "
            ]
          },
          "metadata": {},
          "execution_count": 5
        }
      ]
    },
    {
      "cell_type": "code",
      "source": [
        "rest_data.shape"
      ],
      "metadata": {
        "colab": {
          "base_uri": "https://localhost:8080/"
        },
        "id": "g76o7cGYzpwA",
        "outputId": "a75521de-4119-49ed-bf64-00bc2b5d279d"
      },
      "execution_count": null,
      "outputs": [
        {
          "output_type": "execute_result",
          "data": {
            "text/plain": [
              "(51717, 17)"
            ]
          },
          "metadata": {},
          "execution_count": 6
        }
      ]
    },
    {
      "cell_type": "code",
      "source": [
        "rest_data.columns"
      ],
      "metadata": {
        "colab": {
          "base_uri": "https://localhost:8080/"
        },
        "id": "yv5AAOSrzpyI",
        "outputId": "cd367d58-37f8-4dfc-edb8-29e8caadb0ae"
      },
      "execution_count": null,
      "outputs": [
        {
          "output_type": "execute_result",
          "data": {
            "text/plain": [
              "Index(['url', 'address', 'name', 'online_order', 'book_table', 'rate', 'votes',\n",
              "       'phone', 'location', 'rest_type', 'dish_liked', 'cuisines',\n",
              "       'approx_cost(for two people)', 'reviews_list', 'menu_item',\n",
              "       'listed_in(type)', 'listed_in(city)'],\n",
              "      dtype='object')"
            ]
          },
          "metadata": {},
          "execution_count": 7
        }
      ]
    },
    {
      "cell_type": "code",
      "source": [
        "rest_data.describe()"
      ],
      "metadata": {
        "id": "aExonkk07is9",
        "colab": {
          "base_uri": "https://localhost:8080/",
          "height": 300
        },
        "outputId": "552e92d6-adaa-4fbc-8434-1911f2f9f598"
      },
      "execution_count": null,
      "outputs": [
        {
          "output_type": "execute_result",
          "data": {
            "text/plain": [
              "              votes\n",
              "count  51717.000000\n",
              "mean     283.697527\n",
              "std      803.838853\n",
              "min        0.000000\n",
              "25%        7.000000\n",
              "50%       41.000000\n",
              "75%      198.000000\n",
              "max    16832.000000"
            ],
            "text/html": [
              "\n",
              "  <div id=\"df-b75c8bf1-d5b7-492c-b1ca-26edb8ada520\">\n",
              "    <div class=\"colab-df-container\">\n",
              "      <div>\n",
              "<style scoped>\n",
              "    .dataframe tbody tr th:only-of-type {\n",
              "        vertical-align: middle;\n",
              "    }\n",
              "\n",
              "    .dataframe tbody tr th {\n",
              "        vertical-align: top;\n",
              "    }\n",
              "\n",
              "    .dataframe thead th {\n",
              "        text-align: right;\n",
              "    }\n",
              "</style>\n",
              "<table border=\"1\" class=\"dataframe\">\n",
              "  <thead>\n",
              "    <tr style=\"text-align: right;\">\n",
              "      <th></th>\n",
              "      <th>votes</th>\n",
              "    </tr>\n",
              "  </thead>\n",
              "  <tbody>\n",
              "    <tr>\n",
              "      <th>count</th>\n",
              "      <td>51717.000000</td>\n",
              "    </tr>\n",
              "    <tr>\n",
              "      <th>mean</th>\n",
              "      <td>283.697527</td>\n",
              "    </tr>\n",
              "    <tr>\n",
              "      <th>std</th>\n",
              "      <td>803.838853</td>\n",
              "    </tr>\n",
              "    <tr>\n",
              "      <th>min</th>\n",
              "      <td>0.000000</td>\n",
              "    </tr>\n",
              "    <tr>\n",
              "      <th>25%</th>\n",
              "      <td>7.000000</td>\n",
              "    </tr>\n",
              "    <tr>\n",
              "      <th>50%</th>\n",
              "      <td>41.000000</td>\n",
              "    </tr>\n",
              "    <tr>\n",
              "      <th>75%</th>\n",
              "      <td>198.000000</td>\n",
              "    </tr>\n",
              "    <tr>\n",
              "      <th>max</th>\n",
              "      <td>16832.000000</td>\n",
              "    </tr>\n",
              "  </tbody>\n",
              "</table>\n",
              "</div>\n",
              "      <button class=\"colab-df-convert\" onclick=\"convertToInteractive('df-b75c8bf1-d5b7-492c-b1ca-26edb8ada520')\"\n",
              "              title=\"Convert this dataframe to an interactive table.\"\n",
              "              style=\"display:none;\">\n",
              "        \n",
              "  <svg xmlns=\"http://www.w3.org/2000/svg\" height=\"24px\"viewBox=\"0 0 24 24\"\n",
              "       width=\"24px\">\n",
              "    <path d=\"M0 0h24v24H0V0z\" fill=\"none\"/>\n",
              "    <path d=\"M18.56 5.44l.94 2.06.94-2.06 2.06-.94-2.06-.94-.94-2.06-.94 2.06-2.06.94zm-11 1L8.5 8.5l.94-2.06 2.06-.94-2.06-.94L8.5 2.5l-.94 2.06-2.06.94zm10 10l.94 2.06.94-2.06 2.06-.94-2.06-.94-.94-2.06-.94 2.06-2.06.94z\"/><path d=\"M17.41 7.96l-1.37-1.37c-.4-.4-.92-.59-1.43-.59-.52 0-1.04.2-1.43.59L10.3 9.45l-7.72 7.72c-.78.78-.78 2.05 0 2.83L4 21.41c.39.39.9.59 1.41.59.51 0 1.02-.2 1.41-.59l7.78-7.78 2.81-2.81c.8-.78.8-2.07 0-2.86zM5.41 20L4 18.59l7.72-7.72 1.47 1.35L5.41 20z\"/>\n",
              "  </svg>\n",
              "      </button>\n",
              "      \n",
              "  <style>\n",
              "    .colab-df-container {\n",
              "      display:flex;\n",
              "      flex-wrap:wrap;\n",
              "      gap: 12px;\n",
              "    }\n",
              "\n",
              "    .colab-df-convert {\n",
              "      background-color: #E8F0FE;\n",
              "      border: none;\n",
              "      border-radius: 50%;\n",
              "      cursor: pointer;\n",
              "      display: none;\n",
              "      fill: #1967D2;\n",
              "      height: 32px;\n",
              "      padding: 0 0 0 0;\n",
              "      width: 32px;\n",
              "    }\n",
              "\n",
              "    .colab-df-convert:hover {\n",
              "      background-color: #E2EBFA;\n",
              "      box-shadow: 0px 1px 2px rgba(60, 64, 67, 0.3), 0px 1px 3px 1px rgba(60, 64, 67, 0.15);\n",
              "      fill: #174EA6;\n",
              "    }\n",
              "\n",
              "    [theme=dark] .colab-df-convert {\n",
              "      background-color: #3B4455;\n",
              "      fill: #D2E3FC;\n",
              "    }\n",
              "\n",
              "    [theme=dark] .colab-df-convert:hover {\n",
              "      background-color: #434B5C;\n",
              "      box-shadow: 0px 1px 3px 1px rgba(0, 0, 0, 0.15);\n",
              "      filter: drop-shadow(0px 1px 2px rgba(0, 0, 0, 0.3));\n",
              "      fill: #FFFFFF;\n",
              "    }\n",
              "  </style>\n",
              "\n",
              "      <script>\n",
              "        const buttonEl =\n",
              "          document.querySelector('#df-b75c8bf1-d5b7-492c-b1ca-26edb8ada520 button.colab-df-convert');\n",
              "        buttonEl.style.display =\n",
              "          google.colab.kernel.accessAllowed ? 'block' : 'none';\n",
              "\n",
              "        async function convertToInteractive(key) {\n",
              "          const element = document.querySelector('#df-b75c8bf1-d5b7-492c-b1ca-26edb8ada520');\n",
              "          const dataTable =\n",
              "            await google.colab.kernel.invokeFunction('convertToInteractive',\n",
              "                                                     [key], {});\n",
              "          if (!dataTable) return;\n",
              "\n",
              "          const docLinkHtml = 'Like what you see? Visit the ' +\n",
              "            '<a target=\"_blank\" href=https://colab.research.google.com/notebooks/data_table.ipynb>data table notebook</a>'\n",
              "            + ' to learn more about interactive tables.';\n",
              "          element.innerHTML = '';\n",
              "          dataTable['output_type'] = 'display_data';\n",
              "          await google.colab.output.renderOutput(dataTable, element);\n",
              "          const docLink = document.createElement('div');\n",
              "          docLink.innerHTML = docLinkHtml;\n",
              "          element.appendChild(docLink);\n",
              "        }\n",
              "      </script>\n",
              "    </div>\n",
              "  </div>\n",
              "  "
            ]
          },
          "metadata": {},
          "execution_count": 8
        }
      ]
    },
    {
      "cell_type": "code",
      "source": [
        "rest_data.info()"
      ],
      "metadata": {
        "id": "q5oeM-NPzp0K",
        "colab": {
          "base_uri": "https://localhost:8080/"
        },
        "outputId": "df49a384-7a41-4214-c820-7b794b599e94"
      },
      "execution_count": null,
      "outputs": [
        {
          "output_type": "stream",
          "name": "stdout",
          "text": [
            "<class 'pandas.core.frame.DataFrame'>\n",
            "RangeIndex: 51717 entries, 0 to 51716\n",
            "Data columns (total 17 columns):\n",
            " #   Column                       Non-Null Count  Dtype \n",
            "---  ------                       --------------  ----- \n",
            " 0   url                          51717 non-null  object\n",
            " 1   address                      51717 non-null  object\n",
            " 2   name                         51717 non-null  object\n",
            " 3   online_order                 51717 non-null  object\n",
            " 4   book_table                   51717 non-null  object\n",
            " 5   rate                         43942 non-null  object\n",
            " 6   votes                        51717 non-null  int64 \n",
            " 7   phone                        50509 non-null  object\n",
            " 8   location                     51696 non-null  object\n",
            " 9   rest_type                    51490 non-null  object\n",
            " 10  dish_liked                   23639 non-null  object\n",
            " 11  cuisines                     51672 non-null  object\n",
            " 12  approx_cost(for two people)  51371 non-null  object\n",
            " 13  reviews_list                 51717 non-null  object\n",
            " 14  menu_item                    51717 non-null  object\n",
            " 15  listed_in(type)              51717 non-null  object\n",
            " 16  listed_in(city)              51717 non-null  object\n",
            "dtypes: int64(1), object(16)\n",
            "memory usage: 6.7+ MB\n"
          ]
        }
      ]
    },
    {
      "cell_type": "code",
      "source": [
        "rest_data.dtypes"
      ],
      "metadata": {
        "colab": {
          "base_uri": "https://localhost:8080/"
        },
        "id": "IrT76jlh8LR4",
        "outputId": "0fd435a1-f534-445a-ad10-7631fe36d1b2"
      },
      "execution_count": null,
      "outputs": [
        {
          "output_type": "execute_result",
          "data": {
            "text/plain": [
              "url                            object\n",
              "address                        object\n",
              "name                           object\n",
              "online_order                   object\n",
              "book_table                     object\n",
              "rate                           object\n",
              "votes                           int64\n",
              "phone                          object\n",
              "location                       object\n",
              "rest_type                      object\n",
              "dish_liked                     object\n",
              "cuisines                       object\n",
              "approx_cost(for two people)    object\n",
              "reviews_list                   object\n",
              "menu_item                      object\n",
              "listed_in(type)                object\n",
              "listed_in(city)                object\n",
              "dtype: object"
            ]
          },
          "metadata": {},
          "execution_count": 10
        }
      ]
    },
    {
      "cell_type": "code",
      "source": [
        "rest_data.isnull().sum()"
      ],
      "metadata": {
        "id": "6nUxmtYM8OWN",
        "colab": {
          "base_uri": "https://localhost:8080/"
        },
        "outputId": "05fe565b-79d1-4692-be70-94e4e79499b9"
      },
      "execution_count": null,
      "outputs": [
        {
          "output_type": "execute_result",
          "data": {
            "text/plain": [
              "url                                0\n",
              "address                            0\n",
              "name                               0\n",
              "online_order                       0\n",
              "book_table                         0\n",
              "rate                            7775\n",
              "votes                              0\n",
              "phone                           1208\n",
              "location                          21\n",
              "rest_type                        227\n",
              "dish_liked                     28078\n",
              "cuisines                          45\n",
              "approx_cost(for two people)      346\n",
              "reviews_list                       0\n",
              "menu_item                          0\n",
              "listed_in(type)                    0\n",
              "listed_in(city)                    0\n",
              "dtype: int64"
            ]
          },
          "metadata": {},
          "execution_count": 11
        }
      ]
    },
    {
      "cell_type": "code",
      "source": [
        ""
      ],
      "metadata": {
        "id": "6WtrqQ3V8UT7"
      },
      "execution_count": null,
      "outputs": []
    },
    {
      "cell_type": "markdown",
      "source": [
        "# **Cleaning Data**"
      ],
      "metadata": {
        "id": "jxe9t2mC_h3u"
      }
    },
    {
      "cell_type": "code",
      "source": [
        "rest_data['menu_item'].unique()"
      ],
      "metadata": {
        "id": "zC44PVu8zp2K",
        "colab": {
          "base_uri": "https://localhost:8080/"
        },
        "outputId": "278a73a7-c769-4d80-c98b-9d76320f33e4"
      },
      "execution_count": null,
      "outputs": [
        {
          "output_type": "execute_result",
          "data": {
            "text/plain": [
              "array(['[]',\n",
              "       \"['Chocolate Fantasy (Pack Of 5)', 'Pan Cake (Pack Of 6)', 'Gulab Jamun (Pack Of 10)', 'Gulkand Shot (Pack Of 5)', 'Chocolate Decadence (Pack of 2)', 'CheeseCake (Pack Of 2)', 'Red Velvet Slice Cake (Pack of 2)', 'Red Velvet Slice Cake & Cheese Cake (Pack of 2)', 'Red Velvet Slice Cake & Chocolate Decadence Cake (Pack of 2)', 'Hazelnut Brownie (Pack of 2)', 'Moments', 'Red Velvet Cake With Butter Cream Frosting (750 Gm)', 'Red Velvet Slice Cake (Pack of 2)', 'Red Velvet Slice Cake & Cheese Cake (Pack of 2)', 'Red Velvet Slice Cake & Chocolate Decadence Cake (Pack of 2)', 'Red Velvet Slice Cake (Pack of 1)', 'Valentine Red Velvet Jar', 'Valentine Chocolate Jar', 'Valentines Jar Combo', 'Pink Guava 500 ML', 'Oreo Vanilla 500 ML', 'Cookie Crumble 500 ML', 'Chocolate Fantasy', 'Gulkand-E-Bahar', 'Pan Cake', 'Hazelnut Brownie (Pack Of 1)', 'Gulab Jamun (Pack Of 2)', 'Plum Cake', 'Red Velvet Cake With Butter Cream Frosting (750 Gm)', 'Chocolate Mud Cake (700 Gms)', 'CheeseCake (Pack of 1)', 'Chocolate Decadence (Pack of 1)', 'Red Velvet Slice Cake (Pack of 1)']\",\n",
              "       \"['Chole Kulcha Meal', 'Upvas Aloo Paratha With Dahi', 'Singhada Aloo Paratha with Hare Tamatar Ki Sabji', 'Smoked Butter Chicken Combo', 'Paneer Methi Chaman Combo', 'Mutton Bhuna Combo', 'Rajma Masala Meal', 'Dal Makhani Veg Starter Combo', 'Dal Makhani Non-Veg Starter Combo', 'Malai Kofta Combo', 'Jumbo Chicken Wrap', 'Jumbo Veg Wrap', 'Jumbo Falafel Salsa Wrap', 'Chicken Overload Jumbo Wrap', 'Veg Pizza Wrap', 'Chicken Pizza Wrap', 'Mexican Potato Salsa Wrap', 'American Smokey Sausage Wrap', 'Makhani Falafel Wrap', 'Mutton Overload Wrap', 'Mac & Cheese Chicken Wrap', 'Mac & Cheese Veg Wrap', 'Barbeque Chicken Wrap', 'Mutton Boti Wrap', 'Masala Paneer Tikka Wrap', 'Fiery Paneer Tikka Wrap', 'Masala Chicken Tikka Wrap', 'Cheesy Corn Salsa Wrap', 'Chicken Mayo Wrap', 'Cheese Melt Chicken Wrap', 'Cheese Melt Paneer Wrap', 'Double Cheese Meatball Wrap', 'Reshmi Chicken Kebab Wrap', 'Egg Cheese Sausage Wrap', 'Double Egg Chatpata Wrap', 'Cheesy Potato Wrap', 'Veg Falafel Wrap', 'Chicken Bhuna Wrap', 'Chatpate Chole Wrap', 'Fiery Paneer Wrap', 'Fiery Chicken Wrap', 'Mac & Cheese Wrap', 'Hare Tamatar & Sabudana Wada Royal Thali', 'Singhada Aloo Paratha & Hare Tamatar Royal Satvik Meal', 'Smoked Butter Chicken With Omelette', 'Rajma Masala Royal Combo', 'Paneer Methi Chaman Royal Combo', 'Mutton Bhuna Royal Combo', 'Smoked Butter Chicken Royal Combo', 'Malai Kofta Royal Combo', 'Fusion Breakfast', 'Pan Cake', 'Aloo Paratha Combo', 'Chai for 4', 'Cheesy Chicken Meatballs', 'Peach Tea (Serves 4)', 'Falafel Nuggets with Mayo Dip', 'Potato Chilli Shots with Mayo Dip', 'Pan Cake', 'Kashmiri Kahwa (Serves 4)', 'Masala Chai (Serves 4)', 'Chai for 4 + Nature valley bar', 'Kulcha', 'Flavorful Rice Tub', 'Dal Makhani Bowl (Half KG)', 'Smoked Butter Chicken Bowl (Half KG)', 'Mutton Bhuna Bowl (Half KG)', 'Singhada Aloo Paratha Tub', 'Curd Bowl (Half KG)', 'Hare Tamatar Ki Subji (Half KG)', 'Rajma Masala Bowl (Half KG)', 'Triangle Paratha Tub', 'Malai Kofta Bowl (Half Kg)', 'Chocolate Fantasy', 'SWIG Jeera Masala', 'SWIG Green apple', 'Kesar Muesli', 'Gulab Jamun (Pack Of 2)', 'Plum Cake', 'Gulab Jamun (Pack of 1)', 'Moments', 'Hazelnut Brownie (Pack Of 1)', 'CheeseCake (Pack of 1)', 'Chocolate Decadence (Pack of 1)', 'Red Velvet Slice Cake (Pack of 1)', 'Mint Chaas']\",\n",
              "       ...,\n",
              "       '[\\'Veg Thai Green Curry\\', \\'BBQ Sloppy Chicken Burger\\', \"Harry\\'s Farm House Pizza\", \\'Egg Schezwan Fried Rice\\', \\'Chicken Schezwan Noodles\\', \\'Veg Platter\\', \\'Non Veg Platter\\', \\'Tom Yum Goong\\', \\'Tandoori Kalonji Aloo\\', \\'Tandoori Pesto Flowerets\\', \\'Paneer and Pineapple Tikka\\', \\'Adraki Soy Chilli Chicken Kebab\\', \\'Tandoori Chicken Lollipop\\', \\'Parpika Choosa\\', \\'Lamb Seekh Kebab\\', \\'Achari Fish Tikka\\', \\'Rumali Roti\\', \\'Naan\\', \\'Butter Naan\\', \\'Garlic Naan\\', \\'Butter Garlic Naan\\', \\'Cheese Naan\\', \\'Butter Garlic Cheese Naan\\', \\'Garlic Cheese Naan\\', \\'Veg Fried Rice\\', \\'Veg Schezwan Fried Rice\\', \\'Veg Hakka Noodles\\', \\'Veg Schezwan Noodles\\', \\'Veg Singapore Noodles\\', \\'Egg Fried Rice\\', \\'Egg Schezwan Fried Rice\\', \\'Egg Hakka Noodles\\', \\'Egg Schezwan Noodles\\', \\'Egg Singapore Noodles\\', \\'Chicken Hakka Noodles\\', \\'Chicken Schezwan Noodles\\', \\'Chicken Singapore Noodles\\', \\'Prawns Fried Rice\\', \\'Prawns Schezwan Fried Rice\\', \\'Prawns Hakka Noodles\\', \\'Prawns Schezwan Noodles\\', \\'Prawns Singapore Noodles\\', \\'Margherita Pizza\\', \"Harry\\'s Farm House Pizza\", \\'Classique Paneer Tikka Pizza\\', \\'Veg Exotica Pizza\\', \\'Thai Basil Chicken Pizza\\', \\'Classic Chicken Tikka Pizza\\', \\'Spicy Pepperoni Pizza\\', \\'Penne Rustica\\', \\'Spaghetti Aglio e Olio Pasta\\', \\'HarryÃ\\x83\\\\x83Ã\\x82\\\\x83Ã\\x83\\\\x82Ã\\x82\\\\x83Ã\\x83\\\\x83Ã\\x82\\\\x82Ã\\x83\\\\x82Ã\\x82Â¢Ã\\x83\\\\x83Ã\\x82\\\\x83Ã\\x83\\\\x82Ã\\x82\\\\x82Ã\\x83\\\\x83Ã\\x82\\\\x82Ã\\x83\\\\x82Ã\\x82\\\\x80Ã\\x83\\\\x83Ã\\x82\\\\x83Ã\\x83\\\\x82Ã\\x82\\\\x82Ã\\x83\\\\x83Ã\\x82\\\\x82Ã\\x83\\\\x82Ã\\x82\\\\x99s Mac and Cheese Pasta\\', \\'Penne Vodkatini\\', \\'Baked Butter Chicken Lasaqna\\', \\'Spaghetti Carbonara\\', \\'Straight Up Veg Burger\\', \\'BBQ Sloppy Chicken Burger\\', \\'HarryÃ\\x83\\\\x83Ã\\x82\\\\x83Ã\\x83\\\\x82Ã\\x82\\\\x83Ã\\x83\\\\x83Ã\\x82\\\\x82Ã\\x83\\\\x82Ã\\x82Â¢Ã\\x83\\\\x83Ã\\x82\\\\x83Ã\\x83\\\\x82Ã\\x82\\\\x82Ã\\x83\\\\x83Ã\\x82\\\\x82Ã\\x83\\\\x82Ã\\x82\\\\x80Ã\\x83\\\\x83Ã\\x82\\\\x83Ã\\x83\\\\x82Ã\\x82\\\\x82Ã\\x83\\\\x83Ã\\x82\\\\x82Ã\\x83\\\\x82Ã\\x82\\\\x99s Lamb Burger\\', \\'Jazz Burger\\', \\'Paneer Bhurji Pav\\', \\'Egg Kejriwal\\', \\'Anda Bhurji Pav\\', \\'Omelette Pav\\', \\'Egg Chilly\\', \\'Goan Rassa Omelette with Pav\\', \\'Veg Wok Tossed Ginger Sprout Noodles with Crackling Spinach\\', \\'Veg Kung Pao Curry\\', \\'Veg Thai Green Curry\\', \\'Veg Laksa\\', \\'Chicken Wok Tossed Ginger Sprout Noodles with Crackling Spinach\\', \\'Grilled Chilly Chicken\\', \\'Chicken Kung Pao Curry\\', \\'Chicken Thai Green Curry\\', \\'Chicken Laksa\\', \\'Sri Lankan Black Pepper Chicken\\', \\'Nasi Stir Fry Rice\\', \\'Fish Wok Tossed Ginger Sprout Noodles with Crackling Spinach\\', \\'Seafood Kung Pao Curry\\', \\'Seafood Thai Green Curry\\', \\'Seafood Laksa\\', \\'Bangkok Seafood Bowl\\', \\'Crispy Garlic Bread\\', \\'Classic Masala Peanut\\', \\'Salt and Pepper Corn\\', \\'Bombay Spiced Wedges\\', \\'Harrys Onion Rings\\', \\'French Fries\\', \\'Crispy Chilli Potatoes\\', \\'Baked Sweet Potato Wedges\\', \\'Peri Peri Salsa Fries\\', \\'Parmigiana Truffle Fries\\', \\'Chicken Tikka Poutine\\', \\'Lamb Lovers Fries\\', \\'Paneer Bhurji Pav\\', \\'Cheese Chilli Toast\\', \\'Pita Chips with Classic Hummus\\', \\'Paneer Chilli Dry\\', \\'Veg Smoked Quesadillas\\', \\'Fondue Stuffed Mushrooms\\', \\'Wonton Kachories\\', \\'Cottage Cheese Malaysian Satay\\', \\'Muchos Nachos Veggie\\', \"Harry\\'s Cheese Fondue Veg Dunks\", \\'Non Veg Smoked Quesadillas\\', \\'Chilli Chicken\\', \\'Chicken Malaysian Satay\\', \\'Drunken Chicken\\', \\'Crispy Chicken\\', \\'Andhra Chicken Pepper Fry\\', \\'Singapore Chicken Lollipop\\', \\'Fiery Schezwan Pepper Chicken\\', \\'Chilli Chicken Roll\\', \\'BBQ Rum Flambeed Wings\\', \\'Grilled Tenderloin Chilli Fry\\', \\'Keema Pav\\', \\'Pigs in a Blanket\\', \\'Kerala Buff Chilly\\', \\'Buffalo Chicken Winglets\\', \\'Pattaya Beach Fish Goujons\\', \\'Fishermans Basket\\', \"Harry\\'s Cheese Fondue Non Veg Dunks\", \\'Paneer Urban Tikka Masala\\', \"Veg Harry\\'s Stroganoff\", \\'Chicken Urban Tikka Masala\\', \\'Jamaican Jerk Chicken\\', \"Chicken Harry\\'s Stroganoff\", \\'Harrys Pepper Chicken\\', \\'Peppered Tenderloin Steak\\', \"Harry\\'s Beer Batter Fish\", \\'Smoked Paprika Fish\\', \\'Darsaan\\', \\'Sizzling Brownie\\']',\n",
              "       '[\\'Chicken Wings\\', \\'Pepper Chicken\\', \"Beef Grilled One\\'s Burger\", \\'Spicy Louisiana Pizza\\', \\'Chilly Chicken Pizza\\', \\'Chicken Mexicana Pizza\\', \\'Veg Italian Tomato and Fresh Basil Soup\\', \\'Chicken Lemon Coriander Soup\\', \\'Southern Fried Chicken\\', \\'Chicken Wings\\', \\'Gambas\\', \\'Bbq Jerk Chicken\\', \\'Chicken Nachos Carnitos\\', \\'Spicy Chicken Carrebbean Sausages\\', \\'Spicy Pork Carrebbean Sausages\\', \\'Pork Nachos Carnitos\\', \\'Beef Spicy New Orleans Braised Meat\\', \\'Cajun Spiced Fish Fingers\\', \\'Pepper Chicken\\', \\'Chicken Apollo Style\\', \\'Prawns Apollo Style\\', \\'Chicken Streetside Chilly Style\\', \\'Beef Streetside Chilly Style\\', \\'Pork Streetside Chilly Style\\', \\'Chicken Manchurian Style\\', \"Chicken Spicy Chef\\'s Special Style\", \"Beef Spicy Chef\\'s Special Style\", \"Chicken Kim\\'s Style\", \\'Beef Nachos Carnitos\\', \"Beef Kim\\'s Style\", \"Pork Kim\\'s Style\", \\'Chettinad Chicken Roast\\', \\'Chettinad Pudhina Chicken Roast\\', \\'Chicken Kabab\\', \"Prawns Spicy Chef\\'s Special Style\", \\'Prawns Manchurian Style\\', \\'Fried Beef\\', \\'Pork Spicy New Orleans Braised Meat\\', \\'Fried Pork\\', \"Prawns Kim\\'s Style\", \\'Fish Manchurian Style\\', \"Fish Spicy Chef\\'s Special Style\", \\'Fish Streetside Chilly Style\\', \\'Fish Apollo Style\\', \"Fish Kim\\'s Style\", \\'Pork Streetside Chilly Style\\', \"Pork Spicy Chef\\'s Special Style\", \\'Pork Manchurian Style\\', \\'Beef Manchurian Style\\', \"Paneer Korean Kim\\'s Style\", \\'Paneer Tangy Spinach Sauce\\', \\'Paneer Apollo Style Sauce\\', \\'Paneer Singaporean Style Sauce\\', \\'Paneer Ginger Chilly Garlic Sauce\\', \\'Paneer Ginger Chilly Garlic Sauce\\', \\'Paneer Ginger Chilly Garlic Sauce\\', \\'Paneer Hot Garlic Sauce\\', \\'Paneer Lemon Coriander Sauce\\', \"Veg Korean Kim\\'s Style\", \\'Veg Tangy Spinach Sauce\\', \\'Veg Apollo Style Sauce\\', \"Veg Korean Kim\\'s Style\", \\'Veg Singaporean Style Sauce\\', \\'Veg Ginger Chilly Garlic Sauce Burger\\', \\'Veg Chefs Super Spicy Style\\', \\'Veg Hot Garlic Sauce\\', \\'Lemon Coriander Sauce\\', \"Chicken Korean Kim\\'s Style\", \\'Chicken Tangy Spinach Sauce\\', \\'Apollo Style Sauce\\', \\'Chicken Singaporean Style Sauce\\', \\'Chicken Singaporean Style Sauce\\', \\'Chicken Chefs Super Spicy Style\\', \\'Chicken Hot Garlic Sauce\\', \\'Chicken Hot Garlic Sauce\\', \"Beef Korean Kim\\'s Style\", \\'Beef Tangy Spinach Sauce\\', \\'Beef Apollo Style Sauce\\', \\'Beef Singaporean Style Sauce\\', \\'Beef Ginger Chilly Garlic Sauce\\', \\'Beef Chefs Super Spicy Style\\', \\'Beef Chefs Super Spicy Style\\', \\'Beef Hot Garlic Sauce\\', \\'Beef Lemon Coriander Sauce\\', \"Pork Korean Kim\\'s Style\", \\'Pork Tangy Spinach Sauce\\', \\'Pork Apollo Style Sauce\\', \\'Pork Singaporean Style Sauce\\', \\'Pork Ginger Chilly Garlic Sauce\\', \\'Pork Chefs Super Spicy Style\\', \\'Pork Hot Garlic Sauce\\', \\'Pork Lemon Coriander Sauce\\', \"Fish Korean Kim\\'s Style\", \\'Fish Tangy Spinach Sauce\\', \\'Fish Apollo Style Sauce\\', \\'Fish Singaporean Style Sauce\\', \\'Fish Ginger Chilly Garlic Sauce\\', \\'Fish Chefs Super Spicy Style\\', \\'Fish Hot Garlic Sauce\\', \\'Fish Lemon Coriander Sauce\\', \"Korean Kim\\'s Style\", \\'Prawns Tangy Spinach Sauce\\', \\'Prawns Apollo Style Sauce\\', \\'Prawns Apollo Style Sauce\\', \\'Prawns Ginger Chilly Garlic Sauce\\', \\'Prawns Chefs Super Spicy Style\\', \\'Prawns Hot Garlic Sauce\\', \\'Prawns Lemon Coriander Sauce\\', \\'Veg Stir Fried Rice\\', \\'Veg Mongolian Rice\\', \\'Veg Olivers Spicy Rice\\', \\'Veg Singaporean Rice\\', \\'Egg Stir Fried Rice\\', \\'Egg Mongolian Rice\\', \\'Egg Olivers Spicy Rice\\', \\'Egg Singaporean Rice\\', \\'Chicken Stir Fried Rice\\', \\'Chicken Mongolian Rice\\', \\'Chicken Olivers Spicy Rice\\', \\'Chicken Singaporean Rice\\', \\'Beef Stir Fried Rice\\', \\'Beef Mongolian Rice\\', \\'Beef Olivers Spicy Rice\\', \\'Beef Singaporean Rice\\', \\'Pork Stir Fried Rice\\', \\'Pork Mongolian Rice\\', \\'Pork Olivers Spicy Rice\\', \\'Pork Singaporean Rice\\', \\'Fish Stir Fried Rice\\', \\'Fish Mongolian Rice\\', \\'Fish Olivers Spicy Rice\\', \\'Fish Singaporean Rice\\', \\'Prawns Stir Fried Rice\\', \\'Prawns Mongolian Rice\\', \\'Prawns Olivers Spicy Rice\\', \\'Prawns Singaporean Rice\\', \\'Veg Stir Fried Noodles\\', \\'Veg Mongolian Noodles\\', \\'Veg Olivers Spicy Noodles\\', \\'Veg Singaporean Noodles\\', \\'Egg Stir Fried Noodles\\', \\'Egg Mongolian Noodles\\', \\'Egg Olivers Spicy Noodles\\', \\'Egg Singaporean Noodles\\', \\'Chicken Stir Fried Noodles\\', \\'Chicken Mongolian Noodles\\', \\'Chicken Olivers Spicy Noodles\\', \\'Chicken Singaporean Noodles\\', \\'Beef Stir Fried Noodles\\', \\'Beef Mongolian Noodles\\', \\'Beef Olivers Spicy Noodles\\', \\'Beef Singaporean Noodles\\', \\'Pork Stir Fried Noodles\\', \\'Pork Mongolian Noodles\\', \\'Pork Olivers Spicy Noodles\\', \\'Pork Singaporean Noodles\\', \\'Fish Stir Fried Noodles\\', \\'Fish Mongolian Noodles\\', \\'Fish Olivers Spicy Noodles\\', \\'Fish Singaporean Noodles\\', \\'Prawns Stir Fried Noodles\\', \\'Prawns Mongolian Noodles\\', \\'Prawns Olivers Spicy Noodles\\', \\'Prawns Singaporean Noodles\\', \\'Mexican Bean Burger\\', \\'Bean Bbq\\', \\'Ginger Chilly Garlic Sauce Burger\\', \\'Cottage Cheese Jerky Burgers\\', \\'Spinach Ricotta Smashers\\', \\'Grilled Pepper Smashers\\', \\'Grilled Veg Sandwich\\', \\'Falafel\\', \\'Eggplant Parm\\', \"Chicken Grilled One\\'s Burger\", \"Beef Grilled One\\'s Burger\", \\'Almost Famous Moo Burger\\', \\'Miami Chicken Burger\\', \\'Miami Beef Burger\\', \\'Philly Cheesesteak Burger\\', \\'Santa Fe Beef Burger\\', \\'Cleveland Sandwich\\', \\'Philly Cheese Steak Sandwich\\', \\'Cuban Sandwich\\', \\'Pulled Chicken Sandwich\\', \\'Beef Saigon Bahn Mi Sandwich\\', \\'Pork Saigon Bahn Mi Sandwich\\', \\'Cheese Garlic Bread\\', \\'Jalapeno Poppers\\', \\'Cajun Spiced Potato Wedges\\', \\'Bruschetta\\', \\'Spring Rolls\\', \\'Crispy Potato Fingers\\', \\'Manchurian Style\\', \\'Streeside Chilly Style\\', \\'Crispy Fried Babycorn\\', \\'American Corn Bombs\\', \\'Cripsy Fried Paneer\\', \\'Pepper Salt\\', \\'OliverÃ\\x83\\\\x83Ã\\x82\\\\x83Ã\\x83\\\\x82Ã\\x82\\\\x83Ã\\x83\\\\x83Ã\\x82\\\\x82Ã\\x83\\\\x82Ã\\x82Â¢Ã\\x83\\\\x83Ã\\x82\\\\x83Ã\\x83\\\\x82Ã\\x82\\\\x82Ã\\x83\\\\x83Ã\\x82\\\\x82Ã\\x83\\\\x82Ã\\x82\\\\x80Ã\\x83\\\\x83Ã\\x82\\\\x83Ã\\x83\\\\x82Ã\\x82\\\\x82Ã\\x83\\\\x83Ã\\x82\\\\x82Ã\\x83\\\\x82Ã\\x82\\\\x99s Pepper Masala Paneer Roast\\', \\'OliverÃ\\x83\\\\x83Ã\\x82\\\\x83Ã\\x83\\\\x82Ã\\x82\\\\x83Ã\\x83\\\\x83Ã\\x82\\\\x82Ã\\x83\\\\x82Ã\\x82Â¢Ã\\x83\\\\x83Ã\\x82\\\\x83Ã\\x83\\\\x82Ã\\x82\\\\x82Ã\\x83\\\\x83Ã\\x82\\\\x82Ã\\x83\\\\x82Ã\\x82\\\\x80Ã\\x83\\\\x83Ã\\x82\\\\x83Ã\\x83\\\\x82Ã\\x82\\\\x82Ã\\x83\\\\x83Ã\\x82\\\\x82Ã\\x83\\\\x82Ã\\x82\\\\x99s Chettinad Aloo Roast\\', \\'OliverÃ\\x83\\\\x83Ã\\x82\\\\x83Ã\\x83\\\\x82Ã\\x82\\\\x83Ã\\x83\\\\x83Ã\\x82\\\\x82Ã\\x83\\\\x82Ã\\x82Â¢Ã\\x83\\\\x83Ã\\x82\\\\x83Ã\\x83\\\\x82Ã\\x82\\\\x82Ã\\x83\\\\x83Ã\\x82\\\\x82Ã\\x83\\\\x82Ã\\x82\\\\x80Ã\\x83\\\\x83Ã\\x82\\\\x83Ã\\x83\\\\x82Ã\\x82\\\\x82Ã\\x83\\\\x83Ã\\x82\\\\x82Ã\\x83\\\\x82Ã\\x82\\\\x99s Pudhina Aloo Roast\\', \\'Onion Pakoda\\', \\'Paneer Pakoda\\', \\'Egg Bhurji\\', \\'Masala Egg Pakoda\\', \\'Masala Omlette\\', \\'Egg Bhurji With Bacon & Sausage\\', \\'Chilly Egg\\', \\'Egg Bhurji With Bacon And Sausage\\', \\'Pizza Margharita\\', \\'Spicy Louisiana Pizza\\', \\'Wilted Spinach Pizza\\', \\'Eggplant Pizza\\', \\'Patata Salsa Pizza\\', \\'Stirfried Babycorn Pizza\\', \\'Arugula Pizza\\', \\'Pesto Shrooms Pizza\\', \\'Chilly Paneer Pizza\\', \\'Spicy Peri Peri Paneer & Spinach Pizza\\', \\'Mexican Nachos Special Pizza\\', \\'Chicken BBQ Pizza\\', \\'Chicken Sausage Pizza\\', \\'Chilly Chicken Pizza\\', \\'Chicken 65 Pizza\\', \\'Chicken Mexicana Pizza\\', \\'Chicken Bolognese Pizza\\', \\'Mexican Chicken Nachos Pizza\\', \\'Mexican Beef Nachos Pizza\\', \\'Arugula Bacon Pizza\\', \\'Pepperoni Pizza\\', \\'Chorizo Pizza\\', \\'Chocolate Brownie\\']',\n",
              "       \"['Dal Tadka', 'Dal Makhani', 'Paneer Tikka Masala', 'Kadai Paneer', 'Paneer Makhani', 'Malai Kofta', 'Mutton Rogan Josh', 'Jeera Rice', 'Veg Biryani', 'Murgh Dum Biryani', 'Murgh Dum Biryani [Family Pack]', 'Hara Bara Kabab', 'Paneer Tikka', 'Tandoori Murgh', 'Murgh Lahori Kalmi', 'Jalebi with Rabdi', 'Roomali Roti', 'Afghani Naan', 'Stuffed Paratha', 'Paneer Tikka Masala Meal', 'Paneer Makhani Meal', 'Veg Biryani Meal', 'Executive Veg Box Meal', 'Executive Non Veg Box Meal', 'Rajma Meal', 'Peshawari Channa Meal', 'Paneer Tikka Masala Meal', 'Paneer Makhani Meal', 'Egg Curry Meal', 'Butter Chicken Meal', 'Rara Murgh Meal', 'Mutton Rogan Josh Meal', 'Rara Mutton Meal', 'Veg Biryani Meal', 'Egg Biryani Meal', 'Murgh Dum Biryani Meal', 'Murgh Tikka Biryani Meal', 'Mutton Biryani Meal', 'Prawns Biryani Meal', 'Executive Veg Box Meal', 'Executive Non Veg Box Meal', 'Tomato Shorba', 'Murgh Shorba', 'Bagicha ka Salad', 'Karela Salad', 'Kaju Fry Salad', 'Murgh Tikka Salad', 'French Fries', 'Aloo Tak-a-Tak', 'Baby Corn Harimirch Wala', 'Bhatti ka Gobi', 'Hara Bara Kabab', 'Tandoori Mushroom', 'Mushroom Harimirch Wala', 'Paneer Resunga', 'Paneer Tikka', 'Peshawari Seekh Kabab', 'Tandoori Murgh', 'Murgh Lahori Kalmi', 'Mutton Pepper Dry', 'Macchi Amritsari', 'Macchi Tak-a-Tak', 'Tawa Macchi', 'Prawns Balaika', 'Prawns Tak-a-Tak', 'Tandoori Prawns', 'Prawns Harimirch Wala', 'Dal Tadka', 'Dal Makhani', 'Paneer Tikka Masala', 'Paneer Saagwala', 'Kadai Paneer', 'Paneer Makhani', 'Mushroom Matar', 'Veg Patiala', 'Diwani Handi', 'Kadai Veg', 'Rajma', 'Sarson ka Saag', 'Aloo Gobi Masala', 'Bhindi Do Pyaza', 'Peshawari Channa', 'Malai Kofta', 'Kaju Masala', 'Egg Bhurji', 'Egg Masala', 'Rarra Mutton', 'Mutton Rogan Josh', 'Methi Macchi Masala', 'Macchi Jalfrezi', 'Prawns Masala', 'Plain Rice', 'Curd Rice', 'Jeera Rice', 'Veg Pulao', 'Peas Pulao', 'Veg Biryani', 'Egg Biryani', 'Murgh Dum Biryani', 'Murgh Tikka Biryani', 'Mutton Biryani', 'Prawns Biryani', 'Egg Biryani [Family Pack]', 'Murgh Dum Biryani [Family Pack]', 'Murgh Tikka Biryani [Family Pack]', 'Mutton Biryani [Family Pack]', 'Prawns Biryani [Family Pack]', 'Phulka', 'Roti', 'Butter Roti', 'Harimirch Paratha', 'Lalmirch Paratha', 'Garlic Naan', 'Naan', 'Butter Naan', 'Lachha Paratha', 'Kulcha', 'Butter Kulcha', 'Makkai Ki Roti', 'Roomali Roti', 'Afghani Naan', 'Peshawari Paratha', 'Stuffed Paratha', '8 Roti ka Chota Khazana', '12 Roti ka Bada Khazana', 'Egg Paratha', 'Mutton Keema Paratha', 'Roasted Papad', 'Masala Papad', 'Plain Curd', 'Mixed Veg Raita', 'Boondi Raita', 'Cucumber Raita', 'Pineapple Raita', 'Onion Raita', 'Mint Raita', 'Rabdi', 'Jalebi', 'Jalebi with Rabdi', 'Gulab Jamun', 'Rasgulla', 'Bhune Jeere ki Chaach', 'Jal Jeera', 'Meetha Punjabi Lassi', 'Namkeen Punjabi Lassi', 'Masala Punjabi Lassi', 'Patiala Punjabi Lassi', 'Meetha Nimboo Paani', 'Namkeen Nimboo Paani', 'Roohafza Sherbat', 'Mineral Water [1 litre]']\"],\n",
              "      dtype=object)"
            ]
          },
          "metadata": {},
          "execution_count": 12
        }
      ]
    },
    {
      "cell_type": "code",
      "source": [
        "print(rest_data['reviews_list'].shape)"
      ],
      "metadata": {
        "id": "17YKE-MxqHc4",
        "colab": {
          "base_uri": "https://localhost:8080/"
        },
        "outputId": "7b27e359-74f6-4a73-aa49-21214cff803d"
      },
      "execution_count": null,
      "outputs": [
        {
          "output_type": "stream",
          "name": "stdout",
          "text": [
            "(51717,)\n"
          ]
        }
      ]
    },
    {
      "cell_type": "code",
      "source": [
        "rest_data['reviews_list'].unique()"
      ],
      "metadata": {
        "id": "nZ2QSEHC7sJR",
        "colab": {
          "base_uri": "https://localhost:8080/"
        },
        "outputId": "eedbafd6-e71a-44c2-d43f-a5a6df0704e5"
      },
      "execution_count": null,
      "outputs": [
        {
          "output_type": "execute_result",
          "data": {
            "text/plain": [
              "array(['[(\\'Rated 4.0\\', \\'RATED\\\\n  A beautiful place to dine in.The interiors take you back to the Mughal era. The lightings are just perfect.We went there on the occasion of Christmas and so they had only limited items available. But the taste and service was not compromised at all.The only complaint is that the breads could have been better.Would surely like to come here again.\\'), (\\'Rated 4.0\\', \\'RATED\\\\n  I was here for dinner with my family on a weekday. The restaurant was completely empty. Ambience is good with some good old hindi music. Seating arrangement are good too. We ordered masala papad, panner and baby corn starters, lemon and corrionder soup, butter roti, olive and chilli paratha. Food was fresh and good, service is good too. Good for family hangout.\\\\nCheers\\'), (\\'Rated 2.0\\', \\'RATED\\\\n  Its a restaurant near to Banashankari BDA. Me along with few of my office friends visited to have buffet but unfortunately they only provide veg buffet. On inquiring they said this place is mostly visited by vegetarians. Anyways we ordered ala carte items which took ages to come. Food was ok ok. Definitely not visiting anymore.\\'), (\\'Rated 4.0\\', \\'RATED\\\\n  We went here on a weekend and one of us had the buffet while two of us took Ala Carte. Firstly the ambience and service of this place is great! The buffet had a lot of items and the good was good. We had a Pumpkin Halwa intm the dessert which was amazing. Must try! The kulchas are great here. Cheers!\\'), (\\'Rated 5.0\\', \\'RATED\\\\n  The best thing about the place is itÃ\\x83\\\\x83Ã\\x82\\\\x83Ã\\x83\\\\x82Ã\\x82\\\\x82Ã\\x83\\\\x83Ã\\x82\\\\x82Ã\\x83\\\\x82Ã\\x82\\\\x92s ambiance. Second best thing was yummy ? food. We try buffet and buffet food was not disappointed us.\\\\nTest ?. ?? ?? ?? ?? ??\\\\nQuality ?. ??????????.\\\\nService: Staff was very professional and friendly.\\\\n\\\\nOverall experience was excellent.\\\\n\\\\nsubirmajumder85.wixsite.com\\'), (\\'Rated 5.0\\', \\'RATED\\\\n  Great food and pleasant ambience. Expensive but Coll place to chill and relax......\\\\n\\\\nService is really very very good and friendly staff...\\\\n\\\\nFood : 5/5\\\\nService : 5/5\\\\nAmbience :5/5\\\\nOverall :5/5\\'), (\\'Rated 4.0\\', \\'RATED\\\\n  Good ambience with tasty food.\\\\nCheese chilli paratha with Bhutta palak methi curry is a good combo.\\\\nLemon Chicken in the starters is a must try item.\\\\nEgg fried rice was also quite tasty.\\\\nIn the mocktails, recommend \"Alice in Junoon\". Do not miss it.\\'), (\\'Rated 4.0\\', \\'RATED\\\\n  You canÃ\\x83\\\\x83Ã\\x82\\\\x83Ã\\x83\\\\x82Ã\\x82\\\\x82Ã\\x83\\\\x83Ã\\x82\\\\x82Ã\\x83\\\\x82Ã\\x82\\\\x92t go wrong with Jalsa. Never been a fan of their buffet and thus always order alacarteÃ\\x83\\\\x83Ã\\x82\\\\x83Ã\\x83\\\\x82Ã\\x82\\\\x82Ã\\x83\\\\x83Ã\\x82\\\\x82Ã\\x83\\\\x82Ã\\x82\\\\x92. Service at times can be on the slower side but food is worth the wait.\\'), (\\'Rated 5.0\\', \\'RATED\\\\n  Overdelighted by the service and food provided at this place. A royal and ethnic atmosphere builds a strong essence of being in India and also the quality and taste of food is truly authentic. I would totally recommend to visit this place once.\\'), (\\'Rated 4.0\\', \\'RATED\\\\n  The place is nice and comfortable. Food wise all jalea outlets maintain a good standard. The soya chaap was a standout dish. Clearly one of trademark dish as per me and a must try.\\\\n\\\\nThe only concern is the parking. It very congested and limited to just 5cars. The basement parking is very steep and makes it cumbersome\\'), (\\'Rated 4.0\\', \\'RATED\\\\n  The place is nice and comfortable. Food wise all jalea outlets maintain a good standard. The soya chaap was a standout dish. Clearly one of trademark dish as per me and a must try.\\\\n\\\\nThe only concern is the parking. It very congested and limited to just 5cars. The basement parking is very steep and makes it cumbersome\\'), (\\'Rated 4.0\\', \\'RATED\\\\n  The place is nice and comfortable. Food wise all jalea outlets maintain a good standard. The soya chaap was a standout dish. Clearly one of trademark dish as per me and a must try.\\\\n\\\\nThe only concern is the parking. It very congested and limited to just 5cars. The basement parking is very steep and makes it cumbersome\\')]',\n",
              "       '[(\\'Rated 4.0\\', \\'RATED\\\\n  Had been here for dinner with family. Turned out to be a good choose suitable for all ages of people. Can try this place. We liked the most was their starters. Service is good. Prices are affordable. Will recommend this restaurant for early dinner. The place is little noisy.\\'), (\\'Rated 3.0\\', \\'RATED\\\\n  The ambience is really nice, staff is courteous. The price is pretty high for the quantity, but overall the experience was fine. The quality of food is nice but nothing extraordinary. They also have buffet(only veg)\\'), (\\'Rated 3.0\\', \\'RATED\\\\n  I felt good is little expensive for the quantity they serve and In terms of taste is decent. There is nothing much to talk about the ambience, regular casual dining restaurant where you can take your family for dinner or lunch. If they improve on that quantity or may be reduce the price a bit or may be improve the presentation of the food it might Manage to get more repeat customers.\\'), (\\'Rated 4.0\\', \\'RATED\\\\n  I was looking for a quite place to spend some time with family and as well wanted to try some new place. Since I was at Banashankari I thought of trying this place. The place had good rating and was part of Zomato gold. So I decided to try this place. It was a delite to see a very friendly staff and food we ordered was very tasty as well.\\\\n\\\\nFood : 4/5\\\\nAmbience :3/5\\\\nFriendly staff : 4/5\\\\nPocket friendly : 4/5\\\\n\\\\nWill definitely visit again ??\\'), (\\'Rated 4.0\\', \"RATED\\\\n  Nice place to dine and has a good ambiance... Food is good and the serving time is also good..neat restrooms and we\\'ll arranged tables....only thing is we went at 12.30 for lunch...and we noticed that they kept on playing one music back to back which was a little annoying...\\\\n\\\\n1. Chicken biriyani was so good and the chicken was fresh and tender ,rice was well cooked and overall was great\\\\n\\\\n2. Mutton biriyani was very very good and tasty and It had plenty of mutton pieces...\"), (\\'Rated 5.0\\', \\'RATED\\\\n  This place just cool ? with good ambience and slow music and having delicious food is where you find peace. Staff very friendly and they have maintained the place so clean. The price is average for what the quantity of food they serve.\\\\nThom yum Thai soup was best and was treat to mouth, roti was soft with that vilaythi paneer was perfect to have for veggie foodies, in rice we tried burnt garlic fried rice with vegetables and it was the perfect thing to end.\\'), (\\'Rated 4.0\\', \"RATED\\\\n  Quiet a good family type of place.. too calm and usually we don\\'t find crowd here.. panner curry and the deserts is what we had tasted.. they wer really good but we found it a little expensive\"), (\\'Rated 2.0\\', \"RATED\\\\n  I had a very bad experience here.\\\\nI don\\'t know about a la carte, but the buffet was the worst. They gave us complementary drink and momos before the buffet. The momos were really good.\\\\nThe number of varieties first of all was very disappointing. The service was very slow. They refilled the food very slowly. The starters were okay. The main course also was so so. There was two gravies with roti and some rice with raitha. They had chats, sev puri and pan puri, which was average. But the desert was disappointing. They had gulab Jamun and chocolate cake. The jamun was not cooked inside. There was a cold blob of raw dough inside. The chocolate cake also was really hard and not that good.\\\\nOverall the buffet was a bad experience for me.\"), (\\'Rated 4.0\\', \"RATED\\\\n  Food: 8/10\\\\nAmbience:8/10\\\\nStaff:8/10\\\\nOne of the good places to try north Indian food...but depends on ur taste buds. Not everyone will like all the items here. Specially when u r particular abt sweet and spicy food.\\\\nThere\\'s buffet available too.\\\\nWe had ordered paneer uttar dakshin and paneer kurchan..was amazing. The Gobi hara pyaz and mix veg were average.\"), (\\'Rated 3.0\\', \\'RATED\\\\n  A decent place for a family lunch or dinner.. well arranged in a simple manner. Food was tasty and the crew was very helpful and understanding..\\'), (\\'Rated 4.0\\', \"RATED\\\\n  Great place to have a heavy lunch. Good service.\\\\nThe chicken biryani was undoubtedly one of the best I\\'ve had. Biriyani and Lassi would be the suggested combo. Buffet is the talk of the place, so try according to your appetite. A nice place.\"), (\\'Rated 4.0\\', \\'RATED\\\\n  Its the one restaurant near katriguppe that i found was really good. Good variety of Chinese and thai dishes. Service is good and good place to hangout with family as its a peaceful place where noise is really less and good view.\\'), (\\'Rated 2.0\\', \"RATED\\\\n  Spice elephant soup SPL: almost manchow flavour soup.. Just above medium spicy\\\\n\\\\nLasooni fish tikka was awesome\\\\n\\\\nI don\\'t remember the dessert name but I have attached the photo .. It had vanilla ice inside wafers... Wafer was hell hard, egg smell chewy ... Nightmare dessert !\\\\n\\\\nTable leg space was very bad... I was so uncomfortable, the whole time kept on adjusting my legs\\\\n\\\\nNo parking\\\\n\\\\nFor the taste felt this is too costly\"), (\\'Rated 4.0\\', \\'RATED\\\\n  Zomato gold partner at this price. It was insane. They have really nice food. small place with very courteous staff and very cheap food for this ambience. Cost of soups is 80-100. Starters from 150-250. Main course 200-300. Cost for two was 800 for us.\\')]',\n",
              "       '[(\\'Rated 3.0\\', \"RATED\\\\n  Ambience is not that good enough and it\\'s not a pocket friendly cafe and the quantity is not that good and desserts are too good enough ??..\"), (\\'Rated 3.0\\', \"RATED\\\\n \\\\nWent there for a quick bite with friends.\\\\nThe ambience had more of corporate feel. I would say it was unique.\\\\nTried nachos, pasta churros and lasagne.\\\\n\\\\nNachos were pathetic.( Seriously don\\'t order)\\\\nPasta was okayish.\\\\nLasagne was good.\\\\nNutella churros were the best.\\\\nOverall an okayish experience!\\\\nPeace ??\"), (\\'Rated 4.0\\', \"RATED\\\\n  First of all, a big thanks to the staff of this Cafe. Very polite and courteous.\\\\n\\\\nI was there 15mins before their closing time. Without any discomfort or hesitation, the staff welcomed me with a warm smile and said they\\'re still open, though they were preparing to close the cafe for the day.\\\\n\\\\nQuickly ordered the Thai green curry, which is served with rice. They got it for me within 10mins, hot and freshly made.\\\\n\\\\nIt was tasty with the taste of coconut milk. Not very spicy, it was mild spicy.\\\\n\\\\nI saw they had yummy looking dessert menu, should go there to try them out!\\\\n\\\\nA good spacious place to hang out for coffee, pastas, pizza or Thai food.\"), (\\'Rated 3.0\\', \"RATED\\\\n  A place for people who love churos. Otherwise it\\'s a normal simple cafe like any other in town . Can go and spend the evening there . The positive being it is one of the better cafes in and around Banashankari and also the place is not very crowded .\"), (\\'Rated 3.0\\', \\'RATED\\\\n  Have been visiting this place since years. The quality has gone down drastically. Food quality has become very average from good. Service is also very bad of late.\\'), (\\'Rated 1.0\\', \\'RATED\\\\n  Really disappointed with the place.\\\\n\\\\nSeems like a old dusty store room stacked up with old sofas and chairs! The decor is soo disappointing that I cannot put it in words!\\\\nLastly the food was cherry on the cake to make it a complete worse meal.\\\\n\\\\nThis place is the last option you should ever consider.\\'), (\\'Rated 3.0\\', \\'RATED\\\\n  Congested atmosphere due to smoke from kitchen\\\\nAmbience was k\\\\nService was k .\\\\nChuros was a new experience recommended\\\\nNear to kims . Parking was not der\\'), (\\'Rated 1.0\\', \"RATED\\\\n  Cockroaches !! I Repeat cockroaches!!Bakasura was disappointed.\\\\nBeing in Banashankari, being a gold outlet and nesting them? who can even think of that. Thankfully it wasn\\'t over bakasura\\'s plate. The ambience was last cleaned a decade back i guess. A cockroach just walked over our table. As it was alive, and well moving , the bakasura couldnt take a pic of it. Then the staff had to actually take it out of our table. Such ambience ? like what are you upto?\\\\n\\\\nBakasura disapproves. I dont even want to talk about the food.\"), (\\'Rated 4.0\\', \\'RATED\\\\n  A nice place to hangout, this place looks professional and also cute. If anyone is trying churros for the first the time, this is the place to go. Cheesecake is pretty amazing too.\\\\nRecommended.\\'), (\\'Rated 4.0\\', \\'RATED\\\\n  1) pizza mocktails shakes and churros really very good\\\\n2) staff good\\\\n3) ambience simple and nice good\\\\n4) location of San churro cafe very nice\\\\n5) over San churro cafe good....\\'), (\\'Rated 3.0\\', \"RATED\\\\n  One of my favourite places that I often visit in South bangalore , but quality has been reduced than before. Little unhappy with the food this time.\\\\nBut their churros never dissapointed me. Staff are too slow and do not respond easily.\\\\n\\\\nSoups:\\\\nMinestrone soup was like vegetable stock water with vegetables in it, not happy with it.\\\\n\\\\nChurros :\\\\nIt was great as usual. A must visit place if u love churros.\\\\n\\\\nStarters:\\\\n1. Africano panner -\\\\nIt was bit sweet and not happy with the dish!!\\\\n2. Loaded nachos -\\\\nThis happened to be their one of the best dishes, but now I take back my words. Very dissapointed with the dish.\\\\n\\\\nMain course:\\\\nsicilia pizza\\\\nPizza was too good, it\\'s a must try dish.\\\\n\\\\nFinally I would recommend this place for churros and pizza .\\\\n\\\\nTaste : 6/10\\\\nAmbience :7/10\\\\nValue for money : 8/10\\\\n\\\\nOverall experience : 7.5/10\"), (\\'Rated 4.0\\', \\'RATED\\\\n  Visited this place long before, place come to.notice with the decoration lights outside the cafe. We ordered churos, pizza and hot chocolate, all were good just I little priced more.\\'), (\\'Rated 4.0\\', \\'RATED\\\\n  Spain pictures of Churros triggered Nostalgia about it , which led to Google search for Churro places in city , lucky we to get the result as San Churro cafe , we had an delectable churros here along with hot chocolate and Nachos ! Thanks for fulfilling our thirst of Spanish Churros !\\\\nFood : ???\\\\nChurros ???\\\\nHot Chocolate ?\\\\nNachos ??\\\\n\\\\nService : ??\\\\n\\\\nAmbiance : ?\\\\n\\\\nCleanliness : ??\\\\n\\\\nOne drawback : Store had some flies, I hope they take care of them for our next tour ?\\'), (\\'Rated 3.0\\', \\'RATED\\\\n  Ã\\x83\\\\x83Ã\\x82\\\\x83Ã\\x83\\\\x82Ã\\x82\\\\x82Ã\\x83\\\\x83Ã\\x82\\\\x82Ã\\x83\\\\x82Ã\\x82\\\\x93Chocolaty and churroic experienceÃ\\x83\\\\x83Ã\\x82\\\\x83Ã\\x83\\\\x82Ã\\x82\\\\x82Ã\\x83\\\\x83Ã\\x82\\\\x82Ã\\x83\\\\x82Ã\\x82\\\\x94\\\\n\\\\nHit chocolate and churro with chocolate dip in the picture.\\\\n\\\\nMy first time at this restaurant and it has delivered in service, options as well as taste.\\'), (\\'Rated 4.0\\', \\'RATED\\\\n  Though very sadly the place looks in need of retouching, but the food was great! Especially when it was super cold outside and we were super hungry, the staff was nice. We ordered the pink pasta and a pizza. Both of them were pretty good. Was really tempted to try their Churros but we were stuffed. Worth a visit and try for sure!\\'), (\\'Rated 3.0\\', \"RATED\\\\n  Churros, the restaurant\\'s eponymous offering, has to be tried. They\\'re a Mexican snack and served with chocolate sauce. Milkshakes are good too. The interior walls have murals and writings all over. Haven\\'t tried the pizzas here but the cakes and pastries were pretty good.\"), (\\'Rated 3.0\\', \"RATED\\\\n  Honestly, have only tried parcels and that too only starters and mains - never tried desserts. So this review is based on starters and mains only. The quality wasn\\'t all that great, was pretty average.\"), (\\'Rated 4.0\\', \"RATED\\\\n  Visited this place for the first time, recently. The ambience was pretty good. We ordered two \\'churros for two\\'. Having churros for the first time ever, I was way too excited and judgmental. But swear to Lord, the churros were heavenly! The chocolate sauce was the actual chocolate sauce and not nutella xD We had taken the Cross Country Ranch pizza. It was a thin crust pizza loaded with veggies.\\\\nThe place is famous for churros (the name suggests so). I would love to visit again to try all the other items out :\\')\"), (\\'Rated 4.0\\', \\'RATED\\\\n  I love the desserts more than anything here !Good place and well served !:)\\\\nWe dint like the nachos here , it was not that good as we expected !\\\\nExcept nachos almost all dish were quite good!\\'), (\\'Rated 2.0\\', \"RATED\\\\n  2nd time I have visited this place and I am surprised to see how it has declined. Churros was hard, pizza was pathetic, loaded nachos and masala Garlic bread were topped with cheese with MAYO! Yes mayonnese.. Soup has the bread crumbs in almost melted state, mocktails were average and our only Savior was pasta and caramel pudding... This place has high potential but let down by dull ambience, pretty slow and inattentive staff. Buffet price was listed as 399 but was charged 499, We still went ahead and took the deal to be very disappointed!! Most dishes were freshly cooked hence going with some starts else would rate them lower. I did not find a single person who seemed happy with their meal as moat complained about one thing or the other. That\\'ll be my last visit San Churros.\")]',\n",
              "       ...,\n",
              "       '[(\\'Rated 2.0\\', \"RATED\\\\n  We went out to this place little late on Friday evening... We got the table outside which literally gave us the feeling as if we are no where in the restaurant.\\\\nWe asked them to shift us inside as soon as any table is available, but despite table being available they couldn\\'t manage that.\\\\n\\\\nService was very very slow... For every order we have to remind them multiple times... Even for beer I don\\'t k ow why do take lot of time.\\\\n\\\\nWe ordered few starters like veg nachos, peanut masala, pizza and chicken wings... Which was ok.. Nit bad and not very good also.\\\\n\\\\nOverall rating.. 2/5\"), (\\'Rated 5.0\\', \\'RATED\\\\n  An clam and chilling out place with floks.... service was very politely presented by chef keshar and sam,,,where they suggested an amazing pizza which was absolutely marvellous,,,which went a good combination with chilled beer and cocktail....Thanks chef for making our food super delicious,,,Ã\\x83\\\\x83Ã\\x82\\\\x83Ã\\x83\\\\x82Ã\\x82\\\\x83Ã\\x83\\\\x83Ã\\x82\\\\x82Ã\\x83\\\\x82Ã\\x82Â°Ã\\x83\\\\x83Ã\\x82\\\\x83Ã\\x83\\\\x82Ã\\x82\\\\x82Ã\\x83\\\\x83Ã\\x82\\\\x82Ã\\x83\\\\x82Ã\\x82\\\\x9fÃ\\x83\\\\x83Ã\\x82\\\\x83Ã\\x83\\\\x82Ã\\x82\\\\x82Ã\\x83\\\\x83Ã\\x82\\\\x82Ã\\x83\\\\x82Ã\\x82\\\\x98Ã\\x83\\\\x83Ã\\x82\\\\x83Ã\\x83\\\\x82Ã\\x82\\\\x82Ã\\x83\\\\x83Ã\\x82\\\\x82Ã\\x83\\\\x82Ã\\x82\\\\x8dÃ\\x83\\\\x83Ã\\x82\\\\x83Ã\\x83\\\\x82Ã\\x82\\\\x83Ã\\x83\\\\x83Ã\\x82\\\\x82Ã\\x83\\\\x82Ã\\x82Â°Ã\\x83\\\\x83Ã\\x82\\\\x83Ã\\x83\\\\x82Ã\\x82\\\\x82Ã\\x83\\\\x83Ã\\x82\\\\x82Ã\\x83\\\\x82Ã\\x82\\\\x9fÃ\\x83\\\\x83Ã\\x82\\\\x83Ã\\x83\\\\x82Ã\\x82\\\\x82Ã\\x83\\\\x83Ã\\x82\\\\x82Ã\\x83\\\\x82Ã\\x82\\\\x98Ã\\x83\\\\x83Ã\\x82\\\\x83Ã\\x83\\\\x82Ã\\x82\\\\x82Ã\\x83\\\\x83Ã\\x82\\\\x82Ã\\x83\\\\x82Ã\\x82\\\\x8dThis place have beautiful ambience of smoke zone..loved it!!!!!\\'), (\\'Rated 4.0\\', \"RATED\\\\n  There\\'s more to this place than just beer!\\\\nThat\\'s true.\\\\nI visited this place on a weekday for lunch and found it to be all empty and quite which is quite contrary to the buzzing environment I\\'m generally used on weekends. My order included:\\\\nNachos for starters\\\\nVeg Platter(onion rings, spring rolls and honey chilli potatoes) for starters\\\\nPeppy Paneer pizza\\\\nEgg biryani for main course\\\\nI loved how the outer single layer of the egg was friend and make crispy,it was just perfect.\\\\nPortion was good and all the dishes were fresh n tasty.\\\\nMust visit!\\\\nbon appÃ\\x83\\\\x83Ã\\x82\\\\x83Ã\\x83\\\\x82Ã\\x82\\\\x83Ã\\x83\\\\x83Ã\\x82\\\\x82Ã\\x83\\\\x82Ã\\x82\\\\x83Ã\\x83\\\\x83Ã\\x82\\\\x83Ã\\x83\\\\x82Ã\\x82\\\\x82Ã\\x83\\\\x83Ã\\x82\\\\x82Ã\\x83\\\\x82Ã\\x82Â©tit :)\"), (\\'Rated 5.0\\', \\'RATED\\\\n  On a lazy sunday afternoon, I was craving for a good pizza..but most of my friends were out of town... I opened zomato and this restaurant just popped up.. I ordered chicken supreme pizza... oh boy! one of the best pizzas I have had.. thin crust, succulent chicken pieces generously strewn and wonderfully packed.. Thanks Beer Cafe for making such awesome pizzas and Thank you Zomato for delivering the same.. Will I order/visit again?? Ofcourse!!!!!!!!!!!!!!!!!!!!!!!!!!!!\\'), (\\'Rated 3.0\\', \"RATED\\\\n  The ambiance was pretty cool. Ordered some of their pizza varieties which I didn\\'t like much. Also had coke glass which again didn\\'t feel even like the original one.. Not chilled. Of course, it\\'s a beer cafe and I\\'m sure they would be providing nice beer and definitely the ambiance is something that one would wanna go there.\"), (\\'Rated 3.0\\', \"RATED\\\\n  Beer cafe located to vr mall, Whitefield. Its my favourite place to hangout with my friends, outside setting area is nice, but lots of mosquito, you cant seat outside but indoor its nice, food was good, talking bout service we are not happy for service , we called 2 or 3 times, i don\\'t know where they will busy, they didn\\'t came, after that my friend called again that time one guy is came nd took my order, overall all is fine.\"), (\\'Rated 3.0\\', \\'RATED\\\\n  Went for a quick bite n drinks...was planning to go from long time, n finally made it..the place is small n nice...I found the sitting arrangements really conjusted...too much crowded at Sunday night..waited for 10 to 15 mins to get a table...Good thing about the place is they take orders till late night...\\\\n\\\\nWell coming to the food...food options is not much...we ordered chicken nachos n barbeque chicken wings with some beer...food taste was average not that great..\\\\n\\\\nService is very slow..no one is interested to take the orders...no one there to serve water also...kitchen was also too slow...have to wait for half n hr for getting food...really annoying...n on the top of that you will not see any service guys around...\\\\n\\\\nOverall an okay experience...dint like their service at all...\\'), (\\'Rated 4.0\\', \\'RATED\\\\n  They have Geist on Tap, lovely selection of beer and and both indoor and Outdoor seating, including a smoking area.  For me, the food here is a big surprise and pretty darn good. Everything I had here impressed me, including the quantity and taste. I would never imagine having a Biryani at a pub, but I did try it here, and Voila, it was really yummy.\\\\n\\\\nDo try the beer braised trio chicken, the hariyali chicken tangri and the calcutta style chilli chicken, You will not regret it. Add Zomato Gold to that, and you have a winner!\\\\n\\\\ntheuncliched.com\\'), (\\'Rated 5.0\\', \\'RATED\\\\n  Amazing food. The food is so appealing and tasty that it will get over with few minutes. Must try tgere chicken nachos amazing. The ambiance is nice. Suited both for friends and family. Too good beer.\\'), (\\'Rated 4.0\\', \"RATED\\\\n  #Best place for hangout with friends. Specially in weekend.\\\\nService is good. But I didn\\'t like their beer taste. So I think they have to give good quality beer.\\\\nStaters quality and quantity was super. I had tried nacos . If you like then you try it.\"), (\\'Rated 3.0\\', \"RATED\\\\n  The kitchen is slow on a Sunday Night, with any food item taking about more than 30 mins, the servers appear helpless in this situation.\\\\n\\\\nChilli Paneer - don\\'t recommend not cooked well.Dahi Pakoda - this was decent and worth a try.\\\\nBeer as always is good.\"), (\\'Rated 4.0\\', \"RATED\\\\n  The ambience of the place is good. You have outdoor as well as indoor seatings available.\\\\nComing to the service and staff, it is great and the staff is quite friendly.\\\\nFor drinks, we ordered a mug of Budweiser. One of the best beers we have had. Pretty chilled and tasted amazing.\\\\nFor food, we ordered a plate of veg nachos and hariyali chicken tangri. Both of them were good.\\\\n\\\\nThis is the go-to place if you\\'re tired and really want to chill.\"), (\\'Rated 3.0\\', \\'RATED\\\\n  The Beer Cafe probably has one of the largest selections of bottled beers. Their courtyard seating is always buzzing with activity. The interior seating however seems a little crammed especially so with the tables close to the door.\\\\n\\\\nI was happy to see the Geist craft beer. It was refreshing and cold. We just wanted some bar food to go with the beer. The classic wings had a vinegary sourness to them and the calcutta chilli chicken had a strong dose of ketchup.\\\\n\\\\nAmbiance 4/5\\\\nFood 2/5\\\\nBeer 4/5\\\\nBeer Selection 5/5\\\\nService 3/5\\'), (\\'Rated 4.0\\', \\'RATED\\\\n  Nice and quite place to chillout with nice ambience. Staff is polite and professional. Will definitely come back and is recommended. Keep up the good work.\\'), (\\'Rated 4.0\\', \\'RATED\\\\n  Often end up here whenever I am in the vicinity solely for the foodÃ\\x83\\\\x83Ã\\x82\\\\x83Ã\\x83\\\\x82Ã\\x82\\\\x83Ã\\x83\\\\x83Ã\\x82\\\\x82Ã\\x83\\\\x82Ã\\x82Â°Ã\\x83\\\\x83Ã\\x82\\\\x83Ã\\x83\\\\x82Ã\\x82\\\\x82Ã\\x83\\\\x83Ã\\x82\\\\x82Ã\\x83\\\\x82Ã\\x82\\\\x9fÃ\\x83\\\\x83Ã\\x82\\\\x83Ã\\x83\\\\x82Ã\\x82\\\\x82Ã\\x83\\\\x83Ã\\x82\\\\x82Ã\\x83\\\\x82Ã\\x82\\\\x98Ã\\x83\\\\x83Ã\\x82\\\\x83Ã\\x83\\\\x82Ã\\x82\\\\x82Ã\\x83\\\\x83Ã\\x82\\\\x82Ã\\x83\\\\x82Ã\\x82\\\\x80 . Have tried their garden fresh pizza, chicken makhani platter and burger sliders.\\\\nThe food was really tasty. Worth a visit if around.\\\\nSeating place is ideal for small groups only .\\'), (\\'Rated 4.0\\', \\'RATED\\\\n  A nice place for beer lovers.\\\\nGreat ambiance, outdoor and indoor seating is available. Food was good. We ordered Dal Makhani, one burgers combo, a beer and lime soda.\\\\nThe food was good. Service was good, and the bill was good too, thanks to Zomato gold.\\\\nOverall a great place to catch up for small groups.\\'), (\\'Rated 3.0\\', \\'RATED\\\\n  The Beer Cafe probably has one of the largest selections of bottled beers. Their courtyard seating is always buzzing with activity. The interior seating however seems a little crammed especially so with the tables close to the door.\\\\n\\\\nI was happy to see the Geist craft beer. It was refreshing and cold. We just wanted some bar food to go with the beer. The classic wings had a vinegary sourness to them and the calcutta chilli chicken had a strong dose of ketchup.\\\\n\\\\nAmbiance 4/5\\\\nFood 2/5\\\\nBeer 4/5\\\\nBeer Selection 5/5\\\\nService 3/5\\'), (\\'Rated 4.0\\', \\'RATED\\\\n  Nice and quite place to chillout with nice ambience. Staff is polite and professional. Will definitely come back and is recommended. Keep up the good work.\\'), (\\'Rated 4.0\\', \\'RATED\\\\n  Often end up here whenever I am in the vicinity solely for the foodÃ\\x83\\\\x83Ã\\x82\\\\x83Ã\\x83\\\\x82Ã\\x82\\\\x83Ã\\x83\\\\x83Ã\\x82\\\\x82Ã\\x83\\\\x82Ã\\x82Â°Ã\\x83\\\\x83Ã\\x82\\\\x83Ã\\x83\\\\x82Ã\\x82\\\\x82Ã\\x83\\\\x83Ã\\x82\\\\x82Ã\\x83\\\\x82Ã\\x82\\\\x9fÃ\\x83\\\\x83Ã\\x82\\\\x83Ã\\x83\\\\x82Ã\\x82\\\\x82Ã\\x83\\\\x83Ã\\x82\\\\x82Ã\\x83\\\\x82Ã\\x82\\\\x98Ã\\x83\\\\x83Ã\\x82\\\\x83Ã\\x83\\\\x82Ã\\x82\\\\x82Ã\\x83\\\\x83Ã\\x82\\\\x82Ã\\x83\\\\x82Ã\\x82\\\\x80 . Have tried their garden fresh pizza, chicken makhani platter and burger sliders.\\\\nThe food was really tasty. Worth a visit if around.\\\\nSeating place is ideal for small groups only .\\'), (\\'Rated 4.0\\', \\'RATED\\\\n  A nice place for beer lovers.\\\\nGreat ambiance, outdoor and indoor seating is available. Food was good. We ordered Dal Makhani, one burgers combo, a beer and lime soda.\\\\nThe food was good. Service was good, and the bill was good too, thanks to Zomato gold.\\\\nOverall a great place to catch up for small groups.\\'), (\\'Rated 3.0\\', \\'RATED\\\\n  The Beer Cafe probably has one of the largest selections of bottled beers. Their courtyard seating is always buzzing with activity. The interior seating however seems a little crammed especially so with the tables close to the door.\\\\n\\\\nI was happy to see the Geist craft beer. It was refreshing and cold. We just wanted some bar food to go with the beer. The classic wings had a vinegary sourness to them and the calcutta chilli chicken had a strong dose of ketchup.\\\\n\\\\nAmbiance 4/5\\\\nFood 2/5\\\\nBeer 4/5\\\\nBeer Selection 5/5\\\\nService 3/5\\'), (\\'Rated 4.0\\', \\'RATED\\\\n  Nice and quite place to chillout with nice ambience. Staff is polite and professional. Will definitely come back and is recommended. Keep up the good work.\\'), (\\'Rated 4.0\\', \\'RATED\\\\n  Often end up here whenever I am in the vicinity solely for the foodÃ\\x83\\\\x83Ã\\x82\\\\x83Ã\\x83\\\\x82Ã\\x82\\\\x83Ã\\x83\\\\x83Ã\\x82\\\\x82Ã\\x83\\\\x82Ã\\x82Â°Ã\\x83\\\\x83Ã\\x82\\\\x83Ã\\x83\\\\x82Ã\\x82\\\\x82Ã\\x83\\\\x83Ã\\x82\\\\x82Ã\\x83\\\\x82Ã\\x82\\\\x9fÃ\\x83\\\\x83Ã\\x82\\\\x83Ã\\x83\\\\x82Ã\\x82\\\\x82Ã\\x83\\\\x83Ã\\x82\\\\x82Ã\\x83\\\\x82Ã\\x82\\\\x98Ã\\x83\\\\x83Ã\\x82\\\\x83Ã\\x83\\\\x82Ã\\x82\\\\x82Ã\\x83\\\\x83Ã\\x82\\\\x82Ã\\x83\\\\x82Ã\\x82\\\\x80 . Have tried their garden fresh pizza, chicken makhani platter and burger sliders.\\\\nThe food was really tasty. Worth a visit if around.\\\\nSeating place is ideal for small groups only .\\'), (\\'Rated 4.0\\', \\'RATED\\\\n  A nice place for beer lovers.\\\\nGreat ambiance, outdoor and indoor seating is available. Food was good. We ordered Dal Makhani, one burgers combo, a beer and lime soda.\\\\nThe food was good. Service was good, and the bill was good too, thanks to Zomato gold.\\\\nOverall a great place to catch up for small groups.\\'), (\\'Rated 3.0\\', \\'RATED\\\\n  The Beer Cafe probably has one of the largest selections of bottled beers. Their courtyard seating is always buzzing with activity. The interior seating however seems a little crammed especially so with the tables close to the door.\\\\n\\\\nI was happy to see the Geist craft beer. It was refreshing and cold. We just wanted some bar food to go with the beer. The classic wings had a vinegary sourness to them and the calcutta chilli chicken had a strong dose of ketchup.\\\\n\\\\nAmbiance 4/5\\\\nFood 2/5\\\\nBeer 4/5\\\\nBeer Selection 5/5\\\\nService 3/5\\'), (\\'Rated 4.0\\', \\'RATED\\\\n  Nice and quite place to chillout with nice ambience. Staff is polite and professional. Will definitely come back and is recommended. Keep up the good work.\\'), (\\'Rated 4.0\\', \\'RATED\\\\n  Often end up here whenever I am in the vicinity solely for the foodÃ\\x83\\\\x83Ã\\x82\\\\x83Ã\\x83\\\\x82Ã\\x82\\\\x83Ã\\x83\\\\x83Ã\\x82\\\\x82Ã\\x83\\\\x82Ã\\x82Â°Ã\\x83\\\\x83Ã\\x82\\\\x83Ã\\x83\\\\x82Ã\\x82\\\\x82Ã\\x83\\\\x83Ã\\x82\\\\x82Ã\\x83\\\\x82Ã\\x82\\\\x9fÃ\\x83\\\\x83Ã\\x82\\\\x83Ã\\x83\\\\x82Ã\\x82\\\\x82Ã\\x83\\\\x83Ã\\x82\\\\x82Ã\\x83\\\\x82Ã\\x82\\\\x98Ã\\x83\\\\x83Ã\\x82\\\\x83Ã\\x83\\\\x82Ã\\x82\\\\x82Ã\\x83\\\\x83Ã\\x82\\\\x82Ã\\x83\\\\x82Ã\\x82\\\\x80 . Have tried their garden fresh pizza, chicken makhani platter and burger sliders.\\\\nThe food was really tasty. Worth a visit if around.\\\\nSeating place is ideal for small groups only .\\'), (\\'Rated 4.0\\', \\'RATED\\\\n  A nice place for beer lovers.\\\\nGreat ambiance, outdoor and indoor seating is available. Food was good. We ordered Dal Makhani, one burgers combo, a beer and lime soda.\\\\nThe food was good. Service was good, and the bill was good too, thanks to Zomato gold.\\\\nOverall a great place to catch up for small groups.\\'), (\\'Rated 4.0\\', \"RATED\\\\n  Tired from all the shopping that you\\'ve done?? Worry not .. you can simply stroll into this place located right inside the VR mall. They have a seating arrangement outside the restaurant as well so you can happily chomp away your food while breathing in fresh air.\\\\nThe pepperoni pizza we ordered was hot, fresh and crisp. The service was pretty quick and the ambience was pretty cool as well.\\\\nHad a good experience here and would definitely want to revisit !\"), (\\'Rated 4.0\\', \"RATED\\\\n  Lovely place, must visit if you are visiting VR mall, cool ambience, scrumptious food, descent drinks and friendly staff. A must try dish is the hulk(veg platter) .Only thing I am not liking is the space here, it\\'s small cafe and the sitting area is not that comfortable.\"), (\\'Rated 3.0\\', \\'RATED\\\\n  Food- we were a group of 9 people and ordered the following- andey ka funda(well made, high salt content though. It was egg Bhurji on top of toast. Chicken wings- well made, kohliwada fried chicken- Overfried and due to this it became little bitter. Pasta arabiata lacked the taste. Too tangy for the palette.\\\\nAmbience- pretty similar like church street social furnitureÃ\\x83\\\\x83Ã\\x82\\\\x83Ã\\x83\\\\x82Ã\\x82\\\\x83Ã\\x83\\\\x83Ã\\x82\\\\x82Ã\\x83\\\\x82Ã\\x82Â¢Ã\\x83\\\\x83Ã\\x82\\\\x83Ã\\x83\\\\x82Ã\\x82\\\\x82Ã\\x83\\\\x83Ã\\x82\\\\x82Ã\\x83\\\\x82Ã\\x82\\\\x80Ã\\x83\\\\x83Ã\\x82\\\\x83Ã\\x83\\\\x82Ã\\x82\\\\x82Ã\\x83\\\\x83Ã\\x82\\\\x82Ã\\x83\\\\x82Ã\\x82\\\\x99s.. wood and steel.\\\\nCustomer service- Pretty slow. We had remind them 3 times to get the food as there were kids who were hungry\\\\nValue for money- Moderate. No idea why do they keep service charge inspire of governmentÃ\\x83\\\\x83Ã\\x82\\\\x83Ã\\x83\\\\x82Ã\\x82\\\\x83Ã\\x83\\\\x83Ã\\x82\\\\x82Ã\\x83\\\\x82Ã\\x82Â¢Ã\\x83\\\\x83Ã\\x82\\\\x83Ã\\x83\\\\x82Ã\\x82\\\\x82Ã\\x83\\\\x83Ã\\x82\\\\x82Ã\\x83\\\\x82Ã\\x82\\\\x80Ã\\x83\\\\x83Ã\\x82\\\\x83Ã\\x83\\\\x82Ã\\x82\\\\x82Ã\\x83\\\\x83Ã\\x82\\\\x82Ã\\x83\\\\x82Ã\\x82\\\\x99s mandate of 5% gst. Once you remind them then they say, upto you if you would like to pay or not. ItÃ\\x83\\\\x83Ã\\x82\\\\x83Ã\\x83\\\\x82Ã\\x82\\\\x83Ã\\x83\\\\x83Ã\\x82\\\\x82Ã\\x83\\\\x82Ã\\x82Â¢Ã\\x83\\\\x83Ã\\x82\\\\x83Ã\\x83\\\\x82Ã\\x82\\\\x82Ã\\x83\\\\x83Ã\\x82\\\\x82Ã\\x83\\\\x82Ã\\x82\\\\x80Ã\\x83\\\\x83Ã\\x82\\\\x83Ã\\x83\\\\x82Ã\\x82\\\\x82Ã\\x83\\\\x83Ã\\x82\\\\x82Ã\\x83\\\\x82Ã\\x82\\\\x99s a nice way of minting money from the customers\\'), (\\'Rated 3.0\\', \\'RATED\\\\n  Food : 3/5\\\\nDrinks : 4/5\\\\nService : 3/5\\\\nAmbiance : 4/5\\\\nValue for money : 3.5/5\\\\n\\\\nBeen here on a sunday evening. They didnt have place to be seated due to rain outside and too much crowd inside, but we were seated within 5mins. The servers were not able to provide service as we hoped. We had to ask them to get things like tissues, spoons, water. Overall we had nice time but it would have been better if servers were paying more attention to their customers.\\'), (\\'Rated 4.0\\', \"RATED\\\\n  Tired from all the shopping that you\\'ve done?? Worry not .. you can simply stroll into this place located right inside the VR mall. They have a seating arrangement outside the restaurant as well so you can happily chomp away your food while breathing in fresh air.\\\\nThe pepperoni pizza we ordered was hot, fresh and crisp. The service was pretty quick and the ambience was pretty cool as well.\\\\nHad a good experience here and would definitely want to revisit !\"), (\\'Rated 4.0\\', \"RATED\\\\n  Lovely place, must visit if you are visiting VR mall, cool ambience, scrumptious food, descent drinks and friendly staff. A must try dish is the hulk(veg platter) .Only thing I am not liking is the space here, it\\'s small cafe and the sitting area is not that comfortable.\"), (\\'Rated 3.0\\', \\'RATED\\\\n  Food- we were a group of 9 people and ordered the following- andey ka funda(well made, high salt content though. It was egg Bhurji on top of toast. Chicken wings- well made, kohliwada fried chicken- Overfried and due to this it became little bitter. Pasta arabiata lacked the taste. Too tangy for the palette.\\\\nAmbience- pretty similar like church street social furnitureÃ\\x83\\\\x83Ã\\x82\\\\x83Ã\\x83\\\\x82Ã\\x82\\\\x83Ã\\x83\\\\x83Ã\\x82\\\\x82Ã\\x83\\\\x82Ã\\x82Â¢Ã\\x83\\\\x83Ã\\x82\\\\x83Ã\\x83\\\\x82Ã\\x82\\\\x82Ã\\x83\\\\x83Ã\\x82\\\\x82Ã\\x83\\\\x82Ã\\x82\\\\x80Ã\\x83\\\\x83Ã\\x82\\\\x83Ã\\x83\\\\x82Ã\\x82\\\\x82Ã\\x83\\\\x83Ã\\x82\\\\x82Ã\\x83\\\\x82Ã\\x82\\\\x99s.. wood and steel.\\\\nCustomer service- Pretty slow. We had remind them 3 times to get the food as there were kids who were hungry\\\\nValue for money- Moderate. No idea why do they keep service charge inspire of governmentÃ\\x83\\\\x83Ã\\x82\\\\x83Ã\\x83\\\\x82Ã\\x82\\\\x83Ã\\x83\\\\x83Ã\\x82\\\\x82Ã\\x83\\\\x82Ã\\x82Â¢Ã\\x83\\\\x83Ã\\x82\\\\x83Ã\\x83\\\\x82Ã\\x82\\\\x82Ã\\x83\\\\x83Ã\\x82\\\\x82Ã\\x83\\\\x82Ã\\x82\\\\x80Ã\\x83\\\\x83Ã\\x82\\\\x83Ã\\x83\\\\x82Ã\\x82\\\\x82Ã\\x83\\\\x83Ã\\x82\\\\x82Ã\\x83\\\\x82Ã\\x82\\\\x99s mandate of 5% gst. Once you remind them then they say, upto you if you would like to pay or not. ItÃ\\x83\\\\x83Ã\\x82\\\\x83Ã\\x83\\\\x82Ã\\x82\\\\x83Ã\\x83\\\\x83Ã\\x82\\\\x82Ã\\x83\\\\x82Ã\\x82Â¢Ã\\x83\\\\x83Ã\\x82\\\\x83Ã\\x83\\\\x82Ã\\x82\\\\x82Ã\\x83\\\\x83Ã\\x82\\\\x82Ã\\x83\\\\x82Ã\\x82\\\\x80Ã\\x83\\\\x83Ã\\x82\\\\x83Ã\\x83\\\\x82Ã\\x82\\\\x82Ã\\x83\\\\x83Ã\\x82\\\\x82Ã\\x83\\\\x82Ã\\x82\\\\x99s a nice way of minting money from the customers\\'), (\\'Rated 3.0\\', \\'RATED\\\\n  Food : 3/5\\\\nDrinks : 4/5\\\\nService : 3/5\\\\nAmbiance : 4/5\\\\nValue for money : 3.5/5\\\\n\\\\nBeen here on a sunday evening. They didnt have place to be seated due to rain outside and too much crowd inside, but we were seated within 5mins. The servers were not able to provide service as we hoped. We had to ask them to get things like tissues, spoons, water. Overall we had nice time but it would have been better if servers were paying more attention to their customers.\\'), (\\'Rated 4.0\\', \"RATED\\\\n  Tired from all the shopping that you\\'ve done?? Worry not .. you can simply stroll into this place located right inside the VR mall. They have a seating arrangement outside the restaurant as well so you can happily chomp away your food while breathing in fresh air.\\\\nThe pepperoni pizza we ordered was hot, fresh and crisp. The service was pretty quick and the ambience was pretty cool as well.\\\\nHad a good experience here and would definitely want to revisit !\"), (\\'Rated 4.0\\', \"RATED\\\\n  Lovely place, must visit if you are visiting VR mall, cool ambience, scrumptious food, descent drinks and friendly staff. A must try dish is the hulk(veg platter) .Only thing I am not liking is the space here, it\\'s small cafe and the sitting area is not that comfortable.\"), (\\'Rated 3.0\\', \\'RATED\\\\n  Food- we were a group of 9 people and ordered the following- andey ka funda(well made, high salt content though. It was egg Bhurji on top of toast. Chicken wings- well made, kohliwada fried chicken- Overfried and due to this it became little bitter. Pasta arabiata lacked the taste. Too tangy for the palette.\\\\nAmbience- pretty similar like church street social furnitureÃ\\x83\\\\x83Ã\\x82\\\\x83Ã\\x83\\\\x82Ã\\x82\\\\x83Ã\\x83\\\\x83Ã\\x82\\\\x82Ã\\x83\\\\x82Ã\\x82Â¢Ã\\x83\\\\x83Ã\\x82\\\\x83Ã\\x83\\\\x82Ã\\x82\\\\x82Ã\\x83\\\\x83Ã\\x82\\\\x82Ã\\x83\\\\x82Ã\\x82\\\\x80Ã\\x83\\\\x83Ã\\x82\\\\x83Ã\\x83\\\\x82Ã\\x82\\\\x82Ã\\x83\\\\x83Ã\\x82\\\\x82Ã\\x83\\\\x82Ã\\x82\\\\x99s.. wood and steel.\\\\nCustomer service- Pretty slow. We had remind them 3 times to get the food as there were kids who were hungry\\\\nValue for money- Moderate. No idea why do they keep service charge inspire of governmentÃ\\x83\\\\x83Ã\\x82\\\\x83Ã\\x83\\\\x82Ã\\x82\\\\x83Ã\\x83\\\\x83Ã\\x82\\\\x82Ã\\x83\\\\x82Ã\\x82Â¢Ã\\x83\\\\x83Ã\\x82\\\\x83Ã\\x83\\\\x82Ã\\x82\\\\x82Ã\\x83\\\\x83Ã\\x82\\\\x82Ã\\x83\\\\x82Ã\\x82\\\\x80Ã\\x83\\\\x83Ã\\x82\\\\x83Ã\\x83\\\\x82Ã\\x82\\\\x82Ã\\x83\\\\x83Ã\\x82\\\\x82Ã\\x83\\\\x82Ã\\x82\\\\x99s mandate of 5% gst. Once you remind them then they say, upto you if you would like to pay or not. ItÃ\\x83\\\\x83Ã\\x82\\\\x83Ã\\x83\\\\x82Ã\\x82\\\\x83Ã\\x83\\\\x83Ã\\x82\\\\x82Ã\\x83\\\\x82Ã\\x82Â¢Ã\\x83\\\\x83Ã\\x82\\\\x83Ã\\x83\\\\x82Ã\\x82\\\\x82Ã\\x83\\\\x83Ã\\x82\\\\x82Ã\\x83\\\\x82Ã\\x82\\\\x80Ã\\x83\\\\x83Ã\\x82\\\\x83Ã\\x83\\\\x82Ã\\x82\\\\x82Ã\\x83\\\\x83Ã\\x82\\\\x82Ã\\x83\\\\x82Ã\\x82\\\\x99s a nice way of minting money from the customers\\'), (\\'Rated 3.0\\', \\'RATED\\\\n  Food : 3/5\\\\nDrinks : 4/5\\\\nService : 3/5\\\\nAmbiance : 4/5\\\\nValue for money : 3.5/5\\\\n\\\\nBeen here on a sunday evening. They didnt have place to be seated due to rain outside and too much crowd inside, but we were seated within 5mins. The servers were not able to provide service as we hoped. We had to ask them to get things like tissues, spoons, water. Overall we had nice time but it would have been better if servers were paying more attention to their customers.\\'), (\\'Rated 4.0\\', \"RATED\\\\n  Tired from all the shopping that you\\'ve done?? Worry not .. you can simply stroll into this place located right inside the VR mall. They have a seating arrangement outside the restaurant as well so you can happily chomp away your food while breathing in fresh air.\\\\nThe pepperoni pizza we ordered was hot, fresh and crisp. The service was pretty quick and the ambience was pretty cool as well.\\\\nHad a good experience here and would definitely want to revisit !\"), (\\'Rated 4.0\\', \"RATED\\\\n  Lovely place, must visit if you are visiting VR mall, cool ambience, scrumptious food, descent drinks and friendly staff. A must try dish is the hulk(veg platter) .Only thing I am not liking is the space here, it\\'s small cafe and the sitting area is not that comfortable.\"), (\\'Rated 3.0\\', \\'RATED\\\\n  Food- we were a group of 9 people and ordered the following- andey ka funda(well made, high salt content though. It was egg Bhurji on top of toast. Chicken wings- well made, kohliwada fried chicken- Overfried and due to this it became little bitter. Pasta arabiata lacked the taste. Too tangy for the palette.\\\\nAmbience- pretty similar like church street social furnitureÃ\\x83\\\\x83Ã\\x82\\\\x83Ã\\x83\\\\x82Ã\\x82\\\\x83Ã\\x83\\\\x83Ã\\x82\\\\x82Ã\\x83\\\\x82Ã\\x82Â¢Ã\\x83\\\\x83Ã\\x82\\\\x83Ã\\x83\\\\x82Ã\\x82\\\\x82Ã\\x83\\\\x83Ã\\x82\\\\x82Ã\\x83\\\\x82Ã\\x82\\\\x80Ã\\x83\\\\x83Ã\\x82\\\\x83Ã\\x83\\\\x82Ã\\x82\\\\x82Ã\\x83\\\\x83Ã\\x82\\\\x82Ã\\x83\\\\x82Ã\\x82\\\\x99s.. wood and steel.\\\\nCustomer service- Pretty slow. We had remind them 3 times to get the food as there were kids who were hungry\\\\nValue for money- Moderate. No idea why do they keep service charge inspire of governmentÃ\\x83\\\\x83Ã\\x82\\\\x83Ã\\x83\\\\x82Ã\\x82\\\\x83Ã\\x83\\\\x83Ã\\x82\\\\x82Ã\\x83\\\\x82Ã\\x82Â¢Ã\\x83\\\\x83Ã\\x82\\\\x83Ã\\x83\\\\x82Ã\\x82\\\\x82Ã\\x83\\\\x83Ã\\x82\\\\x82Ã\\x83\\\\x82Ã\\x82\\\\x80Ã\\x83\\\\x83Ã\\x82\\\\x83Ã\\x83\\\\x82Ã\\x82\\\\x82Ã\\x83\\\\x83Ã\\x82\\\\x82Ã\\x83\\\\x82Ã\\x82\\\\x99s mandate of 5% gst. Once you remind them then they say, upto you if you would like to pay or not. ItÃ\\x83\\\\x83Ã\\x82\\\\x83Ã\\x83\\\\x82Ã\\x82\\\\x83Ã\\x83\\\\x83Ã\\x82\\\\x82Ã\\x83\\\\x82Ã\\x82Â¢Ã\\x83\\\\x83Ã\\x82\\\\x83Ã\\x83\\\\x82Ã\\x82\\\\x82Ã\\x83\\\\x83Ã\\x82\\\\x82Ã\\x83\\\\x82Ã\\x82\\\\x80Ã\\x83\\\\x83Ã\\x82\\\\x83Ã\\x83\\\\x82Ã\\x82\\\\x82Ã\\x83\\\\x83Ã\\x82\\\\x82Ã\\x83\\\\x82Ã\\x82\\\\x99s a nice way of minting money from the customers\\'), (\\'Rated 3.0\\', \\'RATED\\\\n  Food : 3/5\\\\nDrinks : 4/5\\\\nService : 3/5\\\\nAmbiance : 4/5\\\\nValue for money : 3.5/5\\\\n\\\\nBeen here on a sunday evening. They didnt have place to be seated due to rain outside and too much crowd inside, but we were seated within 5mins. The servers were not able to provide service as we hoped. We had to ask them to get things like tissues, spoons, water. Overall we had nice time but it would have been better if servers were paying more attention to their customers.\\'), (\\'Rated 4.0\\', \\'RATED\\\\n  Ambience is good. Being a Sunday evening the service lagged a bit. The manager was a savior. Craft beer is good. Food quality is good. Burger tasted very yumm. The ocktober fest menu is very delightful, we had vegetable platter.\\\\nOverall a good place to unwind\\'), (\\'Rated 4.0\\', \\'RATED\\\\n  The best thing about this place is the ambience on a Saturday afternoon. ItÃ\\x83\\\\x83Ã\\x82\\\\x83Ã\\x83\\\\x82Ã\\x82\\\\x83Ã\\x83\\\\x83Ã\\x82\\\\x82Ã\\x83\\\\x82Ã\\x82Â¢Ã\\x83\\\\x83Ã\\x82\\\\x83Ã\\x83\\\\x82Ã\\x82\\\\x82Ã\\x83\\\\x83Ã\\x82\\\\x82Ã\\x83\\\\x82Ã\\x82\\\\x80Ã\\x83\\\\x83Ã\\x82\\\\x83Ã\\x83\\\\x82Ã\\x82\\\\x82Ã\\x83\\\\x83Ã\\x82\\\\x82Ã\\x83\\\\x82Ã\\x82\\\\x99s less crowded and you are served faster. I have ordered a dish of chicken sausages with mashed potato; it was better than what I have expected. I didnÃ\\x83\\\\x83Ã\\x82\\\\x83Ã\\x83\\\\x82Ã\\x82\\\\x83Ã\\x83\\\\x83Ã\\x82\\\\x82Ã\\x83\\\\x82Ã\\x82Â¢Ã\\x83\\\\x83Ã\\x82\\\\x83Ã\\x83\\\\x82Ã\\x82\\\\x82Ã\\x83\\\\x83Ã\\x82\\\\x82Ã\\x83\\\\x82Ã\\x82\\\\x80Ã\\x83\\\\x83Ã\\x82\\\\x83Ã\\x83\\\\x82Ã\\x82\\\\x82Ã\\x83\\\\x83Ã\\x82\\\\x82Ã\\x83\\\\x82Ã\\x82\\\\x99t like chicken spring rolls. It was a good experience though.\\'), (\\'Rated 5.0\\', \\'RATED\\\\n  A great place for awesome beer and long talks. Located in the left side of VR Bengaluru Mall, this place is ideal for indoor as well as outdoor seating. Staff here is highly courteous and serves well.\\\\nI ordered a Kingfisher Premium Pitcher which tasted lovely. I also ordered Stadium Style Nachos which were good and French Fries.\\\\nOverall an amazing place for gatherings.\\'), (\\'Rated 1.0\\', \\'RATED\\\\n  Bad service. Very bad service.\\\\n\\\\nWent there on a saturday night. Not crowded as the other ones and have exterior seating too. Not so scenic still good.\\\\n\\\\nThey have a big beer menu. All bottled and have fancy towes and some other blah blah stuff\\\\n\\\\nFood options and taste was not that good. We ordered onion rings, chicken wings, some steaks and burgers. All of them were like 2.5/5. Not really good but was ok.\\\\n\\\\nNOW THE SERVICE. It was very bad, pathetic actually. Nobody comes to the table on call. Your beer and food takes hours to reach you and their faces seem like we stole something from them when we ask for stuff we ordered.\\'), (\\'Rated 4.0\\', \\'RATED\\\\n  Amazing Place The best thing I liked about this place is their outside seating arrangement. One can enjoy the amazing weather of Bengaluru by sitting outside, which basically is kind of at the corner of VR mall. Coupled with Zomato Gold, the price of food gets very cheap. We ( 2 persons) managed to fill our stomach with just 750 rs (including 1 mug of beer each). We ordered Chilly chicken, 2 draught Beer and Chicken Gravy Masala with roti. \\\\n\\\\nThe food was really up to the mark and tasty.  \\\\n\\\\nSpecial Mention to their Chilly Chicken \\\\n\\\\nService : 4/5 - very courteous staff. \\\\nFood : 4/5 \\\\nAmbience : 5/5\\'), (\\'Rated 4.0\\', \\'RATED\\\\n  Ambience is good. Being a Sunday evening the service lagged a bit. The manager was a savior. Craft beer is good. Food quality is good. Burger tasted very yumm. The ocktober fest menu is very delightful, we had vegetable platter.\\\\nOverall a good place to unwind\\'), (\\'Rated 4.0\\', \\'RATED\\\\n  The best thing about this place is the ambience on a Saturday afternoon. ItÃ\\x83\\\\x83Ã\\x82\\\\x83Ã\\x83\\\\x82Ã\\x82\\\\x83Ã\\x83\\\\x83Ã\\x82\\\\x82Ã\\x83\\\\x82Ã\\x82Â¢Ã\\x83\\\\x83Ã\\x82\\\\x83Ã\\x83\\\\x82Ã\\x82\\\\x82Ã\\x83\\\\x83Ã\\x82\\\\x82Ã\\x83\\\\x82Ã\\x82\\\\x80Ã\\x83\\\\x83Ã\\x82\\\\x83Ã\\x83\\\\x82Ã\\x82\\\\x82Ã\\x83\\\\x83Ã\\x82\\\\x82Ã\\x83\\\\x82Ã\\x82\\\\x99s less crowded and you are served faster. I have ordered a dish of chicken sausages with mashed potato; it was better than what I have expected. I didnÃ\\x83\\\\x83Ã\\x82\\\\x83Ã\\x83\\\\x82Ã\\x82\\\\x83Ã\\x83\\\\x83Ã\\x82\\\\x82Ã\\x83\\\\x82Ã\\x82Â¢Ã\\x83\\\\x83Ã\\x82\\\\x83Ã\\x83\\\\x82Ã\\x82\\\\x82Ã\\x83\\\\x83Ã\\x82\\\\x82Ã\\x83\\\\x82Ã\\x82\\\\x80Ã\\x83\\\\x83Ã\\x82\\\\x83Ã\\x83\\\\x82Ã\\x82\\\\x82Ã\\x83\\\\x83Ã\\x82\\\\x82Ã\\x83\\\\x82Ã\\x82\\\\x99t like chicken spring rolls. It was a good experience though.\\'), (\\'Rated 5.0\\', \\'RATED\\\\n  A great place for awesome beer and long talks. Located in the left side of VR Bengaluru Mall, this place is ideal for indoor as well as outdoor seating. Staff here is highly courteous and serves well.\\\\nI ordered a Kingfisher Premium Pitcher which tasted lovely. I also ordered Stadium Style Nachos which were good and French Fries.\\\\nOverall an amazing place for gatherings.\\'), (\\'Rated 1.0\\', \\'RATED\\\\n  Bad service. Very bad service.\\\\n\\\\nWent there on a saturday night. Not crowded as the other ones and have exterior seating too. Not so scenic still good.\\\\n\\\\nThey have a big beer menu. All bottled and have fancy towes and some other blah blah stuff\\\\n\\\\nFood options and taste was not that good. We ordered onion rings, chicken wings, some steaks and burgers. All of them were like 2.5/5. Not really good but was ok.\\\\n\\\\nNOW THE SERVICE. It was very bad, pathetic actually. Nobody comes to the table on call. Your beer and food takes hours to reach you and their faces seem like we stole something from them when we ask for stuff we ordered.\\'), (\\'Rated 4.0\\', \\'RATED\\\\n  Amazing Place The best thing I liked about this place is their outside seating arrangement. One can enjoy the amazing weather of Bengaluru by sitting outside, which basically is kind of at the corner of VR mall. Coupled with Zomato Gold, the price of food gets very cheap. We ( 2 persons) managed to fill our stomach with just 750 rs (including 1 mug of beer each). We ordered Chilly chicken, 2 draught Beer and Chicken Gravy Masala with roti. \\\\n\\\\nThe food was really up to the mark and tasty.  \\\\n\\\\nSpecial Mention to their Chilly Chicken \\\\n\\\\nService : 4/5 - very courteous staff. \\\\nFood : 4/5 \\\\nAmbience : 5/5\\'), (\\'Rated 4.0\\', \\'RATED\\\\n  Ambience is good. Being a Sunday evening the service lagged a bit. The manager was a savior. Craft beer is good. Food quality is good. Burger tasted very yumm. The ocktober fest menu is very delightful, we had vegetable platter.\\\\nOverall a good place to unwind\\'), (\\'Rated 4.0\\', \\'RATED\\\\n  The best thing about this place is the ambience on a Saturday afternoon. ItÃ\\x83\\\\x83Ã\\x82\\\\x83Ã\\x83\\\\x82Ã\\x82\\\\x83Ã\\x83\\\\x83Ã\\x82\\\\x82Ã\\x83\\\\x82Ã\\x82Â¢Ã\\x83\\\\x83Ã\\x82\\\\x83Ã\\x83\\\\x82Ã\\x82\\\\x82Ã\\x83\\\\x83Ã\\x82\\\\x82Ã\\x83\\\\x82Ã\\x82\\\\x80Ã\\x83\\\\x83Ã\\x82\\\\x83Ã\\x83\\\\x82Ã\\x82\\\\x82Ã\\x83\\\\x83Ã\\x82\\\\x82Ã\\x83\\\\x82Ã\\x82\\\\x99s less crowded and you are served faster. I have ordered a dish of chicken sausages with mashed potato; it was better than what I have expected. I didnÃ\\x83\\\\x83Ã\\x82\\\\x83Ã\\x83\\\\x82Ã\\x82\\\\x83Ã\\x83\\\\x83Ã\\x82\\\\x82Ã\\x83\\\\x82Ã\\x82Â¢Ã\\x83\\\\x83Ã\\x82\\\\x83Ã\\x83\\\\x82Ã\\x82\\\\x82Ã\\x83\\\\x83Ã\\x82\\\\x82Ã\\x83\\\\x82Ã\\x82\\\\x80Ã\\x83\\\\x83Ã\\x82\\\\x83Ã\\x83\\\\x82Ã\\x82\\\\x82Ã\\x83\\\\x83Ã\\x82\\\\x82Ã\\x83\\\\x82Ã\\x82\\\\x99t like chicken spring rolls. It was a good experience though.\\'), (\\'Rated 5.0\\', \\'RATED\\\\n  A great place for awesome beer and long talks. Located in the left side of VR Bengaluru Mall, this place is ideal for indoor as well as outdoor seating. Staff here is highly courteous and serves well.\\\\nI ordered a Kingfisher Premium Pitcher which tasted lovely. I also ordered Stadium Style Nachos which were good and French Fries.\\\\nOverall an amazing place for gatherings.\\'), (\\'Rated 1.0\\', \\'RATED\\\\n  Bad service. Very bad service.\\\\n\\\\nWent there on a saturday night. Not crowded as the other ones and have exterior seating too. Not so scenic still good.\\\\n\\\\nThey have a big beer menu. All bottled and have fancy towes and some other blah blah stuff\\\\n\\\\nFood options and taste was not that good. We ordered onion rings, chicken wings, some steaks and burgers. All of them were like 2.5/5. Not really good but was ok.\\\\n\\\\nNOW THE SERVICE. It was very bad, pathetic actually. Nobody comes to the table on call. Your beer and food takes hours to reach you and their faces seem like we stole something from them when we ask for stuff we ordered.\\'), (\\'Rated 4.0\\', \\'RATED\\\\n  Amazing Place The best thing I liked about this place is their outside seating arrangement. One can enjoy the amazing weather of Bengaluru by sitting outside, which basically is kind of at the corner of VR mall. Coupled with Zomato Gold, the price of food gets very cheap. We ( 2 persons) managed to fill our stomach with just 750 rs (including 1 mug of beer each). We ordered Chilly chicken, 2 draught Beer and Chicken Gravy Masala with roti. \\\\n\\\\nThe food was really up to the mark and tasty.  \\\\n\\\\nSpecial Mention to their Chilly Chicken \\\\n\\\\nService : 4/5 - very courteous staff. \\\\nFood : 4/5 \\\\nAmbience : 5/5\\'), (\\'Rated 5.0\\', \\'RATED\\\\n  Beer cafe ,VR Bengaluru\\\\nBeen here a few times , small place , good options of beer\\\\nOne of the few places in Whitefield which serve Budweiser draught beer\\\\nThe ambience is ok\\\\nService is little slow ,but friendly staff\\\\nFood is good too , no complaints there\\\\nZomato gold on food makes it pocket friendly .\\'), (\\'Rated 2.0\\', \\'RATED\\\\n  For a place with a name like beer cafe, I would expect them to have stock of popular varients of beer. But no. Food is meh. Service is God damn slow.\\'), (\\'Rated 5.0\\', \"RATED\\\\n  Small but nice ambience, friendly staff, varieties in beer and yummy pizzas make this beer cafe amazing place to sit n drink .. service is good especially Rajen is very courteous n friendly .. overall it\\'s a highly recommended place to all beer lovers ..\"), (\\'Rated 3.0\\', \"RATED\\\\n  The place small however it\\'s has all verities of beer which is great .We were visited here on Sunday afternoon where number of people in the restaurant less and it was not that crowded.\\\\n\\\\nI can rate beer @ 5 star however food is not up to the mark. Whoever likes to test different beers from around the world this is the place is must go.\\\\n\\\\nFood :3/5\\\\nDrinks:5/5\\\\nAmbiance:3.5/5\"), (\\'Rated 3.0\\', \\'RATED\\\\n  Situated in the ground floor of VR mall Mahadevapura, Beer cafe is a small pub. To be honest it is really small, although they have outdoor sitting but in case of downpour there wonÃ\\x83\\\\x83Ã\\x82\\\\x83Ã\\x83\\\\x82Ã\\x82\\\\x83Ã\\x83\\\\x83Ã\\x82\\\\x82Ã\\x83\\\\x82Ã\\x82Â¢Ã\\x83\\\\x83Ã\\x82\\\\x83Ã\\x83\\\\x82Ã\\x82\\\\x82Ã\\x83\\\\x83Ã\\x82\\\\x82Ã\\x83\\\\x82Ã\\x82\\\\x80Ã\\x83\\\\x83Ã\\x82\\\\x83Ã\\x83\\\\x82Ã\\x82\\\\x82Ã\\x83\\\\x83Ã\\x82\\\\x82Ã\\x83\\\\x82Ã\\x82\\\\x99t be much room to relax.\\\\nSo, as per my experience service was really slow and hence the 3 star.\\\\nMy friends like their orange flavoured wheat beer whereas I was happy with my fresh lime soda Ã\\x83\\\\x83Ã\\x82\\\\x83Ã\\x83\\\\x82Ã\\x82\\\\x83Ã\\x83\\\\x83Ã\\x82\\\\x82Ã\\x83\\\\x82Ã\\x82Â°Ã\\x83\\\\x83Ã\\x82\\\\x83Ã\\x83\\\\x82Ã\\x82\\\\x82Ã\\x83\\\\x83Ã\\x82\\\\x82Ã\\x83\\\\x82Ã\\x82\\\\x9fÃ\\x83\\\\x83Ã\\x82\\\\x83Ã\\x83\\\\x82Ã\\x82\\\\x82Ã\\x83\\\\x83Ã\\x82\\\\x82Ã\\x83\\\\x82Ã\\x82\\\\x98Ã\\x83\\\\x83Ã\\x82\\\\x83Ã\\x83\\\\x82Ã\\x82\\\\x82Ã\\x83\\\\x83Ã\\x82\\\\x82Ã\\x83\\\\x82Ã\\x82Â¬. Food menu is very limited for vegetarian and starters in particular was disappointing for me.\\'), (\\'Rated 5.0\\', \\'RATED\\\\n  Beer cafe ,VR Bengaluru\\\\nBeen here a few times , small place , good options of beer\\\\nOne of the few places in Whitefield which serve Budweiser draught beer\\\\nThe ambience is ok\\\\nService is little slow ,but friendly staff\\\\nFood is good too , no complaints there\\\\nZomato gold on food makes it pocket friendly .\\'), (\\'Rated 2.0\\', \\'RATED\\\\n  For a place with a name like beer cafe, I would expect them to have stock of popular varients of beer. But no. Food is meh. Service is God damn slow.\\'), (\\'Rated 5.0\\', \"RATED\\\\n  Small but nice ambience, friendly staff, varieties in beer and yummy pizzas make this beer cafe amazing place to sit n drink .. service is good especially Rajen is very courteous n friendly .. overall it\\'s a highly recommended place to all beer lovers ..\"), (\\'Rated 3.0\\', \"RATED\\\\n  The place small however it\\'s has all verities of beer which is great .We were visited here on Sunday afternoon where number of people in the restaurant less and it was not that crowded.\\\\n\\\\nI can rate beer @ 5 star however food is not up to the mark. Whoever likes to test different beers from around the world this is the place is must go.\\\\n\\\\nFood :3/5\\\\nDrinks:5/5\\\\nAmbiance:3.5/5\"), (\\'Rated 3.0\\', \\'RATED\\\\n  Situated in the ground floor of VR mall Mahadevapura, Beer cafe is a small pub. To be honest it is really small, although they have outdoor sitting but in case of downpour there wonÃ\\x83\\\\x83Ã\\x82\\\\x83Ã\\x83\\\\x82Ã\\x82\\\\x83Ã\\x83\\\\x83Ã\\x82\\\\x82Ã\\x83\\\\x82Ã\\x82Â¢Ã\\x83\\\\x83Ã\\x82\\\\x83Ã\\x83\\\\x82Ã\\x82\\\\x82Ã\\x83\\\\x83Ã\\x82\\\\x82Ã\\x83\\\\x82Ã\\x82\\\\x80Ã\\x83\\\\x83Ã\\x82\\\\x83Ã\\x83\\\\x82Ã\\x82\\\\x82Ã\\x83\\\\x83Ã\\x82\\\\x82Ã\\x83\\\\x82Ã\\x82\\\\x99t be much room to relax.\\\\nSo, as per my experience service was really slow and hence the 3 star.\\\\nMy friends like their orange flavoured wheat beer whereas I was happy with my fresh lime soda Ã\\x83\\\\x83Ã\\x82\\\\x83Ã\\x83\\\\x82Ã\\x82\\\\x83Ã\\x83\\\\x83Ã\\x82\\\\x82Ã\\x83\\\\x82Ã\\x82Â°Ã\\x83\\\\x83Ã\\x82\\\\x83Ã\\x83\\\\x82Ã\\x82\\\\x82Ã\\x83\\\\x83Ã\\x82\\\\x82Ã\\x83\\\\x82Ã\\x82\\\\x9fÃ\\x83\\\\x83Ã\\x82\\\\x83Ã\\x83\\\\x82Ã\\x82\\\\x82Ã\\x83\\\\x83Ã\\x82\\\\x82Ã\\x83\\\\x82Ã\\x82\\\\x98Ã\\x83\\\\x83Ã\\x82\\\\x83Ã\\x83\\\\x82Ã\\x82\\\\x82Ã\\x83\\\\x83Ã\\x82\\\\x82Ã\\x83\\\\x82Ã\\x82Â¬. Food menu is very limited for vegetarian and starters in particular was disappointing for me.\\'), (\\'Rated 5.0\\', \\'RATED\\\\n  Beer cafe ,VR Bengaluru\\\\nBeen here a few times , small place , good options of beer\\\\nOne of the few places in Whitefield which serve Budweiser draught beer\\\\nThe ambience is ok\\\\nService is little slow ,but friendly staff\\\\nFood is good too , no complaints there\\\\nZomato gold on food makes it pocket friendly .\\'), (\\'Rated 2.0\\', \\'RATED\\\\n  For a place with a name like beer cafe, I would expect them to have stock of popular varients of beer. But no. Food is meh. Service is God damn slow.\\'), (\\'Rated 5.0\\', \"RATED\\\\n  Small but nice ambience, friendly staff, varieties in beer and yummy pizzas make this beer cafe amazing place to sit n drink .. service is good especially Rajen is very courteous n friendly .. overall it\\'s a highly recommended place to all beer lovers ..\"), (\\'Rated 3.0\\', \"RATED\\\\n  The place small however it\\'s has all verities of beer which is great .We were visited here on Sunday afternoon where number of people in the restaurant less and it was not that crowded.\\\\n\\\\nI can rate beer @ 5 star however food is not up to the mark. Whoever likes to test different beers from around the world this is the place is must go.\\\\n\\\\nFood :3/5\\\\nDrinks:5/5\\\\nAmbiance:3.5/5\"), (\\'Rated 3.0\\', \\'RATED\\\\n  Situated in the ground floor of VR mall Mahadevapura, Beer cafe is a small pub. To be honest it is really small, although they have outdoor sitting but in case of downpour there wonÃ\\x83\\\\x83Ã\\x82\\\\x83Ã\\x83\\\\x82Ã\\x82\\\\x83Ã\\x83\\\\x83Ã\\x82\\\\x82Ã\\x83\\\\x82Ã\\x82Â¢Ã\\x83\\\\x83Ã\\x82\\\\x83Ã\\x83\\\\x82Ã\\x82\\\\x82Ã\\x83\\\\x83Ã\\x82\\\\x82Ã\\x83\\\\x82Ã\\x82\\\\x80Ã\\x83\\\\x83Ã\\x82\\\\x83Ã\\x83\\\\x82Ã\\x82\\\\x82Ã\\x83\\\\x83Ã\\x82\\\\x82Ã\\x83\\\\x82Ã\\x82\\\\x99t be much room to relax.\\\\nSo, as per my experience service was really slow and hence the 3 star.\\\\nMy friends like their orange flavoured wheat beer whereas I was happy with my fresh lime soda Ã\\x83\\\\x83Ã\\x82\\\\x83Ã\\x83\\\\x82Ã\\x82\\\\x83Ã\\x83\\\\x83Ã\\x82\\\\x82Ã\\x83\\\\x82Ã\\x82Â°Ã\\x83\\\\x83Ã\\x82\\\\x83Ã\\x83\\\\x82Ã\\x82\\\\x82Ã\\x83\\\\x83Ã\\x82\\\\x82Ã\\x83\\\\x82Ã\\x82\\\\x9fÃ\\x83\\\\x83Ã\\x82\\\\x83Ã\\x83\\\\x82Ã\\x82\\\\x82Ã\\x83\\\\x83Ã\\x82\\\\x82Ã\\x83\\\\x82Ã\\x82\\\\x98Ã\\x83\\\\x83Ã\\x82\\\\x83Ã\\x83\\\\x82Ã\\x82\\\\x82Ã\\x83\\\\x83Ã\\x82\\\\x82Ã\\x83\\\\x82Ã\\x82Â¬. Food menu is very limited for vegetarian and starters in particular was disappointing for me.\\'), (\\'Rated 3.0\\', \"RATED\\\\n  It\\'s a good place. The ambience created using beer bottles is great however the place is small and cramped so u cannot enjoy the place. The choices of beer is great but food is Lil disappointing. They lack in providing much options. The snacks I ordered were only n lacked crispiness. On the whole it\\'s a place to try.\"), (\\'Rated 1.0\\', \\'RATED\\\\n  Over atrocious place . A place where you should not go second time to say the least . People here have no knowledge about the food they have in their menu . They donÃ\\x83\\\\x83Ã\\x82\\\\x83Ã\\x83\\\\x82Ã\\x82\\\\x83Ã\\x83\\\\x83Ã\\x82\\\\x82Ã\\x83\\\\x82Ã\\x82Â¢Ã\\x83\\\\x83Ã\\x82\\\\x83Ã\\x83\\\\x82Ã\\x82\\\\x82Ã\\x83\\\\x83Ã\\x82\\\\x82Ã\\x83\\\\x82Ã\\x82\\\\x80Ã\\x83\\\\x83Ã\\x82\\\\x83Ã\\x83\\\\x82Ã\\x82\\\\x82Ã\\x83\\\\x83Ã\\x82\\\\x82Ã\\x83\\\\x82Ã\\x82\\\\x99t know how to make a baad Maggi ( we had to order these as one of my friend wanted to have ) apart from that all starters were useless and without taste . Road side wine shops are better than this . And who gave them the place to set up in VR mall . Beer is not at all good and the person there will say this beer not available whatever you ask. For . I will strongly recommend not to go there and waste your precious money . Food takes much longer time to be served which should not be an ideal case in a bar or any other beer cafe.\\'), (\\'Rated 5.0\\', \\'RATED\\\\n  Very chilled out place, go with friends or alone. Nice food and drinks are reasonably priced. Should try french fries, egg burji and also the pizzas. Outside sitting is recommended.\\'), (\\'Rated 5.0\\', \\'RATED\\\\n  The first thing that hits you when you enter is the quaintness\\\\nLove the way it is done up and innovative ideas in terms of beer and what to choose\\\\nSuperb location too right guy at the entrance of the mall with out door and indoor setting\\\\nBest way to get out battery charger after a shopping spree\\\\nWe had the Get at and regular beer on tap\\\\nThe onion rings and potato skins were too yum\\\\nService great\\\\nMusic good\\\\nFood and beer yum\\\\nThank you Rajeev for serving is and giving us a good time\\')]',\n",
              "       '[(\\'Rated 4.0\\', \\'RATED\\\\n  A good place to dine. Very friendly staff and the management as well. Food is good too. Ambience is soothing and the music is a great add on to that place. Plus they screen matches as well which is great for a sports fan.\\'), (\\'Rated 4.0\\', \\'RATED\\\\n  This place is huge! Fooled by the entrance, I didnt expect the place to be large. No issues finding a table :P\\\\n\\\\nThe service here is good, we were well attended to and the servers kept a good eye on the water levels in our glass. The food however took some time to get ready after order.\\\\n\\\\nThey have a good selection of food, I liked the food here. Alcohol here is reasonably priced. Bacon was a let down though, it was very salty.\\'), (\\'Rated 4.0\\', \\'RATED\\\\n  Went to this place on Sunday afternoon it was empty. We were the only guest available there. Food was great and Alcoholic drinks had one plus one offer.\\\\nWe asked for Axis bank discount of 15% as mentioned in the Zomato application but they refused. Apart from this it was great place to hang out.\\'), (\\'Rated 3.0\\', \"RATED\\\\n  We went to this place for sort of after party, from some nearby place. We didn\\'t ate much...had beers and french fries.\\\\nWhen we entered, we sort of liked this place majorly coz of some open space and live music; but then service here was pathetic..we have to wait for more than 10 mins just for someone to attend us and take order and it seemed that waiters were least bothered about it.\\\\n\\\\nI wanted to give this place 2/5; but then just coz I liked the atmosphere and live music...I am going with 3/5.\"), (\\'Rated 3.0\\', \\'RATED\\\\n  Had visited this place on Saturday evening.tried diffetent beers.chilli beer was okay but cucumber was way too bad.ambience was pretty nice.hated the pesto pizza corn was really great!\\'), (\\'Rated 2.0\\', \"RATED\\\\n  What started as a good evening ended as an average experience! This is a spacious , open ambience setup which went fabulously well with the awesome music but their food and customer service dampened our spirits. Our order for chicken steak came out as a totally different recipe (one in menu was different) and they didn\\'t offer any apologies or something to the mistake, instead made us wait for over 20 minutes for a rehash of the same dish. These guys need a tutorial on customer service!\"), (\\'Rated 5.0\\', \\'RATED\\\\n  I like this place so much because of its ambience more. This is my 4th visit to PabloÃ\\x83\\\\x83Ã\\x82\\\\x83Ã\\x83\\\\x82Ã\\x82\\\\x83Ã\\x83\\\\x83Ã\\x82\\\\x82Ã\\x83\\\\x82Ã\\x82Â¢Ã\\x83\\\\x83Ã\\x82\\\\x83Ã\\x83\\\\x82Ã\\x82\\\\x82Ã\\x83\\\\x83Ã\\x82\\\\x82Ã\\x83\\\\x82Ã\\x82\\\\x80Ã\\x83\\\\x83Ã\\x82\\\\x83Ã\\x83\\\\x82Ã\\x82\\\\x82Ã\\x83\\\\x83Ã\\x82\\\\x82Ã\\x83\\\\x82Ã\\x82\\\\x99s and every time I liked this place. If you like karaoke then please plan to PabloÃ\\x83\\\\x83Ã\\x82\\\\x83Ã\\x83\\\\x82Ã\\x82\\\\x83Ã\\x83\\\\x83Ã\\x82\\\\x82Ã\\x83\\\\x82Ã\\x82Â¢Ã\\x83\\\\x83Ã\\x82\\\\x83Ã\\x83\\\\x82Ã\\x82\\\\x82Ã\\x83\\\\x83Ã\\x82\\\\x82Ã\\x83\\\\x82Ã\\x82\\\\x80Ã\\x83\\\\x83Ã\\x82\\\\x83Ã\\x83\\\\x82Ã\\x82\\\\x82Ã\\x83\\\\x83Ã\\x82\\\\x82Ã\\x83\\\\x82Ã\\x82\\\\x99s on Friday night. And definitely you will enjoy your Friday night. They served hooka as well, that add an additional attraction to this place. Coming to food, no doubt all the dishes here is so tasty. Chilli chicken was so yummy. We applied our zomato gold and we got offered on drink (2+2). Overall experience was nice.\\'), (\\'Rated 4.0\\', \\'RATED\\\\n  I only look for good food and courteous staff because I think everything else depends on your company. So, its fist bump for both these qualities for this place. I ordered Cheese balls, garlic cheese poppers, beer battered onion rings for the starters plus Peach and Passion fruit Iced tea.\\\\nFor main course, I ordered Spanish rice with paneer steak. Everything was yum, exactly how I like it. Give it a guys!!\\'), (\\'Rated 4.0\\', \\'RATED\\\\n  A place where you really want to hop around with your friends and chill out. I went here at Saturday night and yes it was amazing for me. Good food and a music made us all set and I really enjoyed a lot with my friends.\\\\n#foodiesapien\\\\nFollow me on youtube : Foodie Sapien\\\\nInstagram : manishpushkar\\'), (\\'Rated 4.0\\', \"RATED\\\\n  Visited this place on a Saturday late evening. From the outside though there is a huge hoarding and everything it totally doesn\\'t prepare you for what\\'s in store inside. The place is quite massive with huge seating area. It\\'s a good place for watching matches too as there are a couple of giant screens there. We (a group of 5) got a place almost immediately on reaching and let me tell you that place was quite crowded but it\\'s the widespread seating area that made it possible. For food we tried a couple of starters both of which were good. Coming to drinks we stuck to the age old cocktails. Whiskey sour and liit. Both of which were concentrated and one of them was enough to get you buzzed. The staff was prompt and helpful as well.\\\\nOverall a good experience.\\\\nHoping to try out more from the food menu the next time I visit. Ã\\x83\\\\x83Ã\\x82\\\\x83Ã\\x83\\\\x82Ã\\x82\\\\x83Ã\\x83\\\\x83Ã\\x82\\\\x82Ã\\x83\\\\x82Ã\\x82Â°Ã\\x83\\\\x83Ã\\x82\\\\x83Ã\\x83\\\\x82Ã\\x82\\\\x82Ã\\x83\\\\x83Ã\\x82\\\\x82Ã\\x83\\\\x82Ã\\x82\\\\x9fÃ\\x83\\\\x83Ã\\x82\\\\x83Ã\\x83\\\\x82Ã\\x82\\\\x82Ã\\x83\\\\x83Ã\\x82\\\\x82Ã\\x83\\\\x82Ã\\x82\\\\x98Ã\\x83\\\\x83Ã\\x82\\\\x83Ã\\x83\\\\x82Ã\\x82\\\\x82Ã\\x83\\\\x83Ã\\x82\\\\x82Ã\\x83\\\\x82Ã\\x82\\\\x81\"), (\\'Rated 2.0\\', \\'RATED\\\\n  Having heard from a lot of my friends that itÃ\\x83\\\\x83Ã\\x82\\\\x83Ã\\x83\\\\x82Ã\\x82\\\\x83Ã\\x83\\\\x83Ã\\x82\\\\x82Ã\\x83\\\\x82Ã\\x82Â¢Ã\\x83\\\\x83Ã\\x82\\\\x83Ã\\x83\\\\x82Ã\\x82\\\\x82Ã\\x83\\\\x83Ã\\x82\\\\x82Ã\\x83\\\\x82Ã\\x82\\\\x80Ã\\x83\\\\x83Ã\\x82\\\\x83Ã\\x83\\\\x82Ã\\x82\\\\x82Ã\\x83\\\\x83Ã\\x82\\\\x82Ã\\x83\\\\x82Ã\\x82\\\\x99s a great Ã\\x83\\\\x83Ã\\x82\\\\x83Ã\\x83\\\\x82Ã\\x82\\\\x83Ã\\x83\\\\x83Ã\\x82\\\\x82Ã\\x83\\\\x82Ã\\x82Â¢Ã\\x83\\\\x83Ã\\x82\\\\x83Ã\\x83\\\\x82Ã\\x82\\\\x82Ã\\x83\\\\x83Ã\\x82\\\\x82Ã\\x83\\\\x82Ã\\x82\\\\x80Ã\\x83\\\\x83Ã\\x82\\\\x83Ã\\x83\\\\x82Ã\\x82\\\\x82Ã\\x83\\\\x83Ã\\x82\\\\x82Ã\\x83\\\\x82Ã\\x82\\\\x9changoutÃ\\x83\\\\x83Ã\\x82\\\\x83Ã\\x83\\\\x82Ã\\x82\\\\x83Ã\\x83\\\\x83Ã\\x82\\\\x82Ã\\x83\\\\x82Ã\\x82Â¢Ã\\x83\\\\x83Ã\\x82\\\\x83Ã\\x83\\\\x82Ã\\x82\\\\x82Ã\\x83\\\\x83Ã\\x82\\\\x82Ã\\x83\\\\x82Ã\\x82\\\\x80Ã\\x83\\\\x83Ã\\x82\\\\x83Ã\\x83\\\\x82Ã\\x82\\\\x82Ã\\x83\\\\x83Ã\\x82\\\\x82Ã\\x83\\\\x82Ã\\x82\\\\x9d, finally decided to visit for a lazy Thursday dinner and was rather disappointed. The place looked very dull, even with half of it occupied - the music was okay but definitely reminded me of my high school playlist. The food is nothing to write home about, the beers are good though but the cocktails are meh. I donÃ\\x83\\\\x83Ã\\x82\\\\x83Ã\\x83\\\\x82Ã\\x82\\\\x83Ã\\x83\\\\x83Ã\\x82\\\\x82Ã\\x83\\\\x82Ã\\x82Â¢Ã\\x83\\\\x83Ã\\x82\\\\x83Ã\\x83\\\\x82Ã\\x82\\\\x82Ã\\x83\\\\x83Ã\\x82\\\\x82Ã\\x83\\\\x82Ã\\x82\\\\x80Ã\\x83\\\\x83Ã\\x82\\\\x83Ã\\x83\\\\x82Ã\\x82\\\\x82Ã\\x83\\\\x83Ã\\x82\\\\x82Ã\\x83\\\\x82Ã\\x82\\\\x99t think IÃ\\x83\\\\x83Ã\\x82\\\\x83Ã\\x83\\\\x82Ã\\x82\\\\x83Ã\\x83\\\\x83Ã\\x82\\\\x82Ã\\x83\\\\x82Ã\\x82Â¢Ã\\x83\\\\x83Ã\\x82\\\\x83Ã\\x83\\\\x82Ã\\x82\\\\x82Ã\\x83\\\\x83Ã\\x82\\\\x82Ã\\x83\\\\x82Ã\\x82\\\\x80Ã\\x83\\\\x83Ã\\x82\\\\x83Ã\\x83\\\\x82Ã\\x82\\\\x82Ã\\x83\\\\x83Ã\\x82\\\\x82Ã\\x83\\\\x82Ã\\x82\\\\x99d be heading back soon considering the fact that there are a lot more places around we would rather go to.\\\\n\\\\nAmbience : 2.5/5\\\\nFood : 2.5/5\\\\nPricing : 2.5/5\\\\nService : 3/5\\\\nVariety : 3/5\\'), (\\'Rated 4.0\\', \\'RATED\\\\n  Been here several times. Yes, it is an after office relief, especially on Fridays. Food here is good. The starters(nachos, cheese balls, wings) are great and go well with the drinks. The main course is decent too. Try the burgers for sure. The only downside here I feel is the lack of a brewery. It could have been so much better then. Hope it gets one soon.\\'), (\\'Rated 3.0\\', \"RATED\\\\n  I visited the place on a Sunday...it\\'s located rgt next to biergarten..coming to the place...it\\'s night but the ambience is a bit dull...I found the energy lacking...crowd was also bit less...coming to the food, ordered peanut masala, bruschetta, chilli chicken and chicken tikka..chicken tikka was good and rest items were decent...what spoils the rating are the drinks, I thought they were too diluted..had LIIT and whiskey sour and both were not upto the mark..used Zomato gold for the drinks...service is decent...to sum it up, it\\'s a decent place, food is good but they need to work on the drinks...\"), (\\'Rated 3.0\\', \\'RATED\\\\n  I went to this place on a Thursday evening with few friends. The place looked gloomy and we were the only people in it.\\\\nIts ambience gave feel of the shacks of Goa.\\\\nThey were not serving beer that day which explained why it was so empty.\\\\n\\\\nWe ordered only paneer chilli which was decent.\\'), (\\'Rated 4.0\\', \\'RATED\\\\n  Loved the ambience here\\\\nVery lively crowd\\\\nHad shots here and lemon iced tea which was really good\\\\nGood customer service provided\\\\nWould definitely visit this place again\\'), (\\'Rated 3.0\\', \"RATED\\\\n  Amazing place for music,food,drinks and Karaoke. Getting a table is a big task on a Friday which looks the day the place makes most business. Location is close by to ITPl hnev draws big crowd which means only Regulars are given preference to tables when compared to may be first timers though both may have no booking done prior to the visit so be ready to stand near other table\\'s or near bar for a long time before you get your own table here. Music gets shut almost at 1030 which is a big let-down as places in Indiranagar or Koramangala play almost an hour more. They really need to work on bills as we had almost 20% of the items not pertaining to our table but was added into our bill,watch out for this when you pay.\"), (\\'Rated 3.0\\', \"RATED\\\\n  Decent place. Service can be improved. Dull on weekdays. Music needs major revamp. Hookah isn\\'t up to the mark. Matches are screened.\\\\n\\\\nAmbience-4/5\\\\nF&B-3/5\\\\nHospitality-3/5\"), (\\'Rated 3.0\\', \"RATED\\\\n  I visited the place on a Sunday...it\\'s located rgt next to biergarten..coming to the place...it\\'s night but the ambience is a bit dull...I found the energy lacking...crowd was also bit less...coming to the food, ordered peanut masala, bruschetta, chilli chicken and chicken tikka..chicken tikka was good and rest items were decent...what spoils the rating are the drinks, I thought they were too diluted..had LIIT and whiskey sour and both were not upto the mark..used Zomato gold for the drinks...service is decent...to sum it up, it\\'s a decent place, food is good but they need to work on the drinks...\"), (\\'Rated 3.0\\', \\'RATED\\\\n  I went to this place on a Thursday evening with few friends. The place looked gloomy and we were the only people in it.\\\\nIts ambience gave feel of the shacks of Goa.\\\\nThey were not serving beer that day which explained why it was so empty.\\\\n\\\\nWe ordered only paneer chilli which was decent.\\'), (\\'Rated 4.0\\', \\'RATED\\\\n  Loved the ambience here\\\\nVery lively crowd\\\\nHad shots here and lemon iced tea which was really good\\\\nGood customer service provided\\\\nWould definitely visit this place again\\'), (\\'Rated 3.0\\', \"RATED\\\\n  Amazing place for music,food,drinks and Karaoke. Getting a table is a big task on a Friday which looks the day the place makes most business. Location is close by to ITPl hnev draws big crowd which means only Regulars are given preference to tables when compared to may be first timers though both may have no booking done prior to the visit so be ready to stand near other table\\'s or near bar for a long time before you get your own table here. Music gets shut almost at 1030 which is a big let-down as places in Indiranagar or Koramangala play almost an hour more. They really need to work on bills as we had almost 20% of the items not pertaining to our table but was added into our bill,watch out for this when you pay.\"), (\\'Rated 3.0\\', \"RATED\\\\n  Decent place. Service can be improved. Dull on weekdays. Music needs major revamp. Hookah isn\\'t up to the mark. Matches are screened.\\\\n\\\\nAmbience-4/5\\\\nF&B-3/5\\\\nHospitality-3/5\"), (\\'Rated 3.0\\', \"RATED\\\\n  I visited the place on a Sunday...it\\'s located rgt next to biergarten..coming to the place...it\\'s night but the ambience is a bit dull...I found the energy lacking...crowd was also bit less...coming to the food, ordered peanut masala, bruschetta, chilli chicken and chicken tikka..chicken tikka was good and rest items were decent...what spoils the rating are the drinks, I thought they were too diluted..had LIIT and whiskey sour and both were not upto the mark..used Zomato gold for the drinks...service is decent...to sum it up, it\\'s a decent place, food is good but they need to work on the drinks...\"), (\\'Rated 3.0\\', \\'RATED\\\\n  I went to this place on a Thursday evening with few friends. The place looked gloomy and we were the only people in it.\\\\nIts ambience gave feel of the shacks of Goa.\\\\nThey were not serving beer that day which explained why it was so empty.\\\\n\\\\nWe ordered only paneer chilli which was decent.\\'), (\\'Rated 4.0\\', \\'RATED\\\\n  Loved the ambience here\\\\nVery lively crowd\\\\nHad shots here and lemon iced tea which was really good\\\\nGood customer service provided\\\\nWould definitely visit this place again\\'), (\\'Rated 3.0\\', \"RATED\\\\n  Amazing place for music,food,drinks and Karaoke. Getting a table is a big task on a Friday which looks the day the place makes most business. Location is close by to ITPl hnev draws big crowd which means only Regulars are given preference to tables when compared to may be first timers though both may have no booking done prior to the visit so be ready to stand near other table\\'s or near bar for a long time before you get your own table here. Music gets shut almost at 1030 which is a big let-down as places in Indiranagar or Koramangala play almost an hour more. They really need to work on bills as we had almost 20% of the items not pertaining to our table but was added into our bill,watch out for this when you pay.\"), (\\'Rated 3.0\\', \"RATED\\\\n  Decent place. Service can be improved. Dull on weekdays. Music needs major revamp. Hookah isn\\'t up to the mark. Matches are screened.\\\\n\\\\nAmbience-4/5\\\\nF&B-3/5\\\\nHospitality-3/5\"), (\\'Rated 4.0\\', \\'RATED\\\\n  I go to this place on FridayÃ\\x83\\\\x83Ã\\x82\\\\x83Ã\\x83\\\\x82Ã\\x82\\\\x83Ã\\x83\\\\x83Ã\\x82\\\\x82Ã\\x83\\\\x82Ã\\x82Â¢Ã\\x83\\\\x83Ã\\x82\\\\x83Ã\\x83\\\\x82Ã\\x82\\\\x82Ã\\x83\\\\x83Ã\\x82\\\\x82Ã\\x83\\\\x82Ã\\x82\\\\x80Ã\\x83\\\\x83Ã\\x82\\\\x83Ã\\x83\\\\x82Ã\\x82\\\\x82Ã\\x83\\\\x83Ã\\x82\\\\x82Ã\\x83\\\\x82Ã\\x82\\\\x99s for a karaoke night. Beautiful ambience, nice crowd, excellent food. I always end up ordering the chilli beef and chicken fried rice. I have tried other foods like the prawn wafers, the prawn appetiser, chilli chicken, pasta, Biryani, pizzas and the vegetarian starters and they have been excellent. The staff are very friendly and quick to serve. FridayÃ\\x83\\\\x83Ã\\x82\\\\x83Ã\\x83\\\\x82Ã\\x82\\\\x83Ã\\x83\\\\x83Ã\\x82\\\\x82Ã\\x83\\\\x82Ã\\x82Â¢Ã\\x83\\\\x83Ã\\x82\\\\x83Ã\\x83\\\\x82Ã\\x82\\\\x82Ã\\x83\\\\x83Ã\\x82\\\\x82Ã\\x83\\\\x82Ã\\x82\\\\x80Ã\\x83\\\\x83Ã\\x82\\\\x83Ã\\x83\\\\x82Ã\\x82\\\\x82Ã\\x83\\\\x83Ã\\x82\\\\x82Ã\\x83\\\\x82Ã\\x82\\\\x99s can be an exception in terms of service due to the crazy crowds. I have had a couple of team dinners in PabloÃ\\x83\\\\x83Ã\\x82\\\\x83Ã\\x83\\\\x82Ã\\x82\\\\x83Ã\\x83\\\\x83Ã\\x82\\\\x82Ã\\x83\\\\x82Ã\\x82Â¢Ã\\x83\\\\x83Ã\\x82\\\\x83Ã\\x83\\\\x82Ã\\x82\\\\x82Ã\\x83\\\\x83Ã\\x82\\\\x82Ã\\x83\\\\x82Ã\\x82\\\\x80Ã\\x83\\\\x83Ã\\x82\\\\x83Ã\\x83\\\\x82Ã\\x82\\\\x82Ã\\x83\\\\x83Ã\\x82\\\\x82Ã\\x83\\\\x82Ã\\x82\\\\x99s with a very good package. My team enjoyed their evenings there.\\\\nA lovely place to be at on weekdays if you want a quiet and not very crowded place to hang out at.\\\\nP.S. The restrooms need to be checked at regular intervals.\\'), (\\'Rated 3.0\\', \"RATED\\\\n  I went to this place on a Saturday night. This place looks huge and has a good ambience, unfortunately it wasn\\'t a happening place. There were less people at the gastrobar. The drinks were just fine. The slow motion cocktail was very different from the description. They also have hookah. The beer battered onion rings were good but their chilli chicken wasn\\'t good and the chicken was pretty hard.\"), (\\'Rated 5.0\\', \"RATED\\\\n  Among my best dinner experiences in Bengaluru! And I don\\'t think it would be changing any time soon. Of course the company matters, went here with my best buddies. But nothing to take away from the place.\\\\nThe whole gastrobar has a great vibe to it with openness of the entire seating and karaoke on the side. The staff is really warm and friendly. The cheese samosas and potato jackets were great appetizers. The pizza was good too. The highlight of the whole evening was an extremely potent LIIT though ;)\\\\nThe crowd too was lively adding to the entire experience. Overall a must visit place.\"), (\\'Rated 4.0\\', \\'RATED\\\\n  Perfect place to spend your weekend nights with karaoke on fridays, tasty food and amazing service! Have gone so many times and love it each time.\\'), (\\'Rated 3.0\\', \"RATED\\\\n  The place is nice but the ambience is a bit dull. it\\'s near to my office so I have been there couple of times just because its nearby. The food is ok ok.\\\\n.\\\\nThey have kareoke night on Fridays but they only allow English songs Ã\\x83\\\\x83Ã\\x82\\\\x83Ã\\x83\\\\x82Ã\\x82\\\\x83Ã\\x83\\\\x83Ã\\x82\\\\x82Ã\\x83\\\\x82Ã\\x82Â°Ã\\x83\\\\x83Ã\\x82\\\\x83Ã\\x83\\\\x82Ã\\x82\\\\x82Ã\\x83\\\\x83Ã\\x82\\\\x82Ã\\x83\\\\x82Ã\\x82\\\\x9fÃ\\x83\\\\x83Ã\\x82\\\\x83Ã\\x83\\\\x82Ã\\x82\\\\x82Ã\\x83\\\\x83Ã\\x82\\\\x82Ã\\x83\\\\x82Ã\\x82\\\\x98Ã\\x83\\\\x83Ã\\x82\\\\x83Ã\\x83\\\\x82Ã\\x82\\\\x82Ã\\x83\\\\x83Ã\\x82\\\\x82Ã\\x83\\\\x82Ã\\x82\\\\x91Ã\\x83\\\\x83Ã\\x82\\\\x83Ã\\x83\\\\x82Ã\\x82\\\\x83Ã\\x83\\\\x83Ã\\x82\\\\x82Ã\\x83\\\\x82Ã\\x82Â°Ã\\x83\\\\x83Ã\\x82\\\\x83Ã\\x83\\\\x82Ã\\x82\\\\x82Ã\\x83\\\\x83Ã\\x82\\\\x82Ã\\x83\\\\x82Ã\\x82\\\\x9fÃ\\x83\\\\x83Ã\\x82\\\\x83Ã\\x83\\\\x82Ã\\x82\\\\x82Ã\\x83\\\\x83Ã\\x82\\\\x82Ã\\x83\\\\x82Ã\\x82\\\\x98Ã\\x83\\\\x83Ã\\x82\\\\x83Ã\\x83\\\\x82Ã\\x82\\\\x82Ã\\x83\\\\x83Ã\\x82\\\\x82Ã\\x83\\\\x82Ã\\x82\\\\x91\\\\n.\\\\nThe pub is quite spacious and they have foos ball table as well which is entertaining Ã\\x83\\\\x83Ã\\x82\\\\x83Ã\\x83\\\\x82Ã\\x82\\\\x83Ã\\x83\\\\x83Ã\\x82\\\\x82Ã\\x83\\\\x82Ã\\x82Â°Ã\\x83\\\\x83Ã\\x82\\\\x83Ã\\x83\\\\x82Ã\\x82\\\\x82Ã\\x83\\\\x83Ã\\x82\\\\x82Ã\\x83\\\\x82Ã\\x82\\\\x9fÃ\\x83\\\\x83Ã\\x82\\\\x83Ã\\x83\\\\x82Ã\\x82\\\\x82Ã\\x83\\\\x83Ã\\x82\\\\x82Ã\\x83\\\\x82Ã\\x82Â¤Ã\\x83\\\\x83Ã\\x82\\\\x83Ã\\x83\\\\x82Ã\\x82\\\\x82Ã\\x83\\\\x83Ã\\x82\\\\x82Ã\\x83\\\\x82Ã\\x82\\\\x97\"), (\\'Rated 4.0\\', \\'RATED\\\\n  I go to this place on FridayÃ\\x83\\\\x83Ã\\x82\\\\x83Ã\\x83\\\\x82Ã\\x82\\\\x83Ã\\x83\\\\x83Ã\\x82\\\\x82Ã\\x83\\\\x82Ã\\x82Â¢Ã\\x83\\\\x83Ã\\x82\\\\x83Ã\\x83\\\\x82Ã\\x82\\\\x82Ã\\x83\\\\x83Ã\\x82\\\\x82Ã\\x83\\\\x82Ã\\x82\\\\x80Ã\\x83\\\\x83Ã\\x82\\\\x83Ã\\x83\\\\x82Ã\\x82\\\\x82Ã\\x83\\\\x83Ã\\x82\\\\x82Ã\\x83\\\\x82Ã\\x82\\\\x99s for a karaoke night. Beautiful ambience, nice crowd, excellent food. I always end up ordering the chilli beef and chicken fried rice. I have tried other foods like the prawn wafers, the prawn appetiser, chilli chicken, pasta, Biryani, pizzas and the vegetarian starters and they have been excellent. The staff are very friendly and quick to serve. FridayÃ\\x83\\\\x83Ã\\x82\\\\x83Ã\\x83\\\\x82Ã\\x82\\\\x83Ã\\x83\\\\x83Ã\\x82\\\\x82Ã\\x83\\\\x82Ã\\x82Â¢Ã\\x83\\\\x83Ã\\x82\\\\x83Ã\\x83\\\\x82Ã\\x82\\\\x82Ã\\x83\\\\x83Ã\\x82\\\\x82Ã\\x83\\\\x82Ã\\x82\\\\x80Ã\\x83\\\\x83Ã\\x82\\\\x83Ã\\x83\\\\x82Ã\\x82\\\\x82Ã\\x83\\\\x83Ã\\x82\\\\x82Ã\\x83\\\\x82Ã\\x82\\\\x99s can be an exception in terms of service due to the crazy crowds. I have had a couple of team dinners in PabloÃ\\x83\\\\x83Ã\\x82\\\\x83Ã\\x83\\\\x82Ã\\x82\\\\x83Ã\\x83\\\\x83Ã\\x82\\\\x82Ã\\x83\\\\x82Ã\\x82Â¢Ã\\x83\\\\x83Ã\\x82\\\\x83Ã\\x83\\\\x82Ã\\x82\\\\x82Ã\\x83\\\\x83Ã\\x82\\\\x82Ã\\x83\\\\x82Ã\\x82\\\\x80Ã\\x83\\\\x83Ã\\x82\\\\x83Ã\\x83\\\\x82Ã\\x82\\\\x82Ã\\x83\\\\x83Ã\\x82\\\\x82Ã\\x83\\\\x82Ã\\x82\\\\x99s with a very good package. My team enjoyed their evenings there.\\\\nA lovely place to be at on weekdays if you want a quiet and not very crowded place to hang out at.\\\\nP.S. The restrooms need to be checked at regular intervals.\\'), (\\'Rated 3.0\\', \"RATED\\\\n  I went to this place on a Saturday night. This place looks huge and has a good ambience, unfortunately it wasn\\'t a happening place. There were less people at the gastrobar. The drinks were just fine. The slow motion cocktail was very different from the description. They also have hookah. The beer battered onion rings were good but their chilli chicken wasn\\'t good and the chicken was pretty hard.\"), (\\'Rated 5.0\\', \"RATED\\\\n  Among my best dinner experiences in Bengaluru! And I don\\'t think it would be changing any time soon. Of course the company matters, went here with my best buddies. But nothing to take away from the place.\\\\nThe whole gastrobar has a great vibe to it with openness of the entire seating and karaoke on the side. The staff is really warm and friendly. The cheese samosas and potato jackets were great appetizers. The pizza was good too. The highlight of the whole evening was an extremely potent LIIT though ;)\\\\nThe crowd too was lively adding to the entire experience. Overall a must visit place.\"), (\\'Rated 4.0\\', \\'RATED\\\\n  Perfect place to spend your weekend nights with karaoke on fridays, tasty food and amazing service! Have gone so many times and love it each time.\\'), (\\'Rated 3.0\\', \"RATED\\\\n  The place is nice but the ambience is a bit dull. it\\'s near to my office so I have been there couple of times just because its nearby. The food is ok ok.\\\\n.\\\\nThey have kareoke night on Fridays but they only allow English songs Ã\\x83\\\\x83Ã\\x82\\\\x83Ã\\x83\\\\x82Ã\\x82\\\\x83Ã\\x83\\\\x83Ã\\x82\\\\x82Ã\\x83\\\\x82Ã\\x82Â°Ã\\x83\\\\x83Ã\\x82\\\\x83Ã\\x83\\\\x82Ã\\x82\\\\x82Ã\\x83\\\\x83Ã\\x82\\\\x82Ã\\x83\\\\x82Ã\\x82\\\\x9fÃ\\x83\\\\x83Ã\\x82\\\\x83Ã\\x83\\\\x82Ã\\x82\\\\x82Ã\\x83\\\\x83Ã\\x82\\\\x82Ã\\x83\\\\x82Ã\\x82\\\\x98Ã\\x83\\\\x83Ã\\x82\\\\x83Ã\\x83\\\\x82Ã\\x82\\\\x82Ã\\x83\\\\x83Ã\\x82\\\\x82Ã\\x83\\\\x82Ã\\x82\\\\x91Ã\\x83\\\\x83Ã\\x82\\\\x83Ã\\x83\\\\x82Ã\\x82\\\\x83Ã\\x83\\\\x83Ã\\x82\\\\x82Ã\\x83\\\\x82Ã\\x82Â°Ã\\x83\\\\x83Ã\\x82\\\\x83Ã\\x83\\\\x82Ã\\x82\\\\x82Ã\\x83\\\\x83Ã\\x82\\\\x82Ã\\x83\\\\x82Ã\\x82\\\\x9fÃ\\x83\\\\x83Ã\\x82\\\\x83Ã\\x83\\\\x82Ã\\x82\\\\x82Ã\\x83\\\\x83Ã\\x82\\\\x82Ã\\x83\\\\x82Ã\\x82\\\\x98Ã\\x83\\\\x83Ã\\x82\\\\x83Ã\\x83\\\\x82Ã\\x82\\\\x82Ã\\x83\\\\x83Ã\\x82\\\\x82Ã\\x83\\\\x82Ã\\x82\\\\x91\\\\n.\\\\nThe pub is quite spacious and they have foos ball table as well which is entertaining Ã\\x83\\\\x83Ã\\x82\\\\x83Ã\\x83\\\\x82Ã\\x82\\\\x83Ã\\x83\\\\x83Ã\\x82\\\\x82Ã\\x83\\\\x82Ã\\x82Â°Ã\\x83\\\\x83Ã\\x82\\\\x83Ã\\x83\\\\x82Ã\\x82\\\\x82Ã\\x83\\\\x83Ã\\x82\\\\x82Ã\\x83\\\\x82Ã\\x82\\\\x9fÃ\\x83\\\\x83Ã\\x82\\\\x83Ã\\x83\\\\x82Ã\\x82\\\\x82Ã\\x83\\\\x83Ã\\x82\\\\x82Ã\\x83\\\\x82Ã\\x82Â¤Ã\\x83\\\\x83Ã\\x82\\\\x83Ã\\x83\\\\x82Ã\\x82\\\\x82Ã\\x83\\\\x83Ã\\x82\\\\x82Ã\\x83\\\\x82Ã\\x82\\\\x97\"), (\\'Rated 4.0\\', \\'RATED\\\\n  I go to this place on FridayÃ\\x83\\\\x83Ã\\x82\\\\x83Ã\\x83\\\\x82Ã\\x82\\\\x83Ã\\x83\\\\x83Ã\\x82\\\\x82Ã\\x83\\\\x82Ã\\x82Â¢Ã\\x83\\\\x83Ã\\x82\\\\x83Ã\\x83\\\\x82Ã\\x82\\\\x82Ã\\x83\\\\x83Ã\\x82\\\\x82Ã\\x83\\\\x82Ã\\x82\\\\x80Ã\\x83\\\\x83Ã\\x82\\\\x83Ã\\x83\\\\x82Ã\\x82\\\\x82Ã\\x83\\\\x83Ã\\x82\\\\x82Ã\\x83\\\\x82Ã\\x82\\\\x99s for a karaoke night. Beautiful ambience, nice crowd, excellent food. I always end up ordering the chilli beef and chicken fried rice. I have tried other foods like the prawn wafers, the prawn appetiser, chilli chicken, pasta, Biryani, pizzas and the vegetarian starters and they have been excellent. The staff are very friendly and quick to serve. FridayÃ\\x83\\\\x83Ã\\x82\\\\x83Ã\\x83\\\\x82Ã\\x82\\\\x83Ã\\x83\\\\x83Ã\\x82\\\\x82Ã\\x83\\\\x82Ã\\x82Â¢Ã\\x83\\\\x83Ã\\x82\\\\x83Ã\\x83\\\\x82Ã\\x82\\\\x82Ã\\x83\\\\x83Ã\\x82\\\\x82Ã\\x83\\\\x82Ã\\x82\\\\x80Ã\\x83\\\\x83Ã\\x82\\\\x83Ã\\x83\\\\x82Ã\\x82\\\\x82Ã\\x83\\\\x83Ã\\x82\\\\x82Ã\\x83\\\\x82Ã\\x82\\\\x99s can be an exception in terms of service due to the crazy crowds. I have had a couple of team dinners in PabloÃ\\x83\\\\x83Ã\\x82\\\\x83Ã\\x83\\\\x82Ã\\x82\\\\x83Ã\\x83\\\\x83Ã\\x82\\\\x82Ã\\x83\\\\x82Ã\\x82Â¢Ã\\x83\\\\x83Ã\\x82\\\\x83Ã\\x83\\\\x82Ã\\x82\\\\x82Ã\\x83\\\\x83Ã\\x82\\\\x82Ã\\x83\\\\x82Ã\\x82\\\\x80Ã\\x83\\\\x83Ã\\x82\\\\x83Ã\\x83\\\\x82Ã\\x82\\\\x82Ã\\x83\\\\x83Ã\\x82\\\\x82Ã\\x83\\\\x82Ã\\x82\\\\x99s with a very good package. My team enjoyed their evenings there.\\\\nA lovely place to be at on weekdays if you want a quiet and not very crowded place to hang out at.\\\\nP.S. The restrooms need to be checked at regular intervals.\\'), (\\'Rated 3.0\\', \"RATED\\\\n  I went to this place on a Saturday night. This place looks huge and has a good ambience, unfortunately it wasn\\'t a happening place. There were less people at the gastrobar. The drinks were just fine. The slow motion cocktail was very different from the description. They also have hookah. The beer battered onion rings were good but their chilli chicken wasn\\'t good and the chicken was pretty hard.\"), (\\'Rated 5.0\\', \"RATED\\\\n  Among my best dinner experiences in Bengaluru! And I don\\'t think it would be changing any time soon. Of course the company matters, went here with my best buddies. But nothing to take away from the place.\\\\nThe whole gastrobar has a great vibe to it with openness of the entire seating and karaoke on the side. The staff is really warm and friendly. The cheese samosas and potato jackets were great appetizers. The pizza was good too. The highlight of the whole evening was an extremely potent LIIT though ;)\\\\nThe crowd too was lively adding to the entire experience. Overall a must visit place.\"), (\\'Rated 4.0\\', \\'RATED\\\\n  Perfect place to spend your weekend nights with karaoke on fridays, tasty food and amazing service! Have gone so many times and love it each time.\\'), (\\'Rated 3.0\\', \"RATED\\\\n  The place is nice but the ambience is a bit dull. it\\'s near to my office so I have been there couple of times just because its nearby. The food is ok ok.\\\\n.\\\\nThey have kareoke night on Fridays but they only allow English songs Ã\\x83\\\\x83Ã\\x82\\\\x83Ã\\x83\\\\x82Ã\\x82\\\\x83Ã\\x83\\\\x83Ã\\x82\\\\x82Ã\\x83\\\\x82Ã\\x82Â°Ã\\x83\\\\x83Ã\\x82\\\\x83Ã\\x83\\\\x82Ã\\x82\\\\x82Ã\\x83\\\\x83Ã\\x82\\\\x82Ã\\x83\\\\x82Ã\\x82\\\\x9fÃ\\x83\\\\x83Ã\\x82\\\\x83Ã\\x83\\\\x82Ã\\x82\\\\x82Ã\\x83\\\\x83Ã\\x82\\\\x82Ã\\x83\\\\x82Ã\\x82\\\\x98Ã\\x83\\\\x83Ã\\x82\\\\x83Ã\\x83\\\\x82Ã\\x82\\\\x82Ã\\x83\\\\x83Ã\\x82\\\\x82Ã\\x83\\\\x82Ã\\x82\\\\x91Ã\\x83\\\\x83Ã\\x82\\\\x83Ã\\x83\\\\x82Ã\\x82\\\\x83Ã\\x83\\\\x83Ã\\x82\\\\x82Ã\\x83\\\\x82Ã\\x82Â°Ã\\x83\\\\x83Ã\\x82\\\\x83Ã\\x83\\\\x82Ã\\x82\\\\x82Ã\\x83\\\\x83Ã\\x82\\\\x82Ã\\x83\\\\x82Ã\\x82\\\\x9fÃ\\x83\\\\x83Ã\\x82\\\\x83Ã\\x83\\\\x82Ã\\x82\\\\x82Ã\\x83\\\\x83Ã\\x82\\\\x82Ã\\x83\\\\x82Ã\\x82\\\\x98Ã\\x83\\\\x83Ã\\x82\\\\x83Ã\\x83\\\\x82Ã\\x82\\\\x82Ã\\x83\\\\x83Ã\\x82\\\\x82Ã\\x83\\\\x82Ã\\x82\\\\x91\\\\n.\\\\nThe pub is quite spacious and they have foos ball table as well which is entertaining Ã\\x83\\\\x83Ã\\x82\\\\x83Ã\\x83\\\\x82Ã\\x82\\\\x83Ã\\x83\\\\x83Ã\\x82\\\\x82Ã\\x83\\\\x82Ã\\x82Â°Ã\\x83\\\\x83Ã\\x82\\\\x83Ã\\x83\\\\x82Ã\\x82\\\\x82Ã\\x83\\\\x83Ã\\x82\\\\x82Ã\\x83\\\\x82Ã\\x82\\\\x9fÃ\\x83\\\\x83Ã\\x82\\\\x83Ã\\x83\\\\x82Ã\\x82\\\\x82Ã\\x83\\\\x83Ã\\x82\\\\x82Ã\\x83\\\\x82Ã\\x82Â¤Ã\\x83\\\\x83Ã\\x82\\\\x83Ã\\x83\\\\x82Ã\\x82\\\\x82Ã\\x83\\\\x83Ã\\x82\\\\x82Ã\\x83\\\\x82Ã\\x82\\\\x97\"), (\\'Rated 4.0\\', \\'RATED\\\\n  Cool place to hangout with friends. We celebrated a farewell here. Had lot of beers, whisky, nachos, pizzzas. Well all drunk, we just enjoyed the show.\\'), (\\'Rated 5.0\\', \"RATED\\\\n  Pablos is a vary cheerful place and filled with youngsters as that\\'s the vibe you get here from the time you enter\\\\nLove the way they have used containers to make the kitchen and the bar\\\\n\\\\nThe karaoke at nights is super fun\\\\nHeard they are found for their whiskey sours and by God they sure we\\'re good\\\\nAnd if you are a Zomato Gold membe on drinksr then feat not as they have a 2+2 on drinks\\\\nSo yay need I say more\\\\nÃ\\x83\\\\x83Ã\\x82\\\\x83Ã\\x83\\\\x82Ã\\x82\\\\x83Ã\\x83\\\\x83Ã\\x82\\\\x82Ã\\x83\\\\x82Ã\\x82Â°Ã\\x83\\\\x83Ã\\x82\\\\x83Ã\\x83\\\\x82Ã\\x82\\\\x82Ã\\x83\\\\x83Ã\\x82\\\\x82Ã\\x83\\\\x82Ã\\x82\\\\x9fÃ\\x83\\\\x83Ã\\x82\\\\x83Ã\\x83\\\\x82Ã\\x82\\\\x82Ã\\x83\\\\x83Ã\\x82\\\\x82Ã\\x83\\\\x82Ã\\x82\\\\x98Ã\\x83\\\\x83Ã\\x82\\\\x83Ã\\x83\\\\x82Ã\\x82\\\\x82Ã\\x83\\\\x83Ã\\x82\\\\x82Ã\\x83\\\\x82Ã\\x82\\\\x80\\\\nWe had pizzas\\\\nCheese and bacon balls\\\\nChicken wings\\\\nPulled pork burgers and gisn sausage pulao\\\\nAll yum yum yum\\\\nGreat service and good music\")]',\n",
              "       '[(\\'Rated 4.0\\', \"RATED\\\\n  I had :-\\\\n\\\\n1. Italian Tiramisu Shake\\\\n2. Grilled One\\'s (Burgers) Chicken\\\\n\\\\nLoved both the items... The shake was really good... It whet my appetite for the burger which too was lovely and delectable...\\\\n\\\\nThe staff was pleasant and friendly...\"), (\\'Rated 3.0\\', \"RATED\\\\n  Oliver\\'s is always the place where people working in ITPL go if they are in mood to chill post work.\\\\nThis place serves decent pizza and drinks\"), (\\'Rated 3.0\\', \\'RATED\\\\n  I have been to this place couple of times now. Found it OK in terms of food, service, ambience, pricing and availability of drinks.\\\\nOn our 1st visit we were around 6people and had ordered chicken starters, beer, wine and pizza. However, the service was too slow. Even the bill was given to us almost after 20mins of asking the waiters.\\\\nDuring 2nd visit, we were 5 people. This visit was bit disappointing, as almost 80% of the drinks on menu which I wanted to have were not available. Ultimately i had to get a diet coke. Even the food menu is a traditional one. There is nothing different and the taste is average.\\\\nMy friend also tried flame shot here, which was a big disappointment as the waiters who made it seemed amateurs. He had struggled so much to drink that flame shot, as the flame was all over the table.\\'), (\\'Rated 3.0\\', \"RATED\\\\n  I\\'m pleasantly surprised when I happen to find new places to dine close to home.\\\\nWith this in mind I stopped by Oliver a while back. \\\\nOverlooking ITPL, the atmosphere here is well lit and lively especially if you happen to be here during live match screenings. \\\\nComing to the food I was a bit disappointed. \\\\nI ordered the buenos nachos and the chicken nachos pizza. \\\\nTalking about the nachos, they were basically made with cornitos chips. \\\\nThe crust of the pizza was dry and the toppings lacked seasoning. \\\\nThe drinks we ordered were just okayish.\\\\nOverall slightly disappointed.\"), (\\'Rated 3.0\\', \\'RATED\\\\n  Ordered chilly pork, which was not really very spicy( also most of the pieces were pork fat only and not meat) . And the noodles was good but not that good. Kind of expected a little bit more from this place. Found it a bit overpriced for the quantity.\\'), (\\'Rated 3.0\\', \"RATED\\\\n  Good place to hang out and chill with your friends with good food and drinks. You would love their range of pizzas and their taste if you like thin crush pizzas - like the Mexican nachos one myself. Drinks are good too with offers - mainly people opt for Bira. Had sizzling Brownie in desserts and it was yum! Can improve more on overall crust and taste of the pizzas though - not that nice if you\\'re going only for food. Ã\\x83\\\\x83Ã\\x82\\\\x83Ã\\x83\\\\x82Ã\\x82\\\\x83Ã\\x83\\\\x83Ã\\x82\\\\x82Ã\\x83\\\\x82Ã\\x82Â¢Ã\\x83\\\\x83Ã\\x82\\\\x83Ã\\x83\\\\x82Ã\\x82\\\\x82Ã\\x83\\\\x83Ã\\x82\\\\x82Ã\\x83\\\\x82Ã\\x82\\\\x9cÃ\\x83\\\\x83Ã\\x82\\\\x83Ã\\x83\\\\x82Ã\\x82\\\\x82Ã\\x83\\\\x83Ã\\x82\\\\x82Ã\\x83\\\\x82Ã\\x82\\\\x8cÃ\\x83\\\\x83Ã\\x82\\\\x83Ã\\x83\\\\x82Ã\\x82\\\\x83Ã\\x83\\\\x83Ã\\x82\\\\x82Ã\\x83\\\\x82Ã\\x82Â°Ã\\x83\\\\x83Ã\\x82\\\\x83Ã\\x83\\\\x82Ã\\x82\\\\x82Ã\\x83\\\\x83Ã\\x82\\\\x82Ã\\x83\\\\x82Ã\\x82\\\\x9fÃ\\x83\\\\x83Ã\\x82\\\\x83Ã\\x83\\\\x82Ã\\x82\\\\x82Ã\\x83\\\\x83Ã\\x82\\\\x82Ã\\x83\\\\x82Ã\\x82\\\\x8fÃ\\x83\\\\x83Ã\\x82\\\\x83Ã\\x83\\\\x82Ã\\x82\\\\x82Ã\\x83\\\\x83Ã\\x82\\\\x82Ã\\x83\\\\x82Ã\\x82Â» #ThinCrustPizzas #Bira\"), (\\'Rated 3.0\\', \"RATED\\\\n  Visited during lunch hours.\\\\nThe nachos were pretty filling but just about above-average in taste.\\\\n\\\\nI would recommend the Gambas! Prawns were succelent and flavourful.\\\\n\\\\nThe service was also pretty quick. I\\'m not sure why the stools were a little worn out and the ambience was a little low and dim. Perhaps the aim was to give a rusty vibe but the tables and chairs seemed a little too old and rusted.\"), (\\'Rated 3.0\\', \"RATED\\\\n  It\\'s one of the few places we found open past 9pm near ITPL, that serves cocktails. It\\'s on the first floor of the shopping complex. This one cocktail called Hanky Panky was particularly good.\"), (\\'Rated 4.0\\', \"RATED\\\\n  Oliver\\'s.. The place i love for pizzas... And hey.. If you want to just chill, have some beer along with your friends then this is the place for you.. I personally love their pizzas and the ambience.. Cheers..!!\"), (\\'Rated 4.0\\', \"RATED\\\\n  Oliver\\'s have been a go to place after office as it is in ITPL itself. For drinks they don\\'t keep much options available which is disappointing. Coming to food, food is really good. We tried chilly chicken, American corn and crispy babycorn for starters and had chilly paneer tikka and spinach paneer pizza. Taste and ambience is very much lively and dewy.\"), (\\'Rated 1.0\\', \"RATED\\\\n  This restaurant was a big disappointment. The list of unprofessionalism is quite big.\\\\nWe found a dead cockroach near the table. And when pointing it out the service guy was least bothered and asked some other guy to look into it.Then we shifted to a different table.\\\\nAnother downer was the unresponsive attitude of the staff. We literally had to get up from our seats to give order.\\\\nThe food was above par to it\\'s service, which was a good thing. But when some one visits ur restaurant, they want to have the full dining experience. Otherwise food can be home delivered.\\\\nPlease work on ur cleanliness and service if u want to attract customers.\"), (\\'Rated 5.0\\', \\'RATED\\\\n  A desi styled pub easy on pocket, still under construction. Has got combo offers throughout the week. The food is great to hangout on any day of the week. Should minimise the order delivery time.\\'), (\\'Rated 4.0\\', \"RATED\\\\n  Tasty food at not so high rates. The ambience and service was pretty good.\\\\n\\\\nWe had spring rolls and jalapeno poppers for starters. They didn\\'t feel too oily and were delicious. Sauces served with them went pretty well with them.\\\\n\\\\nWe went for patata salsa pizza. Potato part tasted good. Though I would have liked better sauce.\\\\n\\\\nFor desserts, we went for brownie sundae and it was amazing. The quantity was generous as well.\"), (\\'Rated 3.0\\', \"RATED\\\\n  Not sure why it is rated so high on Zomato. When I go to any pub I expect atleast some good quality finger food and mocktails. Both were missing here. Service was way below par as the servers didn\\'t even know what to recommend and what is house special etc. Pizza was OK.\\\\n\\\\nAmbience wise a good place to hang out with friends and make some noise. They did try to make it look like a sports bar with TV screens here and there. But failed miserably.\\\\n\\\\nOverall experience was well below par.\"), (\\'Rated 4.0\\', \"RATED\\\\n  Good place for stress busting.ambience is friendly.bug food quality is not upto the mark.beer also not available according to your choice.we asked Bira..they told it\\'s not available right now (seriously?? Even on Saturday evening).Music was ok only..not a good music place.the only advantage I got is its in ITPL ,beside my office.\"), (\\'Rated 1.0\\', \"RATED\\\\n  This restaurant was a big disappointment. The list of unprofessionalism is quite big.\\\\nWe found a dead cockroach near the table. And when pointing it out the service guy was least bothered and asked some other guy to look into it.Then we shifted to a different table.\\\\nAnother downer was the unresponsive attitude of the staff. We literally had to get up from our seats to give order.\\\\nThe food was above par to it\\'s service, which was a good thing. But when some one visits ur restaurant, they want to have the full dining experience. Otherwise food can be home delivered.\\\\nPlease work on ur cleanliness and service if u want to attract customers.\"), (\\'Rated 5.0\\', \\'RATED\\\\n  A desi styled pub easy on pocket, still under construction. Has got combo offers throughout the week. The food is great to hangout on any day of the week. Should minimise the order delivery time.\\'), (\\'Rated 4.0\\', \"RATED\\\\n  Tasty food at not so high rates. The ambience and service was pretty good.\\\\n\\\\nWe had spring rolls and jalapeno poppers for starters. They didn\\'t feel too oily and were delicious. Sauces served with them went pretty well with them.\\\\n\\\\nWe went for patata salsa pizza. Potato part tasted good. Though I would have liked better sauce.\\\\n\\\\nFor desserts, we went for brownie sundae and it was amazing. The quantity was generous as well.\"), (\\'Rated 3.0\\', \"RATED\\\\n  Not sure why it is rated so high on Zomato. When I go to any pub I expect atleast some good quality finger food and mocktails. Both were missing here. Service was way below par as the servers didn\\'t even know what to recommend and what is house special etc. Pizza was OK.\\\\n\\\\nAmbience wise a good place to hang out with friends and make some noise. They did try to make it look like a sports bar with TV screens here and there. But failed miserably.\\\\n\\\\nOverall experience was well below par.\"), (\\'Rated 4.0\\', \"RATED\\\\n  Good place for stress busting.ambience is friendly.bug food quality is not upto the mark.beer also not available according to your choice.we asked Bira..they told it\\'s not available right now (seriously?? Even on Saturday evening).Music was ok only..not a good music place.the only advantage I got is its in ITPL ,beside my office.\"), (\\'Rated 1.0\\', \"RATED\\\\n  This restaurant was a big disappointment. The list of unprofessionalism is quite big.\\\\nWe found a dead cockroach near the table. And when pointing it out the service guy was least bothered and asked some other guy to look into it.Then we shifted to a different table.\\\\nAnother downer was the unresponsive attitude of the staff. We literally had to get up from our seats to give order.\\\\nThe food was above par to it\\'s service, which was a good thing. But when some one visits ur restaurant, they want to have the full dining experience. Otherwise food can be home delivered.\\\\nPlease work on ur cleanliness and service if u want to attract customers.\"), (\\'Rated 5.0\\', \\'RATED\\\\n  A desi styled pub easy on pocket, still under construction. Has got combo offers throughout the week. The food is great to hangout on any day of the week. Should minimise the order delivery time.\\'), (\\'Rated 4.0\\', \"RATED\\\\n  Tasty food at not so high rates. The ambience and service was pretty good.\\\\n\\\\nWe had spring rolls and jalapeno poppers for starters. They didn\\'t feel too oily and were delicious. Sauces served with them went pretty well with them.\\\\n\\\\nWe went for patata salsa pizza. Potato part tasted good. Though I would have liked better sauce.\\\\n\\\\nFor desserts, we went for brownie sundae and it was amazing. The quantity was generous as well.\"), (\\'Rated 3.0\\', \"RATED\\\\n  Not sure why it is rated so high on Zomato. When I go to any pub I expect atleast some good quality finger food and mocktails. Both were missing here. Service was way below par as the servers didn\\'t even know what to recommend and what is house special etc. Pizza was OK.\\\\n\\\\nAmbience wise a good place to hang out with friends and make some noise. They did try to make it look like a sports bar with TV screens here and there. But failed miserably.\\\\n\\\\nOverall experience was well below par.\"), (\\'Rated 4.0\\', \"RATED\\\\n  Good place for stress busting.ambience is friendly.bug food quality is not upto the mark.beer also not available according to your choice.we asked Bira..they told it\\'s not available right now (seriously?? Even on Saturday evening).Music was ok only..not a good music place.the only advantage I got is its in ITPL ,beside my office.\"), (\\'Rated 2.0\\', \"RATED\\\\n  Pathetic presentation of the dishes, the plate looks half empty. It\\'s just cigarette smoke that u can breath.\\\\nDid not enjoy the food or ambience.\"), (\\'Rated 3.0\\', \\'RATED\\\\n  Went there on a Friday eve. They were out of almost every good branded beers. Below average food, the place seems a little bit shady. Sitting chairs and tables are really rusty. Staffs not really pro active in serving you. They overcharged me, had to call them and get the amount back. So you get the picture.\\'), (\\'Rated 4.0\\', \"RATED\\\\n  Oliver\\'s Pub is a decent place with a good ambience. Food was pretty good although we tried only vegetarian dishes. They had limited options for drinks and few of the listed drinks were not even available. I had the most amazing Chinese bhel over here. I tried two variants of pizzas there : Paneer peri peri and Margherita paneer spinach pizza, both of them were nicely made. Please do give a try to the spinach one. It was surprisingly delicious Ã\\x83\\\\x83Ã\\x82\\\\x83Ã\\x83\\\\x82Ã\\x82\\\\x83Ã\\x83\\\\x83Ã\\x82\\\\x82Ã\\x83\\\\x82Ã\\x82Â°Ã\\x83\\\\x83Ã\\x82\\\\x83Ã\\x83\\\\x82Ã\\x82\\\\x82Ã\\x83\\\\x83Ã\\x82\\\\x82Ã\\x83\\\\x82Ã\\x82\\\\x9fÃ\\x83\\\\x83Ã\\x82\\\\x83Ã\\x83\\\\x82Ã\\x82\\\\x82Ã\\x83\\\\x83Ã\\x82\\\\x82Ã\\x83\\\\x82Ã\\x82\\\\x98Ã\\x83\\\\x83Ã\\x82\\\\x83Ã\\x83\\\\x82Ã\\x82\\\\x82Ã\\x83\\\\x83Ã\\x82\\\\x82Ã\\x83\\\\x82Ã\\x82\\\\x8b\")]'],\n",
              "      dtype=object)"
            ]
          },
          "metadata": {},
          "execution_count": 14
        }
      ]
    },
    {
      "cell_type": "code",
      "source": [
        "rest_data = rest_data.drop(['url', 'address', 'phone', 'menu_item', 'reviews_list', 'listed_in(city)'], axis = 1)  # dropping irrelevant features\n",
        "rest_data"
      ],
      "metadata": {
        "id": "ryrsK_uPzp4C",
        "colab": {
          "base_uri": "https://localhost:8080/",
          "height": 693
        },
        "outputId": "5be5d3e3-cf2b-4b73-a59d-d23e55915139"
      },
      "execution_count": null,
      "outputs": [
        {
          "output_type": "execute_result",
          "data": {
            "text/plain": [
              "                                                    name online_order  \\\n",
              "0                                                  Jalsa          Yes   \n",
              "1                                         Spice Elephant          Yes   \n",
              "2                                        San Churro Cafe          Yes   \n",
              "3                                  Addhuri Udupi Bhojana           No   \n",
              "4                                          Grand Village           No   \n",
              "...                                                  ...          ...   \n",
              "51712  Best Brews - Four Points by Sheraton Bengaluru...           No   \n",
              "51713                           Vinod Bar And Restaurant           No   \n",
              "51714  Plunge - Sheraton Grand Bengaluru Whitefield H...           No   \n",
              "51715  Chime - Sheraton Grand Bengaluru Whitefield Ho...           No   \n",
              "51716                       The Nest - The Den Bengaluru           No   \n",
              "\n",
              "      book_table    rate  votes                    location  \\\n",
              "0            Yes   4.1/5    775                Banashankari   \n",
              "1             No   4.1/5    787                Banashankari   \n",
              "2             No   3.8/5    918                Banashankari   \n",
              "3             No   3.7/5     88                Banashankari   \n",
              "4             No   3.8/5    166                Basavanagudi   \n",
              "...          ...     ...    ...                         ...   \n",
              "51712         No  3.6 /5     27                  Whitefield   \n",
              "51713         No     NaN      0                  Whitefield   \n",
              "51714         No     NaN      0                  Whitefield   \n",
              "51715        Yes  4.3 /5    236  ITPL Main Road, Whitefield   \n",
              "51716         No  3.4 /5     13  ITPL Main Road, Whitefield   \n",
              "\n",
              "                 rest_type                                         dish_liked  \\\n",
              "0            Casual Dining  Pasta, Lunch Buffet, Masala Papad, Paneer Laja...   \n",
              "1            Casual Dining  Momos, Lunch Buffet, Chocolate Nirvana, Thai G...   \n",
              "2      Cafe, Casual Dining  Churros, Cannelloni, Minestrone Soup, Hot Choc...   \n",
              "3              Quick Bites                                        Masala Dosa   \n",
              "4            Casual Dining                                Panipuri, Gol Gappe   \n",
              "...                    ...                                                ...   \n",
              "51712                  Bar                                                NaN   \n",
              "51713                  Bar                                                NaN   \n",
              "51714                  Bar                                                NaN   \n",
              "51715                  Bar                       Cocktails, Pizza, Buttermilk   \n",
              "51716   Bar, Casual Dining                                                NaN   \n",
              "\n",
              "                                     cuisines approx_cost(for two people)  \\\n",
              "0              North Indian, Mughlai, Chinese                         800   \n",
              "1                 Chinese, North Indian, Thai                         800   \n",
              "2                      Cafe, Mexican, Italian                         800   \n",
              "3                  South Indian, North Indian                         300   \n",
              "4                    North Indian, Rajasthani                         600   \n",
              "...                                       ...                         ...   \n",
              "51712                             Continental                       1,500   \n",
              "51713                             Finger Food                         600   \n",
              "51714                             Finger Food                       2,000   \n",
              "51715                             Finger Food                       2,500   \n",
              "51716  Finger Food, North Indian, Continental                       1,500   \n",
              "\n",
              "      listed_in(type)  \n",
              "0              Buffet  \n",
              "1              Buffet  \n",
              "2              Buffet  \n",
              "3              Buffet  \n",
              "4              Buffet  \n",
              "...               ...  \n",
              "51712   Pubs and bars  \n",
              "51713   Pubs and bars  \n",
              "51714   Pubs and bars  \n",
              "51715   Pubs and bars  \n",
              "51716   Pubs and bars  \n",
              "\n",
              "[51717 rows x 11 columns]"
            ],
            "text/html": [
              "\n",
              "  <div id=\"df-c247e770-1665-4d0b-8635-87033f137c27\">\n",
              "    <div class=\"colab-df-container\">\n",
              "      <div>\n",
              "<style scoped>\n",
              "    .dataframe tbody tr th:only-of-type {\n",
              "        vertical-align: middle;\n",
              "    }\n",
              "\n",
              "    .dataframe tbody tr th {\n",
              "        vertical-align: top;\n",
              "    }\n",
              "\n",
              "    .dataframe thead th {\n",
              "        text-align: right;\n",
              "    }\n",
              "</style>\n",
              "<table border=\"1\" class=\"dataframe\">\n",
              "  <thead>\n",
              "    <tr style=\"text-align: right;\">\n",
              "      <th></th>\n",
              "      <th>name</th>\n",
              "      <th>online_order</th>\n",
              "      <th>book_table</th>\n",
              "      <th>rate</th>\n",
              "      <th>votes</th>\n",
              "      <th>location</th>\n",
              "      <th>rest_type</th>\n",
              "      <th>dish_liked</th>\n",
              "      <th>cuisines</th>\n",
              "      <th>approx_cost(for two people)</th>\n",
              "      <th>listed_in(type)</th>\n",
              "    </tr>\n",
              "  </thead>\n",
              "  <tbody>\n",
              "    <tr>\n",
              "      <th>0</th>\n",
              "      <td>Jalsa</td>\n",
              "      <td>Yes</td>\n",
              "      <td>Yes</td>\n",
              "      <td>4.1/5</td>\n",
              "      <td>775</td>\n",
              "      <td>Banashankari</td>\n",
              "      <td>Casual Dining</td>\n",
              "      <td>Pasta, Lunch Buffet, Masala Papad, Paneer Laja...</td>\n",
              "      <td>North Indian, Mughlai, Chinese</td>\n",
              "      <td>800</td>\n",
              "      <td>Buffet</td>\n",
              "    </tr>\n",
              "    <tr>\n",
              "      <th>1</th>\n",
              "      <td>Spice Elephant</td>\n",
              "      <td>Yes</td>\n",
              "      <td>No</td>\n",
              "      <td>4.1/5</td>\n",
              "      <td>787</td>\n",
              "      <td>Banashankari</td>\n",
              "      <td>Casual Dining</td>\n",
              "      <td>Momos, Lunch Buffet, Chocolate Nirvana, Thai G...</td>\n",
              "      <td>Chinese, North Indian, Thai</td>\n",
              "      <td>800</td>\n",
              "      <td>Buffet</td>\n",
              "    </tr>\n",
              "    <tr>\n",
              "      <th>2</th>\n",
              "      <td>San Churro Cafe</td>\n",
              "      <td>Yes</td>\n",
              "      <td>No</td>\n",
              "      <td>3.8/5</td>\n",
              "      <td>918</td>\n",
              "      <td>Banashankari</td>\n",
              "      <td>Cafe, Casual Dining</td>\n",
              "      <td>Churros, Cannelloni, Minestrone Soup, Hot Choc...</td>\n",
              "      <td>Cafe, Mexican, Italian</td>\n",
              "      <td>800</td>\n",
              "      <td>Buffet</td>\n",
              "    </tr>\n",
              "    <tr>\n",
              "      <th>3</th>\n",
              "      <td>Addhuri Udupi Bhojana</td>\n",
              "      <td>No</td>\n",
              "      <td>No</td>\n",
              "      <td>3.7/5</td>\n",
              "      <td>88</td>\n",
              "      <td>Banashankari</td>\n",
              "      <td>Quick Bites</td>\n",
              "      <td>Masala Dosa</td>\n",
              "      <td>South Indian, North Indian</td>\n",
              "      <td>300</td>\n",
              "      <td>Buffet</td>\n",
              "    </tr>\n",
              "    <tr>\n",
              "      <th>4</th>\n",
              "      <td>Grand Village</td>\n",
              "      <td>No</td>\n",
              "      <td>No</td>\n",
              "      <td>3.8/5</td>\n",
              "      <td>166</td>\n",
              "      <td>Basavanagudi</td>\n",
              "      <td>Casual Dining</td>\n",
              "      <td>Panipuri, Gol Gappe</td>\n",
              "      <td>North Indian, Rajasthani</td>\n",
              "      <td>600</td>\n",
              "      <td>Buffet</td>\n",
              "    </tr>\n",
              "    <tr>\n",
              "      <th>...</th>\n",
              "      <td>...</td>\n",
              "      <td>...</td>\n",
              "      <td>...</td>\n",
              "      <td>...</td>\n",
              "      <td>...</td>\n",
              "      <td>...</td>\n",
              "      <td>...</td>\n",
              "      <td>...</td>\n",
              "      <td>...</td>\n",
              "      <td>...</td>\n",
              "      <td>...</td>\n",
              "    </tr>\n",
              "    <tr>\n",
              "      <th>51712</th>\n",
              "      <td>Best Brews - Four Points by Sheraton Bengaluru...</td>\n",
              "      <td>No</td>\n",
              "      <td>No</td>\n",
              "      <td>3.6 /5</td>\n",
              "      <td>27</td>\n",
              "      <td>Whitefield</td>\n",
              "      <td>Bar</td>\n",
              "      <td>NaN</td>\n",
              "      <td>Continental</td>\n",
              "      <td>1,500</td>\n",
              "      <td>Pubs and bars</td>\n",
              "    </tr>\n",
              "    <tr>\n",
              "      <th>51713</th>\n",
              "      <td>Vinod Bar And Restaurant</td>\n",
              "      <td>No</td>\n",
              "      <td>No</td>\n",
              "      <td>NaN</td>\n",
              "      <td>0</td>\n",
              "      <td>Whitefield</td>\n",
              "      <td>Bar</td>\n",
              "      <td>NaN</td>\n",
              "      <td>Finger Food</td>\n",
              "      <td>600</td>\n",
              "      <td>Pubs and bars</td>\n",
              "    </tr>\n",
              "    <tr>\n",
              "      <th>51714</th>\n",
              "      <td>Plunge - Sheraton Grand Bengaluru Whitefield H...</td>\n",
              "      <td>No</td>\n",
              "      <td>No</td>\n",
              "      <td>NaN</td>\n",
              "      <td>0</td>\n",
              "      <td>Whitefield</td>\n",
              "      <td>Bar</td>\n",
              "      <td>NaN</td>\n",
              "      <td>Finger Food</td>\n",
              "      <td>2,000</td>\n",
              "      <td>Pubs and bars</td>\n",
              "    </tr>\n",
              "    <tr>\n",
              "      <th>51715</th>\n",
              "      <td>Chime - Sheraton Grand Bengaluru Whitefield Ho...</td>\n",
              "      <td>No</td>\n",
              "      <td>Yes</td>\n",
              "      <td>4.3 /5</td>\n",
              "      <td>236</td>\n",
              "      <td>ITPL Main Road, Whitefield</td>\n",
              "      <td>Bar</td>\n",
              "      <td>Cocktails, Pizza, Buttermilk</td>\n",
              "      <td>Finger Food</td>\n",
              "      <td>2,500</td>\n",
              "      <td>Pubs and bars</td>\n",
              "    </tr>\n",
              "    <tr>\n",
              "      <th>51716</th>\n",
              "      <td>The Nest - The Den Bengaluru</td>\n",
              "      <td>No</td>\n",
              "      <td>No</td>\n",
              "      <td>3.4 /5</td>\n",
              "      <td>13</td>\n",
              "      <td>ITPL Main Road, Whitefield</td>\n",
              "      <td>Bar, Casual Dining</td>\n",
              "      <td>NaN</td>\n",
              "      <td>Finger Food, North Indian, Continental</td>\n",
              "      <td>1,500</td>\n",
              "      <td>Pubs and bars</td>\n",
              "    </tr>\n",
              "  </tbody>\n",
              "</table>\n",
              "<p>51717 rows × 11 columns</p>\n",
              "</div>\n",
              "      <button class=\"colab-df-convert\" onclick=\"convertToInteractive('df-c247e770-1665-4d0b-8635-87033f137c27')\"\n",
              "              title=\"Convert this dataframe to an interactive table.\"\n",
              "              style=\"display:none;\">\n",
              "        \n",
              "  <svg xmlns=\"http://www.w3.org/2000/svg\" height=\"24px\"viewBox=\"0 0 24 24\"\n",
              "       width=\"24px\">\n",
              "    <path d=\"M0 0h24v24H0V0z\" fill=\"none\"/>\n",
              "    <path d=\"M18.56 5.44l.94 2.06.94-2.06 2.06-.94-2.06-.94-.94-2.06-.94 2.06-2.06.94zm-11 1L8.5 8.5l.94-2.06 2.06-.94-2.06-.94L8.5 2.5l-.94 2.06-2.06.94zm10 10l.94 2.06.94-2.06 2.06-.94-2.06-.94-.94-2.06-.94 2.06-2.06.94z\"/><path d=\"M17.41 7.96l-1.37-1.37c-.4-.4-.92-.59-1.43-.59-.52 0-1.04.2-1.43.59L10.3 9.45l-7.72 7.72c-.78.78-.78 2.05 0 2.83L4 21.41c.39.39.9.59 1.41.59.51 0 1.02-.2 1.41-.59l7.78-7.78 2.81-2.81c.8-.78.8-2.07 0-2.86zM5.41 20L4 18.59l7.72-7.72 1.47 1.35L5.41 20z\"/>\n",
              "  </svg>\n",
              "      </button>\n",
              "      \n",
              "  <style>\n",
              "    .colab-df-container {\n",
              "      display:flex;\n",
              "      flex-wrap:wrap;\n",
              "      gap: 12px;\n",
              "    }\n",
              "\n",
              "    .colab-df-convert {\n",
              "      background-color: #E8F0FE;\n",
              "      border: none;\n",
              "      border-radius: 50%;\n",
              "      cursor: pointer;\n",
              "      display: none;\n",
              "      fill: #1967D2;\n",
              "      height: 32px;\n",
              "      padding: 0 0 0 0;\n",
              "      width: 32px;\n",
              "    }\n",
              "\n",
              "    .colab-df-convert:hover {\n",
              "      background-color: #E2EBFA;\n",
              "      box-shadow: 0px 1px 2px rgba(60, 64, 67, 0.3), 0px 1px 3px 1px rgba(60, 64, 67, 0.15);\n",
              "      fill: #174EA6;\n",
              "    }\n",
              "\n",
              "    [theme=dark] .colab-df-convert {\n",
              "      background-color: #3B4455;\n",
              "      fill: #D2E3FC;\n",
              "    }\n",
              "\n",
              "    [theme=dark] .colab-df-convert:hover {\n",
              "      background-color: #434B5C;\n",
              "      box-shadow: 0px 1px 3px 1px rgba(0, 0, 0, 0.15);\n",
              "      filter: drop-shadow(0px 1px 2px rgba(0, 0, 0, 0.3));\n",
              "      fill: #FFFFFF;\n",
              "    }\n",
              "  </style>\n",
              "\n",
              "      <script>\n",
              "        const buttonEl =\n",
              "          document.querySelector('#df-c247e770-1665-4d0b-8635-87033f137c27 button.colab-df-convert');\n",
              "        buttonEl.style.display =\n",
              "          google.colab.kernel.accessAllowed ? 'block' : 'none';\n",
              "\n",
              "        async function convertToInteractive(key) {\n",
              "          const element = document.querySelector('#df-c247e770-1665-4d0b-8635-87033f137c27');\n",
              "          const dataTable =\n",
              "            await google.colab.kernel.invokeFunction('convertToInteractive',\n",
              "                                                     [key], {});\n",
              "          if (!dataTable) return;\n",
              "\n",
              "          const docLinkHtml = 'Like what you see? Visit the ' +\n",
              "            '<a target=\"_blank\" href=https://colab.research.google.com/notebooks/data_table.ipynb>data table notebook</a>'\n",
              "            + ' to learn more about interactive tables.';\n",
              "          element.innerHTML = '';\n",
              "          dataTable['output_type'] = 'display_data';\n",
              "          await google.colab.output.renderOutput(dataTable, element);\n",
              "          const docLink = document.createElement('div');\n",
              "          docLink.innerHTML = docLinkHtml;\n",
              "          element.appendChild(docLink);\n",
              "        }\n",
              "      </script>\n",
              "    </div>\n",
              "  </div>\n",
              "  "
            ]
          },
          "metadata": {},
          "execution_count": 15
        }
      ]
    },
    {
      "cell_type": "code",
      "source": [
        "rest_data.drop_duplicates(inplace = True)  # drop duplicate data\n",
        "rest_data.shape"
      ],
      "metadata": {
        "colab": {
          "base_uri": "https://localhost:8080/"
        },
        "id": "7vgRAGjMzp6W",
        "outputId": "3bf617f6-60e0-4cae-b5f5-ab173327b187"
      },
      "execution_count": null,
      "outputs": [
        {
          "output_type": "execute_result",
          "data": {
            "text/plain": [
              "(35109, 11)"
            ]
          },
          "metadata": {},
          "execution_count": 16
        }
      ]
    },
    {
      "cell_type": "code",
      "source": [
        "rest_data['rate'].unique()"
      ],
      "metadata": {
        "colab": {
          "base_uri": "https://localhost:8080/"
        },
        "id": "L3QX2b4Izp8d",
        "outputId": "0100305a-f34c-44a6-847c-ebe65503a603"
      },
      "execution_count": null,
      "outputs": [
        {
          "output_type": "execute_result",
          "data": {
            "text/plain": [
              "array(['4.1/5', '3.8/5', '3.7/5', '3.6/5', '4.6/5', '4.0/5', '4.2/5',\n",
              "       '3.9/5', '3.1/5', '3.0/5', '3.2/5', '3.3/5', '2.8/5', '4.4/5',\n",
              "       '4.3/5', 'NEW', '2.9/5', '3.5/5', nan, '2.6/5', '3.8 /5', '3.4/5',\n",
              "       '4.5/5', '2.5/5', '2.7/5', '4.7/5', '2.4/5', '2.2/5', '2.3/5',\n",
              "       '3.4 /5', '-', '3.6 /5', '4.8/5', '3.9 /5', '4.2 /5', '4.0 /5',\n",
              "       '4.1 /5', '3.7 /5', '3.1 /5', '2.9 /5', '3.3 /5', '2.8 /5',\n",
              "       '3.5 /5', '2.7 /5', '2.5 /5', '3.2 /5', '2.6 /5', '4.5 /5',\n",
              "       '4.3 /5', '4.4 /5', '4.9/5', '2.1/5', '2.0/5', '1.8/5', '4.6 /5',\n",
              "       '4.9 /5', '3.0 /5', '4.8 /5', '2.3 /5', '4.7 /5', '2.4 /5',\n",
              "       '2.1 /5', '2.2 /5', '2.0 /5', '1.8 /5'], dtype=object)"
            ]
          },
          "metadata": {},
          "execution_count": 17
        }
      ]
    },
    {
      "cell_type": "code",
      "source": [
        "def split_rating(value):                  # cleaning rate column\n",
        "    if(value=='NEW' or value=='-'):\n",
        "        return np.nan\n",
        "    else:\n",
        "        value = str(value).split('/')\n",
        "        value = value[0]\n",
        "        return float(value)\n",
        "rest_data['rate'] = rest_data['rate'].apply(split_rating)"
      ],
      "metadata": {
        "id": "72nhmJ23zp-Z"
      },
      "execution_count": null,
      "outputs": []
    },
    {
      "cell_type": "code",
      "source": [
        "rest_data['rate'].unique()"
      ],
      "metadata": {
        "colab": {
          "base_uri": "https://localhost:8080/"
        },
        "id": "4BGVeQqbzqAU",
        "outputId": "8185dbfd-ed2c-4a46-e956-202265e51e68"
      },
      "execution_count": null,
      "outputs": [
        {
          "output_type": "execute_result",
          "data": {
            "text/plain": [
              "array([4.1, 3.8, 3.7, 3.6, 4.6, 4. , 4.2, 3.9, 3.1, 3. , 3.2, 3.3, 2.8,\n",
              "       4.4, 4.3, nan, 2.9, 3.5, 2.6, 3.4, 4.5, 2.5, 2.7, 4.7, 2.4, 2.2,\n",
              "       2.3, 4.8, 4.9, 2.1, 2. , 1.8])"
            ]
          },
          "metadata": {},
          "execution_count": 19
        }
      ]
    },
    {
      "cell_type": "code",
      "source": [
        "rest_data['rate'].fillna(rest_data['rate'].median(), inplace = True)  # filling null values of rate column\n",
        "rest_data['rate'].isnull().sum()"
      ],
      "metadata": {
        "id": "F8oTA5BCHJd7",
        "colab": {
          "base_uri": "https://localhost:8080/"
        },
        "outputId": "d3e690e2-6cf4-43b0-f43e-c9c23f8a117d"
      },
      "execution_count": null,
      "outputs": [
        {
          "output_type": "execute_result",
          "data": {
            "text/plain": [
              "0"
            ]
          },
          "metadata": {},
          "execution_count": 20
        }
      ]
    },
    {
      "cell_type": "code",
      "source": [
        "rest_data.isnull().sum()"
      ],
      "metadata": {
        "colab": {
          "base_uri": "https://localhost:8080/"
        },
        "id": "XHoyskcsH2bf",
        "outputId": "685985c6-c5ec-48c2-9e31-19a4dbb0df97"
      },
      "execution_count": null,
      "outputs": [
        {
          "output_type": "execute_result",
          "data": {
            "text/plain": [
              "name                               0\n",
              "online_order                       0\n",
              "book_table                         0\n",
              "rate                               0\n",
              "votes                              0\n",
              "location                          14\n",
              "rest_type                        156\n",
              "dish_liked                     17007\n",
              "cuisines                          33\n",
              "approx_cost(for two people)      221\n",
              "listed_in(type)                    0\n",
              "dtype: int64"
            ]
          },
          "metadata": {},
          "execution_count": 21
        }
      ]
    },
    {
      "cell_type": "code",
      "source": [
        "rest_data.dropna(inplace = True)  # dropping null values\n",
        "rest_data.isnull().sum()"
      ],
      "metadata": {
        "id": "PKsZPgAQHJiQ",
        "colab": {
          "base_uri": "https://localhost:8080/"
        },
        "outputId": "0ec50bcc-cc1f-4708-af04-13c6a913f4a0"
      },
      "execution_count": null,
      "outputs": [
        {
          "output_type": "execute_result",
          "data": {
            "text/plain": [
              "name                           0\n",
              "online_order                   0\n",
              "book_table                     0\n",
              "rate                           0\n",
              "votes                          0\n",
              "location                       0\n",
              "rest_type                      0\n",
              "dish_liked                     0\n",
              "cuisines                       0\n",
              "approx_cost(for two people)    0\n",
              "listed_in(type)                0\n",
              "dtype: int64"
            ]
          },
          "metadata": {},
          "execution_count": 22
        }
      ]
    },
    {
      "cell_type": "code",
      "source": [
        "rest_data['approx_cost(for two people)'].unique()"
      ],
      "metadata": {
        "id": "HO8Jp5FeHJkt",
        "colab": {
          "base_uri": "https://localhost:8080/"
        },
        "outputId": "8f6795a7-52ff-431e-d70b-fe9263d85a6e"
      },
      "execution_count": null,
      "outputs": [
        {
          "output_type": "execute_result",
          "data": {
            "text/plain": [
              "array(['800', '300', '600', '700', '550', '500', '450', '650', '400',\n",
              "       '750', '200', '850', '1,200', '150', '350', '250', '1,500',\n",
              "       '1,300', '1,000', '100', '900', '1,100', '1,600', '950', '230',\n",
              "       '1,700', '1,400', '1,350', '2,200', '2,000', '1,800', '1,900',\n",
              "       '180', '330', '2,500', '2,100', '3,000', '2,800', '3,400', '40',\n",
              "       '1,250', '3,500', '4,000', '2,400', '1,450', '3,200', '6,000',\n",
              "       '1,050', '4,100', '2,300', '120', '2,600', '5,000', '3,700',\n",
              "       '1,650', '2,700', '4,500'], dtype=object)"
            ]
          },
          "metadata": {},
          "execution_count": 23
        }
      ]
    },
    {
      "cell_type": "code",
      "source": [
        "def remove_comma(value):\n",
        "    value = str(value)\n",
        "    if ',' in value:\n",
        "        value = value.replace(',', '')\n",
        "        return float(value)\n",
        "    else:\n",
        "        return float(value)\n",
        "    \n",
        "rest_data['approx_cost(for two people)'] = rest_data['approx_cost(for two people)'].apply(remove_comma)"
      ],
      "metadata": {
        "id": "FONwPbjmHJn3"
      },
      "execution_count": null,
      "outputs": []
    },
    {
      "cell_type": "code",
      "source": [
        "rest_data['approx_cost(for two people)'].unique()"
      ],
      "metadata": {
        "colab": {
          "base_uri": "https://localhost:8080/"
        },
        "id": "61v9dLcEh7nh",
        "outputId": "0c738347-f9a2-452f-da84-9e12b1967de0"
      },
      "execution_count": null,
      "outputs": [
        {
          "output_type": "execute_result",
          "data": {
            "text/plain": [
              "array([ 800.,  300.,  600.,  700.,  550.,  500.,  450.,  650.,  400.,\n",
              "        750.,  200.,  850., 1200.,  150.,  350.,  250., 1500., 1300.,\n",
              "       1000.,  100.,  900., 1100., 1600.,  950.,  230., 1700., 1400.,\n",
              "       1350., 2200., 2000., 1800., 1900.,  180.,  330., 2500., 2100.,\n",
              "       3000., 2800., 3400.,   40., 1250., 3500., 4000., 2400., 1450.,\n",
              "       3200., 6000., 1050., 4100., 2300.,  120., 2600., 5000., 3700.,\n",
              "       1650., 2700., 4500.])"
            ]
          },
          "metadata": {},
          "execution_count": 25
        }
      ]
    },
    {
      "cell_type": "code",
      "source": [
        "rest_data['rest_type'].value_counts()"
      ],
      "metadata": {
        "colab": {
          "base_uri": "https://localhost:8080/"
        },
        "id": "QiP1CdEAh7pw",
        "outputId": "484bb83e-6bfc-403e-c2fb-62ede83d0b22"
      },
      "execution_count": null,
      "outputs": [
        {
          "output_type": "execute_result",
          "data": {
            "text/plain": [
              "Casual Dining                5642\n",
              "Quick Bites                  3806\n",
              "Cafe                         1812\n",
              "Casual Dining, Bar            852\n",
              "Dessert Parlor                785\n",
              "                             ... \n",
              "Bar, Pub                        5\n",
              "Club, Casual Dining             4\n",
              "Dessert Parlor, Kiosk           2\n",
              "Dhaba                           1\n",
              "Food Court, Casual Dining       1\n",
              "Name: rest_type, Length: 73, dtype: int64"
            ]
          },
          "metadata": {},
          "execution_count": 26
        }
      ]
    },
    {
      "cell_type": "code",
      "source": [
        "rest_data['location'].value_counts()"
      ],
      "metadata": {
        "colab": {
          "base_uri": "https://localhost:8080/"
        },
        "id": "KOcHnbKeh7r-",
        "outputId": "a3e1c2b6-52dc-43bc-be34-ed099dcd01c6"
      },
      "execution_count": null,
      "outputs": [
        {
          "output_type": "execute_result",
          "data": {
            "text/plain": [
              "Koramangala 5th Block    1335\n",
              "Indiranagar              1237\n",
              "BTM                       947\n",
              "HSR                       928\n",
              "Whitefield                826\n",
              "                         ... \n",
              "West Bangalore              2\n",
              "Yelahanka                   2\n",
              "Magadi Road                 2\n",
              "North Bangalore             1\n",
              "KR Puram                    1\n",
              "Name: location, Length: 88, dtype: int64"
            ]
          },
          "metadata": {},
          "execution_count": 27
        }
      ]
    },
    {
      "cell_type": "code",
      "source": [
        "rest_data['cuisines'].value_counts()"
      ],
      "metadata": {
        "colab": {
          "base_uri": "https://localhost:8080/"
        },
        "id": "3BvWEKmlh7t8",
        "outputId": "7120a06f-d7cf-4711-fc22-943bc1fa174c"
      },
      "execution_count": null,
      "outputs": [
        {
          "output_type": "execute_result",
          "data": {
            "text/plain": [
              "North Indian                            890\n",
              "North Indian, Chinese                   581\n",
              "South Indian                            277\n",
              "Cafe                                    203\n",
              "Bakery, Desserts                        171\n",
              "                                       ... \n",
              "Cafe, Italian, Continental, European      1\n",
              "American, Continental, Chinese            1\n",
              "Sandwich, Pizza, Salad                    1\n",
              "Seafood, Fast Food                        1\n",
              "Thai, Chinese, Momos                      1\n",
              "Name: cuisines, Length: 1691, dtype: int64"
            ]
          },
          "metadata": {},
          "execution_count": 28
        }
      ]
    },
    {
      "cell_type": "code",
      "source": [
        "rest_data['online_order'] = rest_data['online_order'].map({'Yes': 'Online', 'No': 'Offline'})\n",
        "rest_data['book_table'] = rest_data['book_table'].map({'Yes': 'booking_available', 'No': 'booking_not_available'})"
      ],
      "metadata": {
        "id": "KCU7ZXXmPp9v"
      },
      "execution_count": null,
      "outputs": []
    },
    {
      "cell_type": "markdown",
      "source": [
        "# **EDA**"
      ],
      "metadata": {
        "id": "aR0ngkMZ_0mQ"
      }
    },
    {
      "cell_type": "code",
      "source": [
        "# histogram plots\n",
        "rest_data.hist()"
      ],
      "metadata": {
        "colab": {
          "base_uri": "https://localhost:8080/",
          "height": 368
        },
        "id": "u9-MSU-fnQYc",
        "outputId": "3ee1dfd9-471c-4b91-bea7-588afee5b224"
      },
      "execution_count": null,
      "outputs": [
        {
          "output_type": "execute_result",
          "data": {
            "text/plain": [
              "array([[<matplotlib.axes._subplots.AxesSubplot object at 0x7fc82796ed10>,\n",
              "        <matplotlib.axes._subplots.AxesSubplot object at 0x7fc822d7d8d0>],\n",
              "       [<matplotlib.axes._subplots.AxesSubplot object at 0x7fc822d39e90>,\n",
              "        <matplotlib.axes._subplots.AxesSubplot object at 0x7fc822cfc4d0>]],\n",
              "      dtype=object)"
            ]
          },
          "metadata": {},
          "execution_count": 30
        },
        {
          "output_type": "display_data",
          "data": {
            "text/plain": [
              "<Figure size 432x288 with 4 Axes>"
            ],
            "image/png": "[encoded data removed]"
          },
          "metadata": {
            "needs_background": "light"
          }
        }
      ]
    },
    {
      "cell_type": "code",
      "source": [
        "'''# outliers\n",
        "plt.subplots(1,3)\n",
        "numerical_features = [x for x in rest_data.columns if rest_data[x].dtype != 'O']\n",
        "for col in numerical_features:\n",
        "    plt.figure(figsize = (6,6))\n",
        "    sns.boxplot(x=col, data=rest_data)\n",
        "    plt.xlabel(col)\n",
        "    plt.ylabel('Value')\n",
        "    plt.show()'''"
      ],
      "metadata": {
        "colab": {
          "base_uri": "https://localhost:8080/",
          "height": 53
        },
        "id": "0l3Om_8atlQx",
        "outputId": "00a2bbf6-44be-485b-9270-59834d331d57"
      },
      "execution_count": null,
      "outputs": [
        {
          "output_type": "execute_result",
          "data": {
            "text/plain": [
              "\"# outliers\\nplt.subplots(1,3)\\nnumerical_features = [x for x in rest_data.columns if rest_data[x].dtype != 'O']\\nfor col in numerical_features:\\n    plt.figure(figsize = (6,6))\\n    sns.boxplot(x=col, data=rest_data)\\n    plt.xlabel(col)\\n    plt.ylabel('Value')\\n    plt.show()\""
            ],
            "application/vnd.google.colaboratory.intrinsic+json": {
              "type": "string"
            }
          },
          "metadata": {},
          "execution_count": 31
        }
      ]
    },
    {
      "cell_type": "code",
      "source": [
        "fig, axes = plt.subplots(1, 3, figsize=(17, 5), sharey=True)\n",
        "fig.suptitle('Outliers')\n",
        "numerical_features = [x for x in rest_data.columns if rest_data[x].dtype != 'O']\n",
        "ax=0\n",
        "for col in numerical_features:\n",
        "    sns.boxplot(ax=axes[ax], x=col, data=rest_data)\n",
        "    ax+=1\n",
        "#plt.savefig('/content/drive/MyDrive/Harman_Project/EDA_Plots/Outliers.png')"
      ],
      "metadata": {
        "colab": {
          "base_uri": "https://localhost:8080/",
          "height": 371
        },
        "id": "mSom79bPYfPZ",
        "outputId": "e29e483f-9216-4d6e-8642-2266dc1c793c"
      },
      "execution_count": null,
      "outputs": [
        {
          "output_type": "display_data",
          "data": {
            "text/plain": [
              "<Figure size 1224x360 with 3 Axes>"
            ],
            "image/png": "[encoded data removed]"
          },
          "metadata": {
            "needs_background": "light"
          }
        }
      ]
    },
    {
      "cell_type": "code",
      "source": [
        "# number of restaurants in every location\n",
        "plt.figure(figsize = (17,8))\n",
        "ax = sns.countplot(rest_data['location'])\n",
        "plt.xticks(rotation=90)\n",
        "plt.title('Location wise number of restaurants')\n",
        "plt.xlabel('Location')\n",
        "plt.ylabel('Number of Restaurants')\n",
        "plt.legend()\n",
        "#plt.savefig('/content/drive/MyDrive/Harman_Project/EDA_Plots/Location_wise_number_of_restaurants.png')"
      ],
      "metadata": {
        "colab": {
          "base_uri": "https://localhost:8080/",
          "height": 741
        },
        "id": "-8hRFon-h7wA",
        "outputId": "75ddf78c-e10d-4bac-f888-be31d80fbeb7"
      },
      "execution_count": null,
      "outputs": [
        {
          "output_type": "stream",
          "name": "stderr",
          "text": [
            "/usr/local/lib/python3.7/dist-packages/seaborn/_decorators.py:43: FutureWarning: Pass the following variable as a keyword arg: x. From version 0.12, the only valid positional argument will be `data`, and passing other arguments without an explicit keyword will result in an error or misinterpretation.\n",
            "  FutureWarning\n",
            "No handles with labels found to put in legend.\n"
          ]
        },
        {
          "output_type": "execute_result",
          "data": {
            "text/plain": [
              "<matplotlib.legend.Legend at 0x7fc822be65d0>"
            ]
          },
          "metadata": {},
          "execution_count": 33
        },
        {
          "output_type": "display_data",
          "data": {
            "text/plain": [
              "<Figure size 1224x576 with 1 Axes>"
            ],
            "image/png": "[encoded data removed]"
          },
          "metadata": {
            "needs_background": "light"
          }
        }
      ]
    },
    {
      "cell_type": "code",
      "source": [
        "# Number of online and offline orders\n",
        "plt.figure(figsize = (5,5))\n",
        "sns.countplot(rest_data['online_order'], palette = 'gist_rainbow')\n",
        "plt.title('Number of Online vs Offline orders')\n",
        "plt.xlabel('Online/Offline orders')\n",
        "plt.ylabel('Number of Orders')\n",
        "plt.legend()\n",
        "#plt.savefig('/content/drive/MyDrive/Harman_Project/EDA_Plots/Number_of_Online_vs_Offline_orders.png')"
      ],
      "metadata": {
        "colab": {
          "base_uri": "https://localhost:8080/",
          "height": 439
        },
        "id": "_cSE9fb3nQTv",
        "outputId": "3feaee3a-f826-47f0-ff4e-7ed38d226821"
      },
      "execution_count": null,
      "outputs": [
        {
          "output_type": "stream",
          "name": "stderr",
          "text": [
            "/usr/local/lib/python3.7/dist-packages/seaborn/_decorators.py:43: FutureWarning: Pass the following variable as a keyword arg: x. From version 0.12, the only valid positional argument will be `data`, and passing other arguments without an explicit keyword will result in an error or misinterpretation.\n",
            "  FutureWarning\n",
            "No handles with labels found to put in legend.\n"
          ]
        },
        {
          "output_type": "execute_result",
          "data": {
            "text/plain": [
              "<matplotlib.legend.Legend at 0x7fc822bb16d0>"
            ]
          },
          "metadata": {},
          "execution_count": 34
        },
        {
          "output_type": "display_data",
          "data": {
            "text/plain": [
              "<Figure size 360x360 with 1 Axes>"
            ],
            "image/png": "[encoded data removed]"
          },
          "metadata": {
            "needs_background": "light"
          }
        }
      ]
    },
    {
      "cell_type": "code",
      "source": [
        "# Number of table bookings\n",
        "plt.figure(figsize = (5,5))\n",
        "sns.countplot(rest_data['book_table'], palette = 'gist_rainbow')\n",
        "plt.title('Number of restaurants where table booking facility is availble')\n",
        "plt.xlabel('Table Booking')\n",
        "plt.ylabel('Number of Restaurants')\n",
        "plt.legend()\n",
        "#plt.savefig('/content/drive/MyDrive/Harman_Project/EDA_Plots/Number_of_restaurants_where_table_booking_facility_is_availble.png')"
      ],
      "metadata": {
        "colab": {
          "base_uri": "https://localhost:8080/",
          "height": 440
        },
        "id": "lpFJq253nQV8",
        "outputId": "181cc33c-56ae-49eb-e2e4-938bffd50c54"
      },
      "execution_count": null,
      "outputs": [
        {
          "output_type": "stream",
          "name": "stderr",
          "text": [
            "/usr/local/lib/python3.7/dist-packages/seaborn/_decorators.py:43: FutureWarning: Pass the following variable as a keyword arg: x. From version 0.12, the only valid positional argument will be `data`, and passing other arguments without an explicit keyword will result in an error or misinterpretation.\n",
            "  FutureWarning\n",
            "No handles with labels found to put in legend.\n"
          ]
        },
        {
          "output_type": "execute_result",
          "data": {
            "text/plain": [
              "<matplotlib.legend.Legend at 0x7fc822313550>"
            ]
          },
          "metadata": {},
          "execution_count": 35
        },
        {
          "output_type": "display_data",
          "data": {
            "text/plain": [
              "<Figure size 360x360 with 1 Axes>"
            ],
            "image/png": "[encoded data removed]"
          },
          "metadata": {
            "needs_background": "light"
          }
        }
      ]
    },
    {
      "cell_type": "code",
      "source": [
        "# Rating of restaurants serving online orders and offline order\n",
        "plt.figure(figsize = (5,5))\n",
        "sns.boxplot(x = 'online_order', y = 'rate', data = rest_data)\n",
        "plt.title('Rating of restaurants serving online orders or offline order')\n",
        "plt.xlabel('Online/Offline orders')\n",
        "plt.ylabel('Rating of the Restaurants')\n",
        "plt.legend()\n",
        "#plt.savefig('/content/drive/MyDrive/Harman_Project/EDA_Plots/Rating_of_restaurants_serving_online_orders_or_offline_order.png')"
      ],
      "metadata": {
        "colab": {
          "base_uri": "https://localhost:8080/",
          "height": 385
        },
        "id": "JpkhYRl2sUxd",
        "outputId": "c5174686-fcde-4cde-ea76-9f33e91170d6"
      },
      "execution_count": null,
      "outputs": [
        {
          "output_type": "stream",
          "name": "stderr",
          "text": [
            "No handles with labels found to put in legend.\n"
          ]
        },
        {
          "output_type": "execute_result",
          "data": {
            "text/plain": [
              "<matplotlib.legend.Legend at 0x7fc8222f9c10>"
            ]
          },
          "metadata": {},
          "execution_count": 36
        },
        {
          "output_type": "display_data",
          "data": {
            "text/plain": [
              "<Figure size 360x360 with 1 Axes>"
            ],
            "image/png": "[encoded data removed]"
          },
          "metadata": {
            "needs_background": "light"
          }
        }
      ]
    },
    {
      "cell_type": "code",
      "source": [
        "# ratings of restaurants providing pre-booking facilities\n",
        "plt.figure(figsize = (5,5))\n",
        "sns.boxplot(x = 'book_table', y = 'rate', data = rest_data)\n",
        "plt.title('Rating of restaurants where table booking is available vs where booking is not available')\n",
        "plt.xlabel('Table Booking')\n",
        "plt.ylabel('Rating of the Restaurants')\n",
        "plt.legend()\n",
        "#plt.savefig('/content/drive/MyDrive/Harman_Project/EDA_Plots/Rating_of_restaurants_where_table_booking_is_available_vs_where_booking_is_not_available.png')"
      ],
      "metadata": {
        "colab": {
          "base_uri": "https://localhost:8080/",
          "height": 386
        },
        "id": "FxPsSDdFnQaV",
        "outputId": "8beebd13-9caa-4ba6-d889-343c1e38f6eb"
      },
      "execution_count": null,
      "outputs": [
        {
          "output_type": "stream",
          "name": "stderr",
          "text": [
            "No handles with labels found to put in legend.\n"
          ]
        },
        {
          "output_type": "execute_result",
          "data": {
            "text/plain": [
              "<matplotlib.legend.Legend at 0x7fc822290890>"
            ]
          },
          "metadata": {},
          "execution_count": 37
        },
        {
          "output_type": "display_data",
          "data": {
            "text/plain": [
              "<Figure size 360x360 with 1 Axes>"
            ],
            "image/png": "[encoded data removed]"
          },
          "metadata": {
            "needs_background": "light"
          }
        }
      ]
    },
    {
      "cell_type": "code",
      "source": [
        "# cost of 2 people for booking table\n",
        "\n",
        "plt.figure(figsize = (5,5))\n",
        "sns.boxplot(x = 'book_table', y = 'approx_cost(for two people)', data = rest_data)\n",
        "plt.title('Cost of a restaurant where booking is available vs where booking is not available')\n",
        "plt.xlabel('Table Booking')\n",
        "plt.ylabel('Cost for two people')\n",
        "plt.legend()\n",
        "#plt.savefig('/content/drive/MyDrive/Harman_Project/EDA_Plots/Cost_of_a_restaurant_where_booking_is_available_vs_where_booking_is_not_available.png')"
      ],
      "metadata": {
        "colab": {
          "base_uri": "https://localhost:8080/",
          "height": 386
        },
        "id": "zRN-5LGF3R9F",
        "outputId": "d430efaf-cc78-4f94-fb7f-b051bc031683"
      },
      "execution_count": null,
      "outputs": [
        {
          "output_type": "stream",
          "name": "stderr",
          "text": [
            "No handles with labels found to put in legend.\n"
          ]
        },
        {
          "output_type": "execute_result",
          "data": {
            "text/plain": [
              "<matplotlib.legend.Legend at 0x7fc822305d10>"
            ]
          },
          "metadata": {},
          "execution_count": 38
        },
        {
          "output_type": "display_data",
          "data": {
            "text/plain": [
              "<Figure size 360x360 with 1 Axes>"
            ],
            "image/png": "[encoded data removed]"
          },
          "metadata": {
            "needs_background": "light"
          }
        }
      ]
    },
    {
      "cell_type": "code",
      "source": [
        "# figure out does costly restraunts also have higher ratings\n",
        "\n",
        "plt.figure(figsize = (35,6))\n",
        "sns.boxplot(x = 'approx_cost(for two people)', y = 'rate', data = rest_data)\n",
        "plt.title('Average Cost of the restaurant vs their ratings')\n",
        "plt.xlabel('Cost for two people')\n",
        "plt.ylabel('Ratings of the Restaurant')\n",
        "plt.legend()\n",
        "#plt.savefig('/content/drive/MyDrive/Harman_Project/EDA_Plots/Average_Cost_of_the_restaurant_vs_their_ratings.png')"
      ],
      "metadata": {
        "colab": {
          "base_uri": "https://localhost:8080/",
          "height": 325
        },
        "id": "gAtfFZCCHLTZ",
        "outputId": "54931ee6-f644-4087-b475-a20c85adb449"
      },
      "execution_count": null,
      "outputs": [
        {
          "output_type": "stream",
          "name": "stderr",
          "text": [
            "No handles with labels found to put in legend.\n"
          ]
        },
        {
          "output_type": "execute_result",
          "data": {
            "text/plain": [
              "<matplotlib.legend.Legend at 0x7fc82214ac10>"
            ]
          },
          "metadata": {},
          "execution_count": 39
        },
        {
          "output_type": "display_data",
          "data": {
            "text/plain": [
              "<Figure size 2520x432 with 1 Axes>"
            ],
            "image/png": "[encoded data removed]"
          },
          "metadata": {
            "needs_background": "light"
          }
        }
      ]
    },
    {
      "cell_type": "code",
      "source": [
        "# location wise online orders\n",
        "df_loc_onlineord = pd.DataFrame(rest_data.groupby(['location','online_order'])['name'].count())\n",
        "df_loc_onlineord = pd.pivot_table(df_loc_onlineord, index=['location'], columns=['online_order'])\n",
        "df_loc_onlineord"
      ],
      "metadata": {
        "colab": {
          "base_uri": "https://localhost:8080/",
          "height": 486
        },
        "id": "yGbPzDJQnQcg",
        "outputId": "cc0862e7-6f48-4fe7-e65a-2ee805b61f3c"
      },
      "execution_count": null,
      "outputs": [
        {
          "output_type": "execute_result",
          "data": {
            "text/plain": [
              "                     name       \n",
              "online_order      Offline Online\n",
              "location                        \n",
              "BTM                 177.0  770.0\n",
              "Banashankari         67.0  183.0\n",
              "Banaswadi            34.0  109.0\n",
              "Bannerghatta Road    84.0  308.0\n",
              "Basavanagudi         59.0  132.0\n",
              "...                   ...    ...\n",
              "West Bangalore        NaN    2.0\n",
              "Whitefield          265.0  561.0\n",
              "Wilson Garden         7.0   15.0\n",
              "Yelahanka             NaN    2.0\n",
              "Yeshwantpur           1.0   16.0\n",
              "\n",
              "[88 rows x 2 columns]"
            ],
            "text/html": [
              "\n",
              "  <div id=\"df-0b2a7cd5-6b3e-456e-9c82-a062a7e4bf5d\">\n",
              "    <div class=\"colab-df-container\">\n",
              "      <div>\n",
              "<style scoped>\n",
              "    .dataframe tbody tr th:only-of-type {\n",
              "        vertical-align: middle;\n",
              "    }\n",
              "\n",
              "    .dataframe tbody tr th {\n",
              "        vertical-align: top;\n",
              "    }\n",
              "\n",
              "    .dataframe thead tr th {\n",
              "        text-align: left;\n",
              "    }\n",
              "\n",
              "    .dataframe thead tr:last-of-type th {\n",
              "        text-align: right;\n",
              "    }\n",
              "</style>\n",
              "<table border=\"1\" class=\"dataframe\">\n",
              "  <thead>\n",
              "    <tr>\n",
              "      <th></th>\n",
              "      <th colspan=\"2\" halign=\"left\">name</th>\n",
              "    </tr>\n",
              "    <tr>\n",
              "      <th>online_order</th>\n",
              "      <th>Offline</th>\n",
              "      <th>Online</th>\n",
              "    </tr>\n",
              "    <tr>\n",
              "      <th>location</th>\n",
              "      <th></th>\n",
              "      <th></th>\n",
              "    </tr>\n",
              "  </thead>\n",
              "  <tbody>\n",
              "    <tr>\n",
              "      <th>BTM</th>\n",
              "      <td>177.0</td>\n",
              "      <td>770.0</td>\n",
              "    </tr>\n",
              "    <tr>\n",
              "      <th>Banashankari</th>\n",
              "      <td>67.0</td>\n",
              "      <td>183.0</td>\n",
              "    </tr>\n",
              "    <tr>\n",
              "      <th>Banaswadi</th>\n",
              "      <td>34.0</td>\n",
              "      <td>109.0</td>\n",
              "    </tr>\n",
              "    <tr>\n",
              "      <th>Bannerghatta Road</th>\n",
              "      <td>84.0</td>\n",
              "      <td>308.0</td>\n",
              "    </tr>\n",
              "    <tr>\n",
              "      <th>Basavanagudi</th>\n",
              "      <td>59.0</td>\n",
              "      <td>132.0</td>\n",
              "    </tr>\n",
              "    <tr>\n",
              "      <th>...</th>\n",
              "      <td>...</td>\n",
              "      <td>...</td>\n",
              "    </tr>\n",
              "    <tr>\n",
              "      <th>West Bangalore</th>\n",
              "      <td>NaN</td>\n",
              "      <td>2.0</td>\n",
              "    </tr>\n",
              "    <tr>\n",
              "      <th>Whitefield</th>\n",
              "      <td>265.0</td>\n",
              "      <td>561.0</td>\n",
              "    </tr>\n",
              "    <tr>\n",
              "      <th>Wilson Garden</th>\n",
              "      <td>7.0</td>\n",
              "      <td>15.0</td>\n",
              "    </tr>\n",
              "    <tr>\n",
              "      <th>Yelahanka</th>\n",
              "      <td>NaN</td>\n",
              "      <td>2.0</td>\n",
              "    </tr>\n",
              "    <tr>\n",
              "      <th>Yeshwantpur</th>\n",
              "      <td>1.0</td>\n",
              "      <td>16.0</td>\n",
              "    </tr>\n",
              "  </tbody>\n",
              "</table>\n",
              "<p>88 rows × 2 columns</p>\n",
              "</div>\n",
              "      <button class=\"colab-df-convert\" onclick=\"convertToInteractive('df-0b2a7cd5-6b3e-456e-9c82-a062a7e4bf5d')\"\n",
              "              title=\"Convert this dataframe to an interactive table.\"\n",
              "              style=\"display:none;\">\n",
              "        \n",
              "  <svg xmlns=\"http://www.w3.org/2000/svg\" height=\"24px\"viewBox=\"0 0 24 24\"\n",
              "       width=\"24px\">\n",
              "    <path d=\"M0 0h24v24H0V0z\" fill=\"none\"/>\n",
              "    <path d=\"M18.56 5.44l.94 2.06.94-2.06 2.06-.94-2.06-.94-.94-2.06-.94 2.06-2.06.94zm-11 1L8.5 8.5l.94-2.06 2.06-.94-2.06-.94L8.5 2.5l-.94 2.06-2.06.94zm10 10l.94 2.06.94-2.06 2.06-.94-2.06-.94-.94-2.06-.94 2.06-2.06.94z\"/><path d=\"M17.41 7.96l-1.37-1.37c-.4-.4-.92-.59-1.43-.59-.52 0-1.04.2-1.43.59L10.3 9.45l-7.72 7.72c-.78.78-.78 2.05 0 2.83L4 21.41c.39.39.9.59 1.41.59.51 0 1.02-.2 1.41-.59l7.78-7.78 2.81-2.81c.8-.78.8-2.07 0-2.86zM5.41 20L4 18.59l7.72-7.72 1.47 1.35L5.41 20z\"/>\n",
              "  </svg>\n",
              "      </button>\n",
              "      \n",
              "  <style>\n",
              "    .colab-df-container {\n",
              "      display:flex;\n",
              "      flex-wrap:wrap;\n",
              "      gap: 12px;\n",
              "    }\n",
              "\n",
              "    .colab-df-convert {\n",
              "      background-color: #E8F0FE;\n",
              "      border: none;\n",
              "      border-radius: 50%;\n",
              "      cursor: pointer;\n",
              "      display: none;\n",
              "      fill: #1967D2;\n",
              "      height: 32px;\n",
              "      padding: 0 0 0 0;\n",
              "      width: 32px;\n",
              "    }\n",
              "\n",
              "    .colab-df-convert:hover {\n",
              "      background-color: #E2EBFA;\n",
              "      box-shadow: 0px 1px 2px rgba(60, 64, 67, 0.3), 0px 1px 3px 1px rgba(60, 64, 67, 0.15);\n",
              "      fill: #174EA6;\n",
              "    }\n",
              "\n",
              "    [theme=dark] .colab-df-convert {\n",
              "      background-color: #3B4455;\n",
              "      fill: #D2E3FC;\n",
              "    }\n",
              "\n",
              "    [theme=dark] .colab-df-convert:hover {\n",
              "      background-color: #434B5C;\n",
              "      box-shadow: 0px 1px 3px 1px rgba(0, 0, 0, 0.15);\n",
              "      filter: drop-shadow(0px 1px 2px rgba(0, 0, 0, 0.3));\n",
              "      fill: #FFFFFF;\n",
              "    }\n",
              "  </style>\n",
              "\n",
              "      <script>\n",
              "        const buttonEl =\n",
              "          document.querySelector('#df-0b2a7cd5-6b3e-456e-9c82-a062a7e4bf5d button.colab-df-convert');\n",
              "        buttonEl.style.display =\n",
              "          google.colab.kernel.accessAllowed ? 'block' : 'none';\n",
              "\n",
              "        async function convertToInteractive(key) {\n",
              "          const element = document.querySelector('#df-0b2a7cd5-6b3e-456e-9c82-a062a7e4bf5d');\n",
              "          const dataTable =\n",
              "            await google.colab.kernel.invokeFunction('convertToInteractive',\n",
              "                                                     [key], {});\n",
              "          if (!dataTable) return;\n",
              "\n",
              "          const docLinkHtml = 'Like what you see? Visit the ' +\n",
              "            '<a target=\"_blank\" href=https://colab.research.google.com/notebooks/data_table.ipynb>data table notebook</a>'\n",
              "            + ' to learn more about interactive tables.';\n",
              "          element.innerHTML = '';\n",
              "          dataTable['output_type'] = 'display_data';\n",
              "          await google.colab.output.renderOutput(dataTable, element);\n",
              "          const docLink = document.createElement('div');\n",
              "          docLink.innerHTML = docLinkHtml;\n",
              "          element.appendChild(docLink);\n",
              "        }\n",
              "      </script>\n",
              "    </div>\n",
              "  </div>\n",
              "  "
            ]
          },
          "metadata": {},
          "execution_count": 40
        }
      ]
    },
    {
      "cell_type": "code",
      "source": [
        "rest_data.isnull().sum()"
      ],
      "metadata": {
        "colab": {
          "base_uri": "https://localhost:8080/"
        },
        "id": "cYgKydCXHoyY",
        "outputId": "867cba33-e87b-40b2-9ab3-d76de8cd2194"
      },
      "execution_count": null,
      "outputs": [
        {
          "output_type": "execute_result",
          "data": {
            "text/plain": [
              "name                           0\n",
              "online_order                   0\n",
              "book_table                     0\n",
              "rate                           0\n",
              "votes                          0\n",
              "location                       0\n",
              "rest_type                      0\n",
              "dish_liked                     0\n",
              "cuisines                       0\n",
              "approx_cost(for two people)    0\n",
              "listed_in(type)                0\n",
              "dtype: int64"
            ]
          },
          "metadata": {},
          "execution_count": 41
        }
      ]
    },
    {
      "cell_type": "code",
      "source": [
        "df_loc_onlineord.plot(kind = 'bar', figsize = (17,8))\n",
        "plt.title('Location wise Online/Offline orders')\n",
        "plt.xlabel('Location')\n",
        "plt.ylabel('Number of Online/Offline Orders')\n",
        "plt.legend()\n",
        "#plt.savefig('/content/drive/MyDrive/Harman_Project/EDA_Plots/Location_wise_Online_or_Offline_orders.png')"
      ],
      "metadata": {
        "colab": {
          "base_uri": "https://localhost:8080/",
          "height": 669
        },
        "id": "i1ktKTSxnQen",
        "outputId": "5e670251-6470-4347-eee2-edc6cfa5414b"
      },
      "execution_count": null,
      "outputs": [
        {
          "output_type": "execute_result",
          "data": {
            "text/plain": [
              "<matplotlib.legend.Legend at 0x7fc821b1da50>"
            ]
          },
          "metadata": {},
          "execution_count": 42
        },
        {
          "output_type": "display_data",
          "data": {
            "text/plain": [
              "<Figure size 1224x576 with 1 Axes>"
            ],
            "image/png": "[encoded data removed]"
          },
          "metadata": {
            "needs_background": "light"
          }
        }
      ]
    },
    {
      "cell_type": "code",
      "source": [
        "# types of restaurants - location wise\n",
        "\n",
        "df_loc_resttype = pd.DataFrame(rest_data.groupby(['location','listed_in(type)'])['name'].count())\n",
        "df_loc_resttype = pd.pivot_table(df_loc_resttype, index=['location'], columns=['listed_in(type)'])\n",
        "df_loc_resttype"
      ],
      "metadata": {
        "colab": {
          "base_uri": "https://localhost:8080/",
          "height": 486
        },
        "id": "foanXDf0yCFR",
        "outputId": "38d2f9d9-404f-4c16-dea0-19797a54424c"
      },
      "execution_count": null,
      "outputs": [
        {
          "output_type": "execute_result",
          "data": {
            "text/plain": [
              "                    name                                                      \\\n",
              "listed_in(type)   Buffet Cafes Delivery Desserts Dine-out Drinks & nightlife   \n",
              "location                                                                       \n",
              "BTM                 13.0  22.0    541.0     42.0    314.0                9.0   \n",
              "Banashankari         5.0  17.0    109.0     13.0    102.0                4.0   \n",
              "Banaswadi            NaN   6.0     48.0      4.0     82.0                3.0   \n",
              "Bannerghatta Road    7.0  14.0    188.0     24.0    149.0                8.0   \n",
              "Basavanagudi         2.0   7.0     79.0     12.0     88.0                3.0   \n",
              "...                  ...   ...      ...      ...      ...                ...   \n",
              "West Bangalore       NaN   NaN      2.0      NaN      NaN                NaN   \n",
              "Whitefield          21.0  28.0    360.0     41.0    318.0               31.0   \n",
              "Wilson Garden        2.0   NaN      8.0      NaN      9.0                2.0   \n",
              "Yelahanka            NaN   NaN      1.0      NaN      1.0                NaN   \n",
              "Yeshwantpur          NaN   NaN     15.0      NaN      2.0                NaN   \n",
              "\n",
              "                                 \n",
              "listed_in(type)   Pubs and bars  \n",
              "location                         \n",
              "BTM                         6.0  \n",
              "Banashankari                NaN  \n",
              "Banaswadi                   NaN  \n",
              "Bannerghatta Road           2.0  \n",
              "Basavanagudi                NaN  \n",
              "...                         ...  \n",
              "West Bangalore              NaN  \n",
              "Whitefield                 27.0  \n",
              "Wilson Garden               1.0  \n",
              "Yelahanka                   NaN  \n",
              "Yeshwantpur                 NaN  \n",
              "\n",
              "[88 rows x 7 columns]"
            ],
            "text/html": [
              "\n",
              "  <div id=\"df-53c41dff-ca60-4090-be50-d7cdf1c65ce1\">\n",
              "    <div class=\"colab-df-container\">\n",
              "      <div>\n",
              "<style scoped>\n",
              "    .dataframe tbody tr th:only-of-type {\n",
              "        vertical-align: middle;\n",
              "    }\n",
              "\n",
              "    .dataframe tbody tr th {\n",
              "        vertical-align: top;\n",
              "    }\n",
              "\n",
              "    .dataframe thead tr th {\n",
              "        text-align: left;\n",
              "    }\n",
              "\n",
              "    .dataframe thead tr:last-of-type th {\n",
              "        text-align: right;\n",
              "    }\n",
              "</style>\n",
              "<table border=\"1\" class=\"dataframe\">\n",
              "  <thead>\n",
              "    <tr>\n",
              "      <th></th>\n",
              "      <th colspan=\"7\" halign=\"left\">name</th>\n",
              "    </tr>\n",
              "    <tr>\n",
              "      <th>listed_in(type)</th>\n",
              "      <th>Buffet</th>\n",
              "      <th>Cafes</th>\n",
              "      <th>Delivery</th>\n",
              "      <th>Desserts</th>\n",
              "      <th>Dine-out</th>\n",
              "      <th>Drinks &amp; nightlife</th>\n",
              "      <th>Pubs and bars</th>\n",
              "    </tr>\n",
              "    <tr>\n",
              "      <th>location</th>\n",
              "      <th></th>\n",
              "      <th></th>\n",
              "      <th></th>\n",
              "      <th></th>\n",
              "      <th></th>\n",
              "      <th></th>\n",
              "      <th></th>\n",
              "    </tr>\n",
              "  </thead>\n",
              "  <tbody>\n",
              "    <tr>\n",
              "      <th>BTM</th>\n",
              "      <td>13.0</td>\n",
              "      <td>22.0</td>\n",
              "      <td>541.0</td>\n",
              "      <td>42.0</td>\n",
              "      <td>314.0</td>\n",
              "      <td>9.0</td>\n",
              "      <td>6.0</td>\n",
              "    </tr>\n",
              "    <tr>\n",
              "      <th>Banashankari</th>\n",
              "      <td>5.0</td>\n",
              "      <td>17.0</td>\n",
              "      <td>109.0</td>\n",
              "      <td>13.0</td>\n",
              "      <td>102.0</td>\n",
              "      <td>4.0</td>\n",
              "      <td>NaN</td>\n",
              "    </tr>\n",
              "    <tr>\n",
              "      <th>Banaswadi</th>\n",
              "      <td>NaN</td>\n",
              "      <td>6.0</td>\n",
              "      <td>48.0</td>\n",
              "      <td>4.0</td>\n",
              "      <td>82.0</td>\n",
              "      <td>3.0</td>\n",
              "      <td>NaN</td>\n",
              "    </tr>\n",
              "    <tr>\n",
              "      <th>Bannerghatta Road</th>\n",
              "      <td>7.0</td>\n",
              "      <td>14.0</td>\n",
              "      <td>188.0</td>\n",
              "      <td>24.0</td>\n",
              "      <td>149.0</td>\n",
              "      <td>8.0</td>\n",
              "      <td>2.0</td>\n",
              "    </tr>\n",
              "    <tr>\n",
              "      <th>Basavanagudi</th>\n",
              "      <td>2.0</td>\n",
              "      <td>7.0</td>\n",
              "      <td>79.0</td>\n",
              "      <td>12.0</td>\n",
              "      <td>88.0</td>\n",
              "      <td>3.0</td>\n",
              "      <td>NaN</td>\n",
              "    </tr>\n",
              "    <tr>\n",
              "      <th>...</th>\n",
              "      <td>...</td>\n",
              "      <td>...</td>\n",
              "      <td>...</td>\n",
              "      <td>...</td>\n",
              "      <td>...</td>\n",
              "      <td>...</td>\n",
              "      <td>...</td>\n",
              "    </tr>\n",
              "    <tr>\n",
              "      <th>West Bangalore</th>\n",
              "      <td>NaN</td>\n",
              "      <td>NaN</td>\n",
              "      <td>2.0</td>\n",
              "      <td>NaN</td>\n",
              "      <td>NaN</td>\n",
              "      <td>NaN</td>\n",
              "      <td>NaN</td>\n",
              "    </tr>\n",
              "    <tr>\n",
              "      <th>Whitefield</th>\n",
              "      <td>21.0</td>\n",
              "      <td>28.0</td>\n",
              "      <td>360.0</td>\n",
              "      <td>41.0</td>\n",
              "      <td>318.0</td>\n",
              "      <td>31.0</td>\n",
              "      <td>27.0</td>\n",
              "    </tr>\n",
              "    <tr>\n",
              "      <th>Wilson Garden</th>\n",
              "      <td>2.0</td>\n",
              "      <td>NaN</td>\n",
              "      <td>8.0</td>\n",
              "      <td>NaN</td>\n",
              "      <td>9.0</td>\n",
              "      <td>2.0</td>\n",
              "      <td>1.0</td>\n",
              "    </tr>\n",
              "    <tr>\n",
              "      <th>Yelahanka</th>\n",
              "      <td>NaN</td>\n",
              "      <td>NaN</td>\n",
              "      <td>1.0</td>\n",
              "      <td>NaN</td>\n",
              "      <td>1.0</td>\n",
              "      <td>NaN</td>\n",
              "      <td>NaN</td>\n",
              "    </tr>\n",
              "    <tr>\n",
              "      <th>Yeshwantpur</th>\n",
              "      <td>NaN</td>\n",
              "      <td>NaN</td>\n",
              "      <td>15.0</td>\n",
              "      <td>NaN</td>\n",
              "      <td>2.0</td>\n",
              "      <td>NaN</td>\n",
              "      <td>NaN</td>\n",
              "    </tr>\n",
              "  </tbody>\n",
              "</table>\n",
              "<p>88 rows × 7 columns</p>\n",
              "</div>\n",
              "      <button class=\"colab-df-convert\" onclick=\"convertToInteractive('df-53c41dff-ca60-4090-be50-d7cdf1c65ce1')\"\n",
              "              title=\"Convert this dataframe to an interactive table.\"\n",
              "              style=\"display:none;\">\n",
              "        \n",
              "  <svg xmlns=\"http://www.w3.org/2000/svg\" height=\"24px\"viewBox=\"0 0 24 24\"\n",
              "       width=\"24px\">\n",
              "    <path d=\"M0 0h24v24H0V0z\" fill=\"none\"/>\n",
              "    <path d=\"M18.56 5.44l.94 2.06.94-2.06 2.06-.94-2.06-.94-.94-2.06-.94 2.06-2.06.94zm-11 1L8.5 8.5l.94-2.06 2.06-.94-2.06-.94L8.5 2.5l-.94 2.06-2.06.94zm10 10l.94 2.06.94-2.06 2.06-.94-2.06-.94-.94-2.06-.94 2.06-2.06.94z\"/><path d=\"M17.41 7.96l-1.37-1.37c-.4-.4-.92-.59-1.43-.59-.52 0-1.04.2-1.43.59L10.3 9.45l-7.72 7.72c-.78.78-.78 2.05 0 2.83L4 21.41c.39.39.9.59 1.41.59.51 0 1.02-.2 1.41-.59l7.78-7.78 2.81-2.81c.8-.78.8-2.07 0-2.86zM5.41 20L4 18.59l7.72-7.72 1.47 1.35L5.41 20z\"/>\n",
              "  </svg>\n",
              "      </button>\n",
              "      \n",
              "  <style>\n",
              "    .colab-df-container {\n",
              "      display:flex;\n",
              "      flex-wrap:wrap;\n",
              "      gap: 12px;\n",
              "    }\n",
              "\n",
              "    .colab-df-convert {\n",
              "      background-color: #E8F0FE;\n",
              "      border: none;\n",
              "      border-radius: 50%;\n",
              "      cursor: pointer;\n",
              "      display: none;\n",
              "      fill: #1967D2;\n",
              "      height: 32px;\n",
              "      padding: 0 0 0 0;\n",
              "      width: 32px;\n",
              "    }\n",
              "\n",
              "    .colab-df-convert:hover {\n",
              "      background-color: #E2EBFA;\n",
              "      box-shadow: 0px 1px 2px rgba(60, 64, 67, 0.3), 0px 1px 3px 1px rgba(60, 64, 67, 0.15);\n",
              "      fill: #174EA6;\n",
              "    }\n",
              "\n",
              "    [theme=dark] .colab-df-convert {\n",
              "      background-color: #3B4455;\n",
              "      fill: #D2E3FC;\n",
              "    }\n",
              "\n",
              "    [theme=dark] .colab-df-convert:hover {\n",
              "      background-color: #434B5C;\n",
              "      box-shadow: 0px 1px 3px 1px rgba(0, 0, 0, 0.15);\n",
              "      filter: drop-shadow(0px 1px 2px rgba(0, 0, 0, 0.3));\n",
              "      fill: #FFFFFF;\n",
              "    }\n",
              "  </style>\n",
              "\n",
              "      <script>\n",
              "        const buttonEl =\n",
              "          document.querySelector('#df-53c41dff-ca60-4090-be50-d7cdf1c65ce1 button.colab-df-convert');\n",
              "        buttonEl.style.display =\n",
              "          google.colab.kernel.accessAllowed ? 'block' : 'none';\n",
              "\n",
              "        async function convertToInteractive(key) {\n",
              "          const element = document.querySelector('#df-53c41dff-ca60-4090-be50-d7cdf1c65ce1');\n",
              "          const dataTable =\n",
              "            await google.colab.kernel.invokeFunction('convertToInteractive',\n",
              "                                                     [key], {});\n",
              "          if (!dataTable) return;\n",
              "\n",
              "          const docLinkHtml = 'Like what you see? Visit the ' +\n",
              "            '<a target=\"_blank\" href=https://colab.research.google.com/notebooks/data_table.ipynb>data table notebook</a>'\n",
              "            + ' to learn more about interactive tables.';\n",
              "          element.innerHTML = '';\n",
              "          dataTable['output_type'] = 'display_data';\n",
              "          await google.colab.output.renderOutput(dataTable, element);\n",
              "          const docLink = document.createElement('div');\n",
              "          docLink.innerHTML = docLinkHtml;\n",
              "          element.appendChild(docLink);\n",
              "        }\n",
              "      </script>\n",
              "    </div>\n",
              "  </div>\n",
              "  "
            ]
          },
          "metadata": {},
          "execution_count": 43
        }
      ]
    },
    {
      "cell_type": "code",
      "source": [
        "# Frequency of visits according to restaurant types\n",
        "fig = plt.figure(figsize=(17,5))\n",
        "rest = sns.countplot(x=\"rest_type\",data=rest_data, palette = \"Set1\")\n",
        "rest.set_xticklabels(rest.get_xticklabels(), rotation=90, ha=\"right\")\n",
        "plt.ylabel(\"Frequency\",size=15)\n",
        "plt.xlabel(\"Restaurant type\",size=15)\n",
        "rest \n",
        "plt.title('Restaurant types',fontsize = 20 ,pad=20)"
      ],
      "metadata": {
        "colab": {
          "base_uri": "https://localhost:8080/",
          "height": 533
        },
        "id": "ysbjSqC7Kouo",
        "outputId": "b938a620-e732-48c9-fe0c-e198dd2009f2"
      },
      "execution_count": null,
      "outputs": [
        {
          "output_type": "execute_result",
          "data": {
            "text/plain": [
              "Text(0.5, 1.0, 'Restaurant types')"
            ]
          },
          "metadata": {},
          "execution_count": 44
        },
        {
          "output_type": "display_data",
          "data": {
            "text/plain": [
              "<Figure size 1224x360 with 1 Axes>"
            ],
            "image/png": "[encoded data removed]"
          },
          "metadata": {
            "needs_background": "light"
          }
        }
      ]
    },
    {
      "cell_type": "code",
      "source": [
        "# Most popular cuisines\n",
        "\n",
        "df_cui_vot = rest_data[['cuisines', 'votes']]\n",
        "df_cui_vot = df_cui_vot.groupby(['cuisines'])['votes'].sum()\n",
        "df_cui_vot = df_cui_vot.to_frame()\n",
        "df_cui_vot = df_cui_vot.sort_values('votes', ascending=False)\n",
        "df_cui_vot"
      ],
      "metadata": {
        "colab": {
          "base_uri": "https://localhost:8080/",
          "height": 455
        },
        "id": "Jh6UC8ZxnQg7",
        "outputId": "c2166e7c-0ab7-4ce9-9823-2eaaf9e6e59f"
      },
      "execution_count": null,
      "outputs": [
        {
          "output_type": "execute_result",
          "data": {
            "text/plain": [
              "                                                     votes\n",
              "cuisines                                                  \n",
              "North Indian                                        424990\n",
              "Pizza, Cafe, Italian                                335376\n",
              "Cafe, American, Burger, Steak                       299878\n",
              "North Indian, Mughlai, South Indian, Chinese        219918\n",
              "North Indian, Chinese                               166769\n",
              "...                                                    ...\n",
              "Continental, Italian, North Indian, Chinese              0\n",
              "North Indian, South Indian, Chinese, Italian             0\n",
              "Continental, South Indian, Finger Food, Pizza, ...       0\n",
              "Chinese, Continental, North Indian, South India...       0\n",
              "Continental, Chinese, North Indian, Asian, Heal...       0\n",
              "\n",
              "[1691 rows x 1 columns]"
            ],
            "text/html": [
              "\n",
              "  <div id=\"df-d2fab093-7209-416a-92ca-b71142b33201\">\n",
              "    <div class=\"colab-df-container\">\n",
              "      <div>\n",
              "<style scoped>\n",
              "    .dataframe tbody tr th:only-of-type {\n",
              "        vertical-align: middle;\n",
              "    }\n",
              "\n",
              "    .dataframe tbody tr th {\n",
              "        vertical-align: top;\n",
              "    }\n",
              "\n",
              "    .dataframe thead th {\n",
              "        text-align: right;\n",
              "    }\n",
              "</style>\n",
              "<table border=\"1\" class=\"dataframe\">\n",
              "  <thead>\n",
              "    <tr style=\"text-align: right;\">\n",
              "      <th></th>\n",
              "      <th>votes</th>\n",
              "    </tr>\n",
              "    <tr>\n",
              "      <th>cuisines</th>\n",
              "      <th></th>\n",
              "    </tr>\n",
              "  </thead>\n",
              "  <tbody>\n",
              "    <tr>\n",
              "      <th>North Indian</th>\n",
              "      <td>424990</td>\n",
              "    </tr>\n",
              "    <tr>\n",
              "      <th>Pizza, Cafe, Italian</th>\n",
              "      <td>335376</td>\n",
              "    </tr>\n",
              "    <tr>\n",
              "      <th>Cafe, American, Burger, Steak</th>\n",
              "      <td>299878</td>\n",
              "    </tr>\n",
              "    <tr>\n",
              "      <th>North Indian, Mughlai, South Indian, Chinese</th>\n",
              "      <td>219918</td>\n",
              "    </tr>\n",
              "    <tr>\n",
              "      <th>North Indian, Chinese</th>\n",
              "      <td>166769</td>\n",
              "    </tr>\n",
              "    <tr>\n",
              "      <th>...</th>\n",
              "      <td>...</td>\n",
              "    </tr>\n",
              "    <tr>\n",
              "      <th>Continental, Italian, North Indian, Chinese</th>\n",
              "      <td>0</td>\n",
              "    </tr>\n",
              "    <tr>\n",
              "      <th>North Indian, South Indian, Chinese, Italian</th>\n",
              "      <td>0</td>\n",
              "    </tr>\n",
              "    <tr>\n",
              "      <th>Continental, South Indian, Finger Food, Pizza, Seafood</th>\n",
              "      <td>0</td>\n",
              "    </tr>\n",
              "    <tr>\n",
              "      <th>Chinese, Continental, North Indian, South Indian, Beverages</th>\n",
              "      <td>0</td>\n",
              "    </tr>\n",
              "    <tr>\n",
              "      <th>Continental, Chinese, North Indian, Asian, Healthy Food, Fast Food</th>\n",
              "      <td>0</td>\n",
              "    </tr>\n",
              "  </tbody>\n",
              "</table>\n",
              "<p>1691 rows × 1 columns</p>\n",
              "</div>\n",
              "      <button class=\"colab-df-convert\" onclick=\"convertToInteractive('df-d2fab093-7209-416a-92ca-b71142b33201')\"\n",
              "              title=\"Convert this dataframe to an interactive table.\"\n",
              "              style=\"display:none;\">\n",
              "        \n",
              "  <svg xmlns=\"http://www.w3.org/2000/svg\" height=\"24px\"viewBox=\"0 0 24 24\"\n",
              "       width=\"24px\">\n",
              "    <path d=\"M0 0h24v24H0V0z\" fill=\"none\"/>\n",
              "    <path d=\"M18.56 5.44l.94 2.06.94-2.06 2.06-.94-2.06-.94-.94-2.06-.94 2.06-2.06.94zm-11 1L8.5 8.5l.94-2.06 2.06-.94-2.06-.94L8.5 2.5l-.94 2.06-2.06.94zm10 10l.94 2.06.94-2.06 2.06-.94-2.06-.94-.94-2.06-.94 2.06-2.06.94z\"/><path d=\"M17.41 7.96l-1.37-1.37c-.4-.4-.92-.59-1.43-.59-.52 0-1.04.2-1.43.59L10.3 9.45l-7.72 7.72c-.78.78-.78 2.05 0 2.83L4 21.41c.39.39.9.59 1.41.59.51 0 1.02-.2 1.41-.59l7.78-7.78 2.81-2.81c.8-.78.8-2.07 0-2.86zM5.41 20L4 18.59l7.72-7.72 1.47 1.35L5.41 20z\"/>\n",
              "  </svg>\n",
              "      </button>\n",
              "      \n",
              "  <style>\n",
              "    .colab-df-container {\n",
              "      display:flex;\n",
              "      flex-wrap:wrap;\n",
              "      gap: 12px;\n",
              "    }\n",
              "\n",
              "    .colab-df-convert {\n",
              "      background-color: #E8F0FE;\n",
              "      border: none;\n",
              "      border-radius: 50%;\n",
              "      cursor: pointer;\n",
              "      display: none;\n",
              "      fill: #1967D2;\n",
              "      height: 32px;\n",
              "      padding: 0 0 0 0;\n",
              "      width: 32px;\n",
              "    }\n",
              "\n",
              "    .colab-df-convert:hover {\n",
              "      background-color: #E2EBFA;\n",
              "      box-shadow: 0px 1px 2px rgba(60, 64, 67, 0.3), 0px 1px 3px 1px rgba(60, 64, 67, 0.15);\n",
              "      fill: #174EA6;\n",
              "    }\n",
              "\n",
              "    [theme=dark] .colab-df-convert {\n",
              "      background-color: #3B4455;\n",
              "      fill: #D2E3FC;\n",
              "    }\n",
              "\n",
              "    [theme=dark] .colab-df-convert:hover {\n",
              "      background-color: #434B5C;\n",
              "      box-shadow: 0px 1px 3px 1px rgba(0, 0, 0, 0.15);\n",
              "      filter: drop-shadow(0px 1px 2px rgba(0, 0, 0, 0.3));\n",
              "      fill: #FFFFFF;\n",
              "    }\n",
              "  </style>\n",
              "\n",
              "      <script>\n",
              "        const buttonEl =\n",
              "          document.querySelector('#df-d2fab093-7209-416a-92ca-b71142b33201 button.colab-df-convert');\n",
              "        buttonEl.style.display =\n",
              "          google.colab.kernel.accessAllowed ? 'block' : 'none';\n",
              "\n",
              "        async function convertToInteractive(key) {\n",
              "          const element = document.querySelector('#df-d2fab093-7209-416a-92ca-b71142b33201');\n",
              "          const dataTable =\n",
              "            await google.colab.kernel.invokeFunction('convertToInteractive',\n",
              "                                                     [key], {});\n",
              "          if (!dataTable) return;\n",
              "\n",
              "          const docLinkHtml = 'Like what you see? Visit the ' +\n",
              "            '<a target=\"_blank\" href=https://colab.research.google.com/notebooks/data_table.ipynb>data table notebook</a>'\n",
              "            + ' to learn more about interactive tables.';\n",
              "          element.innerHTML = '';\n",
              "          dataTable['output_type'] = 'display_data';\n",
              "          await google.colab.output.renderOutput(dataTable, element);\n",
              "          const docLink = document.createElement('div');\n",
              "          docLink.innerHTML = docLinkHtml;\n",
              "          element.appendChild(docLink);\n",
              "        }\n",
              "      </script>\n",
              "    </div>\n",
              "  </div>\n",
              "  "
            ]
          },
          "metadata": {},
          "execution_count": 45
        }
      ]
    },
    {
      "cell_type": "code",
      "source": [
        "rest_data['cuisines']"
      ],
      "metadata": {
        "id": "HL6p7G9CLZUT",
        "colab": {
          "base_uri": "https://localhost:8080/"
        },
        "outputId": "35d236fb-7da9-44e8-8145-340cd84ce636"
      },
      "execution_count": null,
      "outputs": [
        {
          "output_type": "execute_result",
          "data": {
            "text/plain": [
              "0                     North Indian, Mughlai, Chinese\n",
              "1                        Chinese, North Indian, Thai\n",
              "2                             Cafe, Mexican, Italian\n",
              "3                         South Indian, North Indian\n",
              "4                           North Indian, Rajasthani\n",
              "                            ...                     \n",
              "51705       North Indian, Continental, Mediterranean\n",
              "51707                                    Finger Food\n",
              "51708             Chinese, Continental, North Indian\n",
              "51711    Andhra, South Indian, Chinese, North Indian\n",
              "51715                                    Finger Food\n",
              "Name: cuisines, Length: 17960, dtype: object"
            ]
          },
          "metadata": {},
          "execution_count": 46
        }
      ]
    },
    {
      "cell_type": "code",
      "source": [
        "df_cui_vot_top = df_cui_vot.head(15)\n",
        "plt.figure(figsize = (10,12))\n",
        "sns.barplot(df_cui_vot_top.index , df_cui_vot_top['votes'])\n",
        "plt.xticks(rotation = 90)\n",
        "plt.title('Most popular Cuisines')\n",
        "plt.xlabel('Cuisine')\n",
        "plt.ylabel('Number of reviews')\n",
        "plt.legend()\n",
        "#plt.savefig('/content/drive/MyDrive/Harman_Project/EDA_Plots/Most_popular_cuisines.png')"
      ],
      "metadata": {
        "colab": {
          "base_uri": "https://localhost:8080/",
          "height": 1000
        },
        "id": "Uk7IwgDMtWgl",
        "outputId": "d50a3748-d756-4fcf-9c9c-d552a5acec88"
      },
      "execution_count": null,
      "outputs": [
        {
          "output_type": "stream",
          "name": "stderr",
          "text": [
            "/usr/local/lib/python3.7/dist-packages/seaborn/_decorators.py:43: FutureWarning: Pass the following variables as keyword args: x, y. From version 0.12, the only valid positional argument will be `data`, and passing other arguments without an explicit keyword will result in an error or misinterpretation.\n",
            "  FutureWarning\n",
            "No handles with labels found to put in legend.\n"
          ]
        },
        {
          "output_type": "execute_result",
          "data": {
            "text/plain": [
              "<matplotlib.legend.Legend at 0x7fc821b98f90>"
            ]
          },
          "metadata": {},
          "execution_count": 47
        },
        {
          "output_type": "display_data",
          "data": {
            "text/plain": [
              "<Figure size 720x864 with 1 Axes>"
            ],
            "image/png": "[encoded data removed]"
          },
          "metadata": {
            "needs_background": "light"
          }
        }
      ]
    },
    {
      "cell_type": "code",
      "source": [
        "# segregrating cuisine column\n",
        "\n",
        "cuisines={}\n",
        "zipped=zip(rest_data['cuisines'], rest_data['votes'])\n",
        "\n",
        "for cuisine, vote in zipped:\n",
        "  current_cuisines = cuisine.split(', ')\n",
        "  total_current_cuisines = len(current_cuisines)\n",
        "  for cuisi in current_cuisines:\n",
        "    cuisines[cuisi] = cuisines.get(cuisi, 0) + (vote//total_current_cuisines)\n",
        "\n",
        "totalSum=0\n",
        "for key in cuisines:\n",
        "  totalSum+= cuisines[key]\n",
        "print(rest_data['votes'].sum())\n",
        "print(totalSum)\n",
        "\n",
        "cuisines_list=list(cuisines.keys())\n",
        "corresponding_votes=list(cuisines.values())\n",
        "cuisines_={}\n",
        "cuisines_ = {'cuisines': cuisines_list,\n",
        "            'votes':corresponding_votes}\n",
        "\n",
        "cuisines_votes=pd.DataFrame.from_dict(cuisines_)\n",
        "cuisines_votes"
      ],
      "metadata": {
        "id": "DJArrAAlHCn7",
        "colab": {
          "base_uri": "https://localhost:8080/",
          "height": 458
        },
        "outputId": "3ef6adcf-0e40-41d9-c9f0-255d57ad05d0"
      },
      "execution_count": null,
      "outputs": [
        {
          "output_type": "stream",
          "name": "stdout",
          "text": [
            "12335336\n",
            "12318262\n"
          ]
        },
        {
          "output_type": "execute_result",
          "data": {
            "text/plain": [
              "        cuisines    votes\n",
              "0   North Indian  2030203\n",
              "1        Mughlai   220716\n",
              "2        Chinese   977061\n",
              "3           Thai   182151\n",
              "4           Cafe   732598\n",
              "..           ...      ...\n",
              "93        German     2371\n",
              "94       Russian     5847\n",
              "95        Jewish      108\n",
              "96         Vegan      108\n",
              "97        Sindhi      220\n",
              "\n",
              "[98 rows x 2 columns]"
            ],
            "text/html": [
              "\n",
              "  <div id=\"df-56054d55-0e30-4489-97fa-fe990bee428a\">\n",
              "    <div class=\"colab-df-container\">\n",
              "      <div>\n",
              "<style scoped>\n",
              "    .dataframe tbody tr th:only-of-type {\n",
              "        vertical-align: middle;\n",
              "    }\n",
              "\n",
              "    .dataframe tbody tr th {\n",
              "        vertical-align: top;\n",
              "    }\n",
              "\n",
              "    .dataframe thead th {\n",
              "        text-align: right;\n",
              "    }\n",
              "</style>\n",
              "<table border=\"1\" class=\"dataframe\">\n",
              "  <thead>\n",
              "    <tr style=\"text-align: right;\">\n",
              "      <th></th>\n",
              "      <th>cuisines</th>\n",
              "      <th>votes</th>\n",
              "    </tr>\n",
              "  </thead>\n",
              "  <tbody>\n",
              "    <tr>\n",
              "      <th>0</th>\n",
              "      <td>North Indian</td>\n",
              "      <td>2030203</td>\n",
              "    </tr>\n",
              "    <tr>\n",
              "      <th>1</th>\n",
              "      <td>Mughlai</td>\n",
              "      <td>220716</td>\n",
              "    </tr>\n",
              "    <tr>\n",
              "      <th>2</th>\n",
              "      <td>Chinese</td>\n",
              "      <td>977061</td>\n",
              "    </tr>\n",
              "    <tr>\n",
              "      <th>3</th>\n",
              "      <td>Thai</td>\n",
              "      <td>182151</td>\n",
              "    </tr>\n",
              "    <tr>\n",
              "      <th>4</th>\n",
              "      <td>Cafe</td>\n",
              "      <td>732598</td>\n",
              "    </tr>\n",
              "    <tr>\n",
              "      <th>...</th>\n",
              "      <td>...</td>\n",
              "      <td>...</td>\n",
              "    </tr>\n",
              "    <tr>\n",
              "      <th>93</th>\n",
              "      <td>German</td>\n",
              "      <td>2371</td>\n",
              "    </tr>\n",
              "    <tr>\n",
              "      <th>94</th>\n",
              "      <td>Russian</td>\n",
              "      <td>5847</td>\n",
              "    </tr>\n",
              "    <tr>\n",
              "      <th>95</th>\n",
              "      <td>Jewish</td>\n",
              "      <td>108</td>\n",
              "    </tr>\n",
              "    <tr>\n",
              "      <th>96</th>\n",
              "      <td>Vegan</td>\n",
              "      <td>108</td>\n",
              "    </tr>\n",
              "    <tr>\n",
              "      <th>97</th>\n",
              "      <td>Sindhi</td>\n",
              "      <td>220</td>\n",
              "    </tr>\n",
              "  </tbody>\n",
              "</table>\n",
              "<p>98 rows × 2 columns</p>\n",
              "</div>\n",
              "      <button class=\"colab-df-convert\" onclick=\"convertToInteractive('df-56054d55-0e30-4489-97fa-fe990bee428a')\"\n",
              "              title=\"Convert this dataframe to an interactive table.\"\n",
              "              style=\"display:none;\">\n",
              "        \n",
              "  <svg xmlns=\"http://www.w3.org/2000/svg\" height=\"24px\"viewBox=\"0 0 24 24\"\n",
              "       width=\"24px\">\n",
              "    <path d=\"M0 0h24v24H0V0z\" fill=\"none\"/>\n",
              "    <path d=\"M18.56 5.44l.94 2.06.94-2.06 2.06-.94-2.06-.94-.94-2.06-.94 2.06-2.06.94zm-11 1L8.5 8.5l.94-2.06 2.06-.94-2.06-.94L8.5 2.5l-.94 2.06-2.06.94zm10 10l.94 2.06.94-2.06 2.06-.94-2.06-.94-.94-2.06-.94 2.06-2.06.94z\"/><path d=\"M17.41 7.96l-1.37-1.37c-.4-.4-.92-.59-1.43-.59-.52 0-1.04.2-1.43.59L10.3 9.45l-7.72 7.72c-.78.78-.78 2.05 0 2.83L4 21.41c.39.39.9.59 1.41.59.51 0 1.02-.2 1.41-.59l7.78-7.78 2.81-2.81c.8-.78.8-2.07 0-2.86zM5.41 20L4 18.59l7.72-7.72 1.47 1.35L5.41 20z\"/>\n",
              "  </svg>\n",
              "      </button>\n",
              "      \n",
              "  <style>\n",
              "    .colab-df-container {\n",
              "      display:flex;\n",
              "      flex-wrap:wrap;\n",
              "      gap: 12px;\n",
              "    }\n",
              "\n",
              "    .colab-df-convert {\n",
              "      background-color: #E8F0FE;\n",
              "      border: none;\n",
              "      border-radius: 50%;\n",
              "      cursor: pointer;\n",
              "      display: none;\n",
              "      fill: #1967D2;\n",
              "      height: 32px;\n",
              "      padding: 0 0 0 0;\n",
              "      width: 32px;\n",
              "    }\n",
              "\n",
              "    .colab-df-convert:hover {\n",
              "      background-color: #E2EBFA;\n",
              "      box-shadow: 0px 1px 2px rgba(60, 64, 67, 0.3), 0px 1px 3px 1px rgba(60, 64, 67, 0.15);\n",
              "      fill: #174EA6;\n",
              "    }\n",
              "\n",
              "    [theme=dark] .colab-df-convert {\n",
              "      background-color: #3B4455;\n",
              "      fill: #D2E3FC;\n",
              "    }\n",
              "\n",
              "    [theme=dark] .colab-df-convert:hover {\n",
              "      background-color: #434B5C;\n",
              "      box-shadow: 0px 1px 3px 1px rgba(0, 0, 0, 0.15);\n",
              "      filter: drop-shadow(0px 1px 2px rgba(0, 0, 0, 0.3));\n",
              "      fill: #FFFFFF;\n",
              "    }\n",
              "  </style>\n",
              "\n",
              "      <script>\n",
              "        const buttonEl =\n",
              "          document.querySelector('#df-56054d55-0e30-4489-97fa-fe990bee428a button.colab-df-convert');\n",
              "        buttonEl.style.display =\n",
              "          google.colab.kernel.accessAllowed ? 'block' : 'none';\n",
              "\n",
              "        async function convertToInteractive(key) {\n",
              "          const element = document.querySelector('#df-56054d55-0e30-4489-97fa-fe990bee428a');\n",
              "          const dataTable =\n",
              "            await google.colab.kernel.invokeFunction('convertToInteractive',\n",
              "                                                     [key], {});\n",
              "          if (!dataTable) return;\n",
              "\n",
              "          const docLinkHtml = 'Like what you see? Visit the ' +\n",
              "            '<a target=\"_blank\" href=https://colab.research.google.com/notebooks/data_table.ipynb>data table notebook</a>'\n",
              "            + ' to learn more about interactive tables.';\n",
              "          element.innerHTML = '';\n",
              "          dataTable['output_type'] = 'display_data';\n",
              "          await google.colab.output.renderOutput(dataTable, element);\n",
              "          const docLink = document.createElement('div');\n",
              "          docLink.innerHTML = docLinkHtml;\n",
              "          element.appendChild(docLink);\n",
              "        }\n",
              "      </script>\n",
              "    </div>\n",
              "  </div>\n",
              "  "
            ]
          },
          "metadata": {},
          "execution_count": 48
        }
      ]
    },
    {
      "cell_type": "code",
      "source": [
        "df_seg_cui_vot = cuisines_votes.sort_values('votes', ascending=False)\n",
        "df_seg_cui_vot_top = df_seg_cui_vot.head(15)\n",
        "plt.figure(figsize = (8,8))\n",
        "sns.barplot(df_seg_cui_vot_top['cuisines'] , df_seg_cui_vot_top['votes'])\n",
        "plt.xticks(rotation = 90)\n",
        "plt.title('Most popular Segregated Cuisines')\n",
        "plt.xlabel('Cuisine')\n",
        "plt.ylabel('Number of reviews')\n",
        "plt.legend()\n",
        "#plt.savefig('/content/drive/MyDrive/Harman_Project/EDA_Plots/Most_popular_Segregated_cuisines.png')"
      ],
      "metadata": {
        "colab": {
          "base_uri": "https://localhost:8080/",
          "height": 655
        },
        "id": "pQEWSrwJLbU9",
        "outputId": "1e97c470-8340-4cfb-a5c4-7f0b0f1f0a4b"
      },
      "execution_count": null,
      "outputs": [
        {
          "output_type": "stream",
          "name": "stderr",
          "text": [
            "/usr/local/lib/python3.7/dist-packages/seaborn/_decorators.py:43: FutureWarning: Pass the following variables as keyword args: x, y. From version 0.12, the only valid positional argument will be `data`, and passing other arguments without an explicit keyword will result in an error or misinterpretation.\n",
            "  FutureWarning\n",
            "No handles with labels found to put in legend.\n"
          ]
        },
        {
          "output_type": "execute_result",
          "data": {
            "text/plain": [
              "<matplotlib.legend.Legend at 0x7fc821c02050>"
            ]
          },
          "metadata": {},
          "execution_count": 49
        },
        {
          "output_type": "display_data",
          "data": {
            "text/plain": [
              "<Figure size 576x576 with 1 Axes>"
            ],
            "image/png": "[encoded data removed]"
          },
          "metadata": {
            "needs_background": "light"
          }
        }
      ]
    },
    {
      "cell_type": "markdown",
      "source": [
        "#Recommendation system using kNN"
      ],
      "metadata": {
        "id": "lFvVfqOfOog-"
      }
    },
    {
      "cell_type": "code",
      "source": [
        "rest_data.insert(1, 'rest_id', range(1, 1 + len(rest_data)))\n",
        "rest_data"
      ],
      "metadata": {
        "colab": {
          "base_uri": "https://localhost:8080/",
          "height": 797
        },
        "id": "CPErxb2nRqeE",
        "outputId": "d887058e-eead-45a7-81d8-b83659e83d83"
      },
      "execution_count": null,
      "outputs": [
        {
          "output_type": "execute_result",
          "data": {
            "text/plain": [
              "                                                    name  rest_id  \\\n",
              "0                                                  Jalsa        1   \n",
              "1                                         Spice Elephant        2   \n",
              "2                                        San Churro Cafe        3   \n",
              "3                                  Addhuri Udupi Bhojana        4   \n",
              "4                                          Grand Village        5   \n",
              "...                                                  ...      ...   \n",
              "51705                                 Izakaya Gastro Pub    17956   \n",
              "51707        M Bar - Bengaluru Marriott Hotel Whitefield    17957   \n",
              "51708                             Keys Cafe - Keys Hotel    17958   \n",
              "51711                                            Bhagini    17959   \n",
              "51715  Chime - Sheraton Grand Bengaluru Whitefield Ho...    17960   \n",
              "\n",
              "      online_order             book_table  rate  votes  \\\n",
              "0           Online      booking_available   4.1    775   \n",
              "1           Online  booking_not_available   4.1    787   \n",
              "2           Online  booking_not_available   3.8    918   \n",
              "3          Offline  booking_not_available   3.7     88   \n",
              "4          Offline  booking_not_available   3.8    166   \n",
              "...            ...                    ...   ...    ...   \n",
              "51705       Online      booking_available   3.8    128   \n",
              "51707      Offline  booking_not_available   3.9     77   \n",
              "51708      Offline  booking_not_available   2.8    161   \n",
              "51711      Offline  booking_not_available   2.5     81   \n",
              "51715      Offline      booking_available   4.3    236   \n",
              "\n",
              "                         location            rest_type  \\\n",
              "0                    Banashankari        Casual Dining   \n",
              "1                    Banashankari        Casual Dining   \n",
              "2                    Banashankari  Cafe, Casual Dining   \n",
              "3                    Banashankari          Quick Bites   \n",
              "4                    Basavanagudi        Casual Dining   \n",
              "...                           ...                  ...   \n",
              "51705                  Whitefield   Bar, Casual Dining   \n",
              "51707                  Whitefield     Fine Dining, Bar   \n",
              "51708                  Whitefield   Casual Dining, Bar   \n",
              "51711                  Whitefield   Casual Dining, Bar   \n",
              "51715  ITPL Main Road, Whitefield                  Bar   \n",
              "\n",
              "                                              dish_liked  \\\n",
              "0      Pasta, Lunch Buffet, Masala Papad, Paneer Laja...   \n",
              "1      Momos, Lunch Buffet, Chocolate Nirvana, Thai G...   \n",
              "2      Churros, Cannelloni, Minestrone Soup, Hot Choc...   \n",
              "3                                            Masala Dosa   \n",
              "4                                    Panipuri, Gol Gappe   \n",
              "...                                                  ...   \n",
              "51705  Beer, Chicken Guntur, Paneer Tikka, Fish, Nood...   \n",
              "51707                                   Rooftop Ambience   \n",
              "51708  Salads, Coffee, Breakfast Buffet, Halwa, Chick...   \n",
              "51711                               Biryani, Andhra Meal   \n",
              "51715                       Cocktails, Pizza, Buttermilk   \n",
              "\n",
              "                                          cuisines  \\\n",
              "0                   North Indian, Mughlai, Chinese   \n",
              "1                      Chinese, North Indian, Thai   \n",
              "2                           Cafe, Mexican, Italian   \n",
              "3                       South Indian, North Indian   \n",
              "4                         North Indian, Rajasthani   \n",
              "...                                            ...   \n",
              "51705     North Indian, Continental, Mediterranean   \n",
              "51707                                  Finger Food   \n",
              "51708           Chinese, Continental, North Indian   \n",
              "51711  Andhra, South Indian, Chinese, North Indian   \n",
              "51715                                  Finger Food   \n",
              "\n",
              "       approx_cost(for two people) listed_in(type)  \n",
              "0                            800.0          Buffet  \n",
              "1                            800.0          Buffet  \n",
              "2                            800.0          Buffet  \n",
              "3                            300.0          Buffet  \n",
              "4                            600.0          Buffet  \n",
              "...                            ...             ...  \n",
              "51705                       1200.0   Pubs and bars  \n",
              "51707                       2000.0   Pubs and bars  \n",
              "51708                       1200.0   Pubs and bars  \n",
              "51711                        800.0   Pubs and bars  \n",
              "51715                       2500.0   Pubs and bars  \n",
              "\n",
              "[17960 rows x 12 columns]"
            ],
            "text/html": [
              "\n",
              "  <div id=\"df-7502f68e-fdeb-4535-8020-1f08ea0f8a7c\">\n",
              "    <div class=\"colab-df-container\">\n",
              "      <div>\n",
              "<style scoped>\n",
              "    .dataframe tbody tr th:only-of-type {\n",
              "        vertical-align: middle;\n",
              "    }\n",
              "\n",
              "    .dataframe tbody tr th {\n",
              "        vertical-align: top;\n",
              "    }\n",
              "\n",
              "    .dataframe thead th {\n",
              "        text-align: right;\n",
              "    }\n",
              "</style>\n",
              "<table border=\"1\" class=\"dataframe\">\n",
              "  <thead>\n",
              "    <tr style=\"text-align: right;\">\n",
              "      <th></th>\n",
              "      <th>name</th>\n",
              "      <th>rest_id</th>\n",
              "      <th>online_order</th>\n",
              "      <th>book_table</th>\n",
              "      <th>rate</th>\n",
              "      <th>votes</th>\n",
              "      <th>location</th>\n",
              "      <th>rest_type</th>\n",
              "      <th>dish_liked</th>\n",
              "      <th>cuisines</th>\n",
              "      <th>approx_cost(for two people)</th>\n",
              "      <th>listed_in(type)</th>\n",
              "    </tr>\n",
              "  </thead>\n",
              "  <tbody>\n",
              "    <tr>\n",
              "      <th>0</th>\n",
              "      <td>Jalsa</td>\n",
              "      <td>1</td>\n",
              "      <td>Online</td>\n",
              "      <td>booking_available</td>\n",
              "      <td>4.1</td>\n",
              "      <td>775</td>\n",
              "      <td>Banashankari</td>\n",
              "      <td>Casual Dining</td>\n",
              "      <td>Pasta, Lunch Buffet, Masala Papad, Paneer Laja...</td>\n",
              "      <td>North Indian, Mughlai, Chinese</td>\n",
              "      <td>800.0</td>\n",
              "      <td>Buffet</td>\n",
              "    </tr>\n",
              "    <tr>\n",
              "      <th>1</th>\n",
              "      <td>Spice Elephant</td>\n",
              "      <td>2</td>\n",
              "      <td>Online</td>\n",
              "      <td>booking_not_available</td>\n",
              "      <td>4.1</td>\n",
              "      <td>787</td>\n",
              "      <td>Banashankari</td>\n",
              "      <td>Casual Dining</td>\n",
              "      <td>Momos, Lunch Buffet, Chocolate Nirvana, Thai G...</td>\n",
              "      <td>Chinese, North Indian, Thai</td>\n",
              "      <td>800.0</td>\n",
              "      <td>Buffet</td>\n",
              "    </tr>\n",
              "    <tr>\n",
              "      <th>2</th>\n",
              "      <td>San Churro Cafe</td>\n",
              "      <td>3</td>\n",
              "      <td>Online</td>\n",
              "      <td>booking_not_available</td>\n",
              "      <td>3.8</td>\n",
              "      <td>918</td>\n",
              "      <td>Banashankari</td>\n",
              "      <td>Cafe, Casual Dining</td>\n",
              "      <td>Churros, Cannelloni, Minestrone Soup, Hot Choc...</td>\n",
              "      <td>Cafe, Mexican, Italian</td>\n",
              "      <td>800.0</td>\n",
              "      <td>Buffet</td>\n",
              "    </tr>\n",
              "    <tr>\n",
              "      <th>3</th>\n",
              "      <td>Addhuri Udupi Bhojana</td>\n",
              "      <td>4</td>\n",
              "      <td>Offline</td>\n",
              "      <td>booking_not_available</td>\n",
              "      <td>3.7</td>\n",
              "      <td>88</td>\n",
              "      <td>Banashankari</td>\n",
              "      <td>Quick Bites</td>\n",
              "      <td>Masala Dosa</td>\n",
              "      <td>South Indian, North Indian</td>\n",
              "      <td>300.0</td>\n",
              "      <td>Buffet</td>\n",
              "    </tr>\n",
              "    <tr>\n",
              "      <th>4</th>\n",
              "      <td>Grand Village</td>\n",
              "      <td>5</td>\n",
              "      <td>Offline</td>\n",
              "      <td>booking_not_available</td>\n",
              "      <td>3.8</td>\n",
              "      <td>166</td>\n",
              "      <td>Basavanagudi</td>\n",
              "      <td>Casual Dining</td>\n",
              "      <td>Panipuri, Gol Gappe</td>\n",
              "      <td>North Indian, Rajasthani</td>\n",
              "      <td>600.0</td>\n",
              "      <td>Buffet</td>\n",
              "    </tr>\n",
              "    <tr>\n",
              "      <th>...</th>\n",
              "      <td>...</td>\n",
              "      <td>...</td>\n",
              "      <td>...</td>\n",
              "      <td>...</td>\n",
              "      <td>...</td>\n",
              "      <td>...</td>\n",
              "      <td>...</td>\n",
              "      <td>...</td>\n",
              "      <td>...</td>\n",
              "      <td>...</td>\n",
              "      <td>...</td>\n",
              "      <td>...</td>\n",
              "    </tr>\n",
              "    <tr>\n",
              "      <th>51705</th>\n",
              "      <td>Izakaya Gastro Pub</td>\n",
              "      <td>17956</td>\n",
              "      <td>Online</td>\n",
              "      <td>booking_available</td>\n",
              "      <td>3.8</td>\n",
              "      <td>128</td>\n",
              "      <td>Whitefield</td>\n",
              "      <td>Bar, Casual Dining</td>\n",
              "      <td>Beer, Chicken Guntur, Paneer Tikka, Fish, Nood...</td>\n",
              "      <td>North Indian, Continental, Mediterranean</td>\n",
              "      <td>1200.0</td>\n",
              "      <td>Pubs and bars</td>\n",
              "    </tr>\n",
              "    <tr>\n",
              "      <th>51707</th>\n",
              "      <td>M Bar - Bengaluru Marriott Hotel Whitefield</td>\n",
              "      <td>17957</td>\n",
              "      <td>Offline</td>\n",
              "      <td>booking_not_available</td>\n",
              "      <td>3.9</td>\n",
              "      <td>77</td>\n",
              "      <td>Whitefield</td>\n",
              "      <td>Fine Dining, Bar</td>\n",
              "      <td>Rooftop Ambience</td>\n",
              "      <td>Finger Food</td>\n",
              "      <td>2000.0</td>\n",
              "      <td>Pubs and bars</td>\n",
              "    </tr>\n",
              "    <tr>\n",
              "      <th>51708</th>\n",
              "      <td>Keys Cafe - Keys Hotel</td>\n",
              "      <td>17958</td>\n",
              "      <td>Offline</td>\n",
              "      <td>booking_not_available</td>\n",
              "      <td>2.8</td>\n",
              "      <td>161</td>\n",
              "      <td>Whitefield</td>\n",
              "      <td>Casual Dining, Bar</td>\n",
              "      <td>Salads, Coffee, Breakfast Buffet, Halwa, Chick...</td>\n",
              "      <td>Chinese, Continental, North Indian</td>\n",
              "      <td>1200.0</td>\n",
              "      <td>Pubs and bars</td>\n",
              "    </tr>\n",
              "    <tr>\n",
              "      <th>51711</th>\n",
              "      <td>Bhagini</td>\n",
              "      <td>17959</td>\n",
              "      <td>Offline</td>\n",
              "      <td>booking_not_available</td>\n",
              "      <td>2.5</td>\n",
              "      <td>81</td>\n",
              "      <td>Whitefield</td>\n",
              "      <td>Casual Dining, Bar</td>\n",
              "      <td>Biryani, Andhra Meal</td>\n",
              "      <td>Andhra, South Indian, Chinese, North Indian</td>\n",
              "      <td>800.0</td>\n",
              "      <td>Pubs and bars</td>\n",
              "    </tr>\n",
              "    <tr>\n",
              "      <th>51715</th>\n",
              "      <td>Chime - Sheraton Grand Bengaluru Whitefield Ho...</td>\n",
              "      <td>17960</td>\n",
              "      <td>Offline</td>\n",
              "      <td>booking_available</td>\n",
              "      <td>4.3</td>\n",
              "      <td>236</td>\n",
              "      <td>ITPL Main Road, Whitefield</td>\n",
              "      <td>Bar</td>\n",
              "      <td>Cocktails, Pizza, Buttermilk</td>\n",
              "      <td>Finger Food</td>\n",
              "      <td>2500.0</td>\n",
              "      <td>Pubs and bars</td>\n",
              "    </tr>\n",
              "  </tbody>\n",
              "</table>\n",
              "<p>17960 rows × 12 columns</p>\n",
              "</div>\n",
              "      <button class=\"colab-df-convert\" onclick=\"convertToInteractive('df-7502f68e-fdeb-4535-8020-1f08ea0f8a7c')\"\n",
              "              title=\"Convert this dataframe to an interactive table.\"\n",
              "              style=\"display:none;\">\n",
              "        \n",
              "  <svg xmlns=\"http://www.w3.org/2000/svg\" height=\"24px\"viewBox=\"0 0 24 24\"\n",
              "       width=\"24px\">\n",
              "    <path d=\"M0 0h24v24H0V0z\" fill=\"none\"/>\n",
              "    <path d=\"M18.56 5.44l.94 2.06.94-2.06 2.06-.94-2.06-.94-.94-2.06-.94 2.06-2.06.94zm-11 1L8.5 8.5l.94-2.06 2.06-.94-2.06-.94L8.5 2.5l-.94 2.06-2.06.94zm10 10l.94 2.06.94-2.06 2.06-.94-2.06-.94-.94-2.06-.94 2.06-2.06.94z\"/><path d=\"M17.41 7.96l-1.37-1.37c-.4-.4-.92-.59-1.43-.59-.52 0-1.04.2-1.43.59L10.3 9.45l-7.72 7.72c-.78.78-.78 2.05 0 2.83L4 21.41c.39.39.9.59 1.41.59.51 0 1.02-.2 1.41-.59l7.78-7.78 2.81-2.81c.8-.78.8-2.07 0-2.86zM5.41 20L4 18.59l7.72-7.72 1.47 1.35L5.41 20z\"/>\n",
              "  </svg>\n",
              "      </button>\n",
              "      \n",
              "  <style>\n",
              "    .colab-df-container {\n",
              "      display:flex;\n",
              "      flex-wrap:wrap;\n",
              "      gap: 12px;\n",
              "    }\n",
              "\n",
              "    .colab-df-convert {\n",
              "      background-color: #E8F0FE;\n",
              "      border: none;\n",
              "      border-radius: 50%;\n",
              "      cursor: pointer;\n",
              "      display: none;\n",
              "      fill: #1967D2;\n",
              "      height: 32px;\n",
              "      padding: 0 0 0 0;\n",
              "      width: 32px;\n",
              "    }\n",
              "\n",
              "    .colab-df-convert:hover {\n",
              "      background-color: #E2EBFA;\n",
              "      box-shadow: 0px 1px 2px rgba(60, 64, 67, 0.3), 0px 1px 3px 1px rgba(60, 64, 67, 0.15);\n",
              "      fill: #174EA6;\n",
              "    }\n",
              "\n",
              "    [theme=dark] .colab-df-convert {\n",
              "      background-color: #3B4455;\n",
              "      fill: #D2E3FC;\n",
              "    }\n",
              "\n",
              "    [theme=dark] .colab-df-convert:hover {\n",
              "      background-color: #434B5C;\n",
              "      box-shadow: 0px 1px 3px 1px rgba(0, 0, 0, 0.15);\n",
              "      filter: drop-shadow(0px 1px 2px rgba(0, 0, 0, 0.3));\n",
              "      fill: #FFFFFF;\n",
              "    }\n",
              "  </style>\n",
              "\n",
              "      <script>\n",
              "        const buttonEl =\n",
              "          document.querySelector('#df-7502f68e-fdeb-4535-8020-1f08ea0f8a7c button.colab-df-convert');\n",
              "        buttonEl.style.display =\n",
              "          google.colab.kernel.accessAllowed ? 'block' : 'none';\n",
              "\n",
              "        async function convertToInteractive(key) {\n",
              "          const element = document.querySelector('#df-7502f68e-fdeb-4535-8020-1f08ea0f8a7c');\n",
              "          const dataTable =\n",
              "            await google.colab.kernel.invokeFunction('convertToInteractive',\n",
              "                                                     [key], {});\n",
              "          if (!dataTable) return;\n",
              "\n",
              "          const docLinkHtml = 'Like what you see? Visit the ' +\n",
              "            '<a target=\"_blank\" href=https://colab.research.google.com/notebooks/data_table.ipynb>data table notebook</a>'\n",
              "            + ' to learn more about interactive tables.';\n",
              "          element.innerHTML = '';\n",
              "          dataTable['output_type'] = 'display_data';\n",
              "          await google.colab.output.renderOutput(dataTable, element);\n",
              "          const docLink = document.createElement('div');\n",
              "          docLink.innerHTML = docLinkHtml;\n",
              "          element.appendChild(docLink);\n",
              "        }\n",
              "      </script>\n",
              "    </div>\n",
              "  </div>\n",
              "  "
            ]
          },
          "metadata": {},
          "execution_count": 50
        }
      ]
    },
    {
      "cell_type": "code",
      "source": [
        "rest_data.isnull().sum()"
      ],
      "metadata": {
        "colab": {
          "base_uri": "https://localhost:8080/"
        },
        "id": "w5atZinmFp9K",
        "outputId": "18927849-2d06-409a-9ca4-8a01943c1ede"
      },
      "execution_count": null,
      "outputs": [
        {
          "output_type": "execute_result",
          "data": {
            "text/plain": [
              "name                           0\n",
              "rest_id                        0\n",
              "online_order                   0\n",
              "book_table                     0\n",
              "rate                           0\n",
              "votes                          0\n",
              "location                       0\n",
              "rest_type                      0\n",
              "dish_liked                     0\n",
              "cuisines                       0\n",
              "approx_cost(for two people)    0\n",
              "listed_in(type)                0\n",
              "dtype: int64"
            ]
          },
          "metadata": {},
          "execution_count": 51
        }
      ]
    },
    {
      "cell_type": "code",
      "source": [
        "''' \n",
        "lable encoding ratings column\n",
        "'''\n",
        "\n",
        "lab_enc = preprocessing.LabelEncoder()\n",
        "Y = rest_data['rate']\n",
        "rest_data_transformed = rest_data\n",
        "\n",
        "Y_encoded = lab_enc.fit_transform(Y)\n",
        "Y_encoded = pd.DataFrame({'rating_encoded':Y_encoded})\n",
        "#rest_data_transformed['rating_encoded'] = pd.cut(x=rest_data['rate'], bins=31, labels=np.arange(31), right=False)\n",
        "#rest_data_transformed = rest_data_transformed.drop(['rate'], axis = 1)\n",
        "rest_data_transformed = pd.concat([rest_data_transformed, Y_encoded], axis=1)\n",
        "rest_data_transformed"
      ],
      "metadata": {
        "id": "-sNMtOIqU2-z",
        "colab": {
          "base_uri": "https://localhost:8080/",
          "height": 1000
        },
        "outputId": "55cbfb6d-94a0-4a79-c1eb-bf7f17bbc604"
      },
      "execution_count": null,
      "outputs": [
        {
          "output_type": "execute_result",
          "data": {
            "text/plain": [
              "                                                    name  rest_id  \\\n",
              "0                                                  Jalsa      1.0   \n",
              "1                                         Spice Elephant      2.0   \n",
              "2                                        San Churro Cafe      3.0   \n",
              "3                                  Addhuri Udupi Bhojana      4.0   \n",
              "4                                          Grand Village      5.0   \n",
              "...                                                  ...      ...   \n",
              "51705                                 Izakaya Gastro Pub  17956.0   \n",
              "51707        M Bar - Bengaluru Marriott Hotel Whitefield  17957.0   \n",
              "51708                             Keys Cafe - Keys Hotel  17958.0   \n",
              "51711                                            Bhagini  17959.0   \n",
              "51715  Chime - Sheraton Grand Bengaluru Whitefield Ho...  17960.0   \n",
              "\n",
              "      online_order             book_table  rate  votes  \\\n",
              "0           Online      booking_available   4.1  775.0   \n",
              "1           Online  booking_not_available   4.1  787.0   \n",
              "2           Online  booking_not_available   3.8  918.0   \n",
              "3          Offline  booking_not_available   3.7   88.0   \n",
              "4          Offline  booking_not_available   3.8  166.0   \n",
              "...            ...                    ...   ...    ...   \n",
              "51705       Online      booking_available   3.8  128.0   \n",
              "51707      Offline  booking_not_available   3.9   77.0   \n",
              "51708      Offline  booking_not_available   2.8  161.0   \n",
              "51711      Offline  booking_not_available   2.5   81.0   \n",
              "51715      Offline      booking_available   4.3  236.0   \n",
              "\n",
              "                         location            rest_type  \\\n",
              "0                    Banashankari        Casual Dining   \n",
              "1                    Banashankari        Casual Dining   \n",
              "2                    Banashankari  Cafe, Casual Dining   \n",
              "3                    Banashankari          Quick Bites   \n",
              "4                    Basavanagudi        Casual Dining   \n",
              "...                           ...                  ...   \n",
              "51705                  Whitefield   Bar, Casual Dining   \n",
              "51707                  Whitefield     Fine Dining, Bar   \n",
              "51708                  Whitefield   Casual Dining, Bar   \n",
              "51711                  Whitefield   Casual Dining, Bar   \n",
              "51715  ITPL Main Road, Whitefield                  Bar   \n",
              "\n",
              "                                              dish_liked  \\\n",
              "0      Pasta, Lunch Buffet, Masala Papad, Paneer Laja...   \n",
              "1      Momos, Lunch Buffet, Chocolate Nirvana, Thai G...   \n",
              "2      Churros, Cannelloni, Minestrone Soup, Hot Choc...   \n",
              "3                                            Masala Dosa   \n",
              "4                                    Panipuri, Gol Gappe   \n",
              "...                                                  ...   \n",
              "51705  Beer, Chicken Guntur, Paneer Tikka, Fish, Nood...   \n",
              "51707                                   Rooftop Ambience   \n",
              "51708  Salads, Coffee, Breakfast Buffet, Halwa, Chick...   \n",
              "51711                               Biryani, Andhra Meal   \n",
              "51715                       Cocktails, Pizza, Buttermilk   \n",
              "\n",
              "                                          cuisines  \\\n",
              "0                   North Indian, Mughlai, Chinese   \n",
              "1                      Chinese, North Indian, Thai   \n",
              "2                           Cafe, Mexican, Italian   \n",
              "3                       South Indian, North Indian   \n",
              "4                         North Indian, Rajasthani   \n",
              "...                                            ...   \n",
              "51705     North Indian, Continental, Mediterranean   \n",
              "51707                                  Finger Food   \n",
              "51708           Chinese, Continental, North Indian   \n",
              "51711  Andhra, South Indian, Chinese, North Indian   \n",
              "51715                                  Finger Food   \n",
              "\n",
              "       approx_cost(for two people) listed_in(type)  rating_encoded  \n",
              "0                            800.0          Buffet            22.0  \n",
              "1                            800.0          Buffet            22.0  \n",
              "2                            800.0          Buffet            19.0  \n",
              "3                            300.0          Buffet            18.0  \n",
              "4                            600.0          Buffet            19.0  \n",
              "...                            ...             ...             ...  \n",
              "51705                       1200.0   Pubs and bars             NaN  \n",
              "51707                       2000.0   Pubs and bars             NaN  \n",
              "51708                       1200.0   Pubs and bars             NaN  \n",
              "51711                        800.0   Pubs and bars             NaN  \n",
              "51715                       2500.0   Pubs and bars             NaN  \n",
              "\n",
              "[29329 rows x 13 columns]"
            ],
            "text/html": [
              "\n",
              "  <div id=\"df-fbf6e016-8cdb-40cd-adbb-f222fd177c34\">\n",
              "    <div class=\"colab-df-container\">\n",
              "      <div>\n",
              "<style scoped>\n",
              "    .dataframe tbody tr th:only-of-type {\n",
              "        vertical-align: middle;\n",
              "    }\n",
              "\n",
              "    .dataframe tbody tr th {\n",
              "        vertical-align: top;\n",
              "    }\n",
              "\n",
              "    .dataframe thead th {\n",
              "        text-align: right;\n",
              "    }\n",
              "</style>\n",
              "<table border=\"1\" class=\"dataframe\">\n",
              "  <thead>\n",
              "    <tr style=\"text-align: right;\">\n",
              "      <th></th>\n",
              "      <th>name</th>\n",
              "      <th>rest_id</th>\n",
              "      <th>online_order</th>\n",
              "      <th>book_table</th>\n",
              "      <th>rate</th>\n",
              "      <th>votes</th>\n",
              "      <th>location</th>\n",
              "      <th>rest_type</th>\n",
              "      <th>dish_liked</th>\n",
              "      <th>cuisines</th>\n",
              "      <th>approx_cost(for two people)</th>\n",
              "      <th>listed_in(type)</th>\n",
              "      <th>rating_encoded</th>\n",
              "    </tr>\n",
              "  </thead>\n",
              "  <tbody>\n",
              "    <tr>\n",
              "      <th>0</th>\n",
              "      <td>Jalsa</td>\n",
              "      <td>1.0</td>\n",
              "      <td>Online</td>\n",
              "      <td>booking_available</td>\n",
              "      <td>4.1</td>\n",
              "      <td>775.0</td>\n",
              "      <td>Banashankari</td>\n",
              "      <td>Casual Dining</td>\n",
              "      <td>Pasta, Lunch Buffet, Masala Papad, Paneer Laja...</td>\n",
              "      <td>North Indian, Mughlai, Chinese</td>\n",
              "      <td>800.0</td>\n",
              "      <td>Buffet</td>\n",
              "      <td>22.0</td>\n",
              "    </tr>\n",
              "    <tr>\n",
              "      <th>1</th>\n",
              "      <td>Spice Elephant</td>\n",
              "      <td>2.0</td>\n",
              "      <td>Online</td>\n",
              "      <td>booking_not_available</td>\n",
              "      <td>4.1</td>\n",
              "      <td>787.0</td>\n",
              "      <td>Banashankari</td>\n",
              "      <td>Casual Dining</td>\n",
              "      <td>Momos, Lunch Buffet, Chocolate Nirvana, Thai G...</td>\n",
              "      <td>Chinese, North Indian, Thai</td>\n",
              "      <td>800.0</td>\n",
              "      <td>Buffet</td>\n",
              "      <td>22.0</td>\n",
              "    </tr>\n",
              "    <tr>\n",
              "      <th>2</th>\n",
              "      <td>San Churro Cafe</td>\n",
              "      <td>3.0</td>\n",
              "      <td>Online</td>\n",
              "      <td>booking_not_available</td>\n",
              "      <td>3.8</td>\n",
              "      <td>918.0</td>\n",
              "      <td>Banashankari</td>\n",
              "      <td>Cafe, Casual Dining</td>\n",
              "      <td>Churros, Cannelloni, Minestrone Soup, Hot Choc...</td>\n",
              "      <td>Cafe, Mexican, Italian</td>\n",
              "      <td>800.0</td>\n",
              "      <td>Buffet</td>\n",
              "      <td>19.0</td>\n",
              "    </tr>\n",
              "    <tr>\n",
              "      <th>3</th>\n",
              "      <td>Addhuri Udupi Bhojana</td>\n",
              "      <td>4.0</td>\n",
              "      <td>Offline</td>\n",
              "      <td>booking_not_available</td>\n",
              "      <td>3.7</td>\n",
              "      <td>88.0</td>\n",
              "      <td>Banashankari</td>\n",
              "      <td>Quick Bites</td>\n",
              "      <td>Masala Dosa</td>\n",
              "      <td>South Indian, North Indian</td>\n",
              "      <td>300.0</td>\n",
              "      <td>Buffet</td>\n",
              "      <td>18.0</td>\n",
              "    </tr>\n",
              "    <tr>\n",
              "      <th>4</th>\n",
              "      <td>Grand Village</td>\n",
              "      <td>5.0</td>\n",
              "      <td>Offline</td>\n",
              "      <td>booking_not_available</td>\n",
              "      <td>3.8</td>\n",
              "      <td>166.0</td>\n",
              "      <td>Basavanagudi</td>\n",
              "      <td>Casual Dining</td>\n",
              "      <td>Panipuri, Gol Gappe</td>\n",
              "      <td>North Indian, Rajasthani</td>\n",
              "      <td>600.0</td>\n",
              "      <td>Buffet</td>\n",
              "      <td>19.0</td>\n",
              "    </tr>\n",
              "    <tr>\n",
              "      <th>...</th>\n",
              "      <td>...</td>\n",
              "      <td>...</td>\n",
              "      <td>...</td>\n",
              "      <td>...</td>\n",
              "      <td>...</td>\n",
              "      <td>...</td>\n",
              "      <td>...</td>\n",
              "      <td>...</td>\n",
              "      <td>...</td>\n",
              "      <td>...</td>\n",
              "      <td>...</td>\n",
              "      <td>...</td>\n",
              "      <td>...</td>\n",
              "    </tr>\n",
              "    <tr>\n",
              "      <th>51705</th>\n",
              "      <td>Izakaya Gastro Pub</td>\n",
              "      <td>17956.0</td>\n",
              "      <td>Online</td>\n",
              "      <td>booking_available</td>\n",
              "      <td>3.8</td>\n",
              "      <td>128.0</td>\n",
              "      <td>Whitefield</td>\n",
              "      <td>Bar, Casual Dining</td>\n",
              "      <td>Beer, Chicken Guntur, Paneer Tikka, Fish, Nood...</td>\n",
              "      <td>North Indian, Continental, Mediterranean</td>\n",
              "      <td>1200.0</td>\n",
              "      <td>Pubs and bars</td>\n",
              "      <td>NaN</td>\n",
              "    </tr>\n",
              "    <tr>\n",
              "      <th>51707</th>\n",
              "      <td>M Bar - Bengaluru Marriott Hotel Whitefield</td>\n",
              "      <td>17957.0</td>\n",
              "      <td>Offline</td>\n",
              "      <td>booking_not_available</td>\n",
              "      <td>3.9</td>\n",
              "      <td>77.0</td>\n",
              "      <td>Whitefield</td>\n",
              "      <td>Fine Dining, Bar</td>\n",
              "      <td>Rooftop Ambience</td>\n",
              "      <td>Finger Food</td>\n",
              "      <td>2000.0</td>\n",
              "      <td>Pubs and bars</td>\n",
              "      <td>NaN</td>\n",
              "    </tr>\n",
              "    <tr>\n",
              "      <th>51708</th>\n",
              "      <td>Keys Cafe - Keys Hotel</td>\n",
              "      <td>17958.0</td>\n",
              "      <td>Offline</td>\n",
              "      <td>booking_not_available</td>\n",
              "      <td>2.8</td>\n",
              "      <td>161.0</td>\n",
              "      <td>Whitefield</td>\n",
              "      <td>Casual Dining, Bar</td>\n",
              "      <td>Salads, Coffee, Breakfast Buffet, Halwa, Chick...</td>\n",
              "      <td>Chinese, Continental, North Indian</td>\n",
              "      <td>1200.0</td>\n",
              "      <td>Pubs and bars</td>\n",
              "      <td>NaN</td>\n",
              "    </tr>\n",
              "    <tr>\n",
              "      <th>51711</th>\n",
              "      <td>Bhagini</td>\n",
              "      <td>17959.0</td>\n",
              "      <td>Offline</td>\n",
              "      <td>booking_not_available</td>\n",
              "      <td>2.5</td>\n",
              "      <td>81.0</td>\n",
              "      <td>Whitefield</td>\n",
              "      <td>Casual Dining, Bar</td>\n",
              "      <td>Biryani, Andhra Meal</td>\n",
              "      <td>Andhra, South Indian, Chinese, North Indian</td>\n",
              "      <td>800.0</td>\n",
              "      <td>Pubs and bars</td>\n",
              "      <td>NaN</td>\n",
              "    </tr>\n",
              "    <tr>\n",
              "      <th>51715</th>\n",
              "      <td>Chime - Sheraton Grand Bengaluru Whitefield Ho...</td>\n",
              "      <td>17960.0</td>\n",
              "      <td>Offline</td>\n",
              "      <td>booking_available</td>\n",
              "      <td>4.3</td>\n",
              "      <td>236.0</td>\n",
              "      <td>ITPL Main Road, Whitefield</td>\n",
              "      <td>Bar</td>\n",
              "      <td>Cocktails, Pizza, Buttermilk</td>\n",
              "      <td>Finger Food</td>\n",
              "      <td>2500.0</td>\n",
              "      <td>Pubs and bars</td>\n",
              "      <td>NaN</td>\n",
              "    </tr>\n",
              "  </tbody>\n",
              "</table>\n",
              "<p>29329 rows × 13 columns</p>\n",
              "</div>\n",
              "      <button class=\"colab-df-convert\" onclick=\"convertToInteractive('df-fbf6e016-8cdb-40cd-adbb-f222fd177c34')\"\n",
              "              title=\"Convert this dataframe to an interactive table.\"\n",
              "              style=\"display:none;\">\n",
              "        \n",
              "  <svg xmlns=\"http://www.w3.org/2000/svg\" height=\"24px\"viewBox=\"0 0 24 24\"\n",
              "       width=\"24px\">\n",
              "    <path d=\"M0 0h24v24H0V0z\" fill=\"none\"/>\n",
              "    <path d=\"M18.56 5.44l.94 2.06.94-2.06 2.06-.94-2.06-.94-.94-2.06-.94 2.06-2.06.94zm-11 1L8.5 8.5l.94-2.06 2.06-.94-2.06-.94L8.5 2.5l-.94 2.06-2.06.94zm10 10l.94 2.06.94-2.06 2.06-.94-2.06-.94-.94-2.06-.94 2.06-2.06.94z\"/><path d=\"M17.41 7.96l-1.37-1.37c-.4-.4-.92-.59-1.43-.59-.52 0-1.04.2-1.43.59L10.3 9.45l-7.72 7.72c-.78.78-.78 2.05 0 2.83L4 21.41c.39.39.9.59 1.41.59.51 0 1.02-.2 1.41-.59l7.78-7.78 2.81-2.81c.8-.78.8-2.07 0-2.86zM5.41 20L4 18.59l7.72-7.72 1.47 1.35L5.41 20z\"/>\n",
              "  </svg>\n",
              "      </button>\n",
              "      \n",
              "  <style>\n",
              "    .colab-df-container {\n",
              "      display:flex;\n",
              "      flex-wrap:wrap;\n",
              "      gap: 12px;\n",
              "    }\n",
              "\n",
              "    .colab-df-convert {\n",
              "      background-color: #E8F0FE;\n",
              "      border: none;\n",
              "      border-radius: 50%;\n",
              "      cursor: pointer;\n",
              "      display: none;\n",
              "      fill: #1967D2;\n",
              "      height: 32px;\n",
              "      padding: 0 0 0 0;\n",
              "      width: 32px;\n",
              "    }\n",
              "\n",
              "    .colab-df-convert:hover {\n",
              "      background-color: #E2EBFA;\n",
              "      box-shadow: 0px 1px 2px rgba(60, 64, 67, 0.3), 0px 1px 3px 1px rgba(60, 64, 67, 0.15);\n",
              "      fill: #174EA6;\n",
              "    }\n",
              "\n",
              "    [theme=dark] .colab-df-convert {\n",
              "      background-color: #3B4455;\n",
              "      fill: #D2E3FC;\n",
              "    }\n",
              "\n",
              "    [theme=dark] .colab-df-convert:hover {\n",
              "      background-color: #434B5C;\n",
              "      box-shadow: 0px 1px 3px 1px rgba(0, 0, 0, 0.15);\n",
              "      filter: drop-shadow(0px 1px 2px rgba(0, 0, 0, 0.3));\n",
              "      fill: #FFFFFF;\n",
              "    }\n",
              "  </style>\n",
              "\n",
              "      <script>\n",
              "        const buttonEl =\n",
              "          document.querySelector('#df-fbf6e016-8cdb-40cd-adbb-f222fd177c34 button.colab-df-convert');\n",
              "        buttonEl.style.display =\n",
              "          google.colab.kernel.accessAllowed ? 'block' : 'none';\n",
              "\n",
              "        async function convertToInteractive(key) {\n",
              "          const element = document.querySelector('#df-fbf6e016-8cdb-40cd-adbb-f222fd177c34');\n",
              "          const dataTable =\n",
              "            await google.colab.kernel.invokeFunction('convertToInteractive',\n",
              "                                                     [key], {});\n",
              "          if (!dataTable) return;\n",
              "\n",
              "          const docLinkHtml = 'Like what you see? Visit the ' +\n",
              "            '<a target=\"_blank\" href=https://colab.research.google.com/notebooks/data_table.ipynb>data table notebook</a>'\n",
              "            + ' to learn more about interactive tables.';\n",
              "          element.innerHTML = '';\n",
              "          dataTable['output_type'] = 'display_data';\n",
              "          await google.colab.output.renderOutput(dataTable, element);\n",
              "          const docLink = document.createElement('div');\n",
              "          docLink.innerHTML = docLinkHtml;\n",
              "          element.appendChild(docLink);\n",
              "        }\n",
              "      </script>\n",
              "    </div>\n",
              "  </div>\n",
              "  "
            ]
          },
          "metadata": {},
          "execution_count": 52
        }
      ]
    },
    {
      "cell_type": "code",
      "source": [
        "rest_data_transformed.dropna(inplace = True)  # dropping null values\n",
        "rest_data_transformed.isnull().sum()"
      ],
      "metadata": {
        "colab": {
          "base_uri": "https://localhost:8080/"
        },
        "id": "Wi-b_2v4FiJS",
        "outputId": "478231fa-98d6-4458-9860-0e2910ee3511"
      },
      "execution_count": null,
      "outputs": [
        {
          "output_type": "execute_result",
          "data": {
            "text/plain": [
              "name                           0\n",
              "rest_id                        0\n",
              "online_order                   0\n",
              "book_table                     0\n",
              "rate                           0\n",
              "votes                          0\n",
              "location                       0\n",
              "rest_type                      0\n",
              "dish_liked                     0\n",
              "cuisines                       0\n",
              "approx_cost(for two people)    0\n",
              "listed_in(type)                0\n",
              "rating_encoded                 0\n",
              "dtype: int64"
            ]
          },
          "metadata": {},
          "execution_count": 53
        }
      ]
    },
    {
      "cell_type": "code",
      "source": [
        "# saving dataframe to csv file\n",
        "rest_data.to_csv('/content/drive/MyDrive/Harman_Project/Dataset/new_rest_data.csv')"
      ],
      "metadata": {
        "id": "n2jKBg_lXuKT"
      },
      "execution_count": null,
      "outputs": []
    },
    {
      "cell_type": "code",
      "source": [
        "# saving dataframe to csv file\n",
        "rest_data_transformed.to_csv('/content/drive/MyDrive/Harman_Project/Dataset/rest_data_transformed.csv')"
      ],
      "metadata": {
        "id": "xR8BKCPAWHIu"
      },
      "execution_count": null,
      "outputs": []
    },
    {
      "cell_type": "code",
      "source": [
        "#rest_data_transformed['rating_encoded'].unique()"
      ],
      "metadata": {
        "id": "Dg-5LBCrJ45R"
      },
      "execution_count": null,
      "outputs": []
    },
    {
      "cell_type": "code",
      "source": [
        "rest_data_transformed['rate'].unique()"
      ],
      "metadata": {
        "colab": {
          "base_uri": "https://localhost:8080/"
        },
        "id": "pQkWchjpFxrL",
        "outputId": "b40966b7-41ad-4bb7-d68a-b029c019ba75"
      },
      "execution_count": null,
      "outputs": [
        {
          "output_type": "execute_result",
          "data": {
            "text/plain": [
              "array([4.1, 3.8, 3.7, 4.6, 4. , 4.2, 3.9, 3. , 3.6, 2.8, 4.4, 3.1, 4.3,\n",
              "       2.6, 3.3, 3.5, 3.2, 4.5, 2.5, 2.9, 3.4, 2.7, 4.7, 2.4, 2.2, 2.3,\n",
              "       4.8, 4.9, 2.1, 2. , 1.8])"
            ]
          },
          "metadata": {},
          "execution_count": 55
        }
      ]
    },
    {
      "cell_type": "markdown",
      "source": [
        ""
      ],
      "metadata": {
        "id": "IhepmdIkDS-v"
      }
    },
    {
      "cell_type": "code",
      "source": [
        "len(rest_data['rate'].unique())"
      ],
      "metadata": {
        "colab": {
          "base_uri": "https://localhost:8080/"
        },
        "id": "BUHCQGnzAaDe",
        "outputId": "573ffa0e-989d-4679-b286-138df689e089"
      },
      "execution_count": null,
      "outputs": [
        {
          "output_type": "execute_result",
          "data": {
            "text/plain": [
              "31"
            ]
          },
          "metadata": {},
          "execution_count": 56
        }
      ]
    },
    {
      "cell_type": "code",
      "source": [
        "#rest_data_transformed['rating_mapped'] = rest_data['rate'].map({4.1: 4.1, 3.8: 3.8, 3.7: 3.7, 4.6: 4.6, 4. :4, 4.2: 4.2, 3.9: 3.9, 3. : 3, 3.6: 3.6, 2.8: 2.8, 4.4: 4.4, 3.1: 3.1, 4.3: 4.3, 2.6: 2.6, 3.3: 3.3, 3.5: 3.5, 3.2: 3.2, 4.5: 4.5, 2.5: 2.5, 2.9: 2.9, 3.4: 3.4, 2.7: 2.7, 4.7: 4.7, 2.4: 2.4, 2.2: 2.2, 2.3: 2.3, 4.8: 4.8, 4.9: 4.9, 2.1: 2.1, 2. : 2, 1.8: 1.8})\n",
        "#rest_data_transformed"
      ],
      "metadata": {
        "id": "_SjrVR7aKqi0"
      },
      "execution_count": null,
      "outputs": []
    },
    {
      "cell_type": "code",
      "source": [
        "#, : "
      ],
      "metadata": {
        "id": "M3yF0XWaLt-m"
      },
      "execution_count": null,
      "outputs": []
    },
    {
      "cell_type": "markdown",
      "source": [
        "# Model training "
      ],
      "metadata": {
        "id": "o8LO1u2gOUeE"
      }
    },
    {
      "cell_type": "code",
      "source": [
        "'''X = rest_data_transformed[['rest_id']]\n",
        "Y = rest_data_transformed['rating_encoded']\n",
        "knc = NearestNeighbors(metric = 'cosine', n_neighbors=7, algorithm='brute', n_jobs=-1)\n",
        "knc.fit(X,Y)\n",
        "with open('/content/drive/MyDrive/Harman_Project/Dataset/rest_reccomend_knn.pickle', 'wb') as handle:\n",
        "    pickle.dump(knc, handle, protocol=pickle.HIGHEST_PROTOCOL)'''"
      ],
      "metadata": {
        "id": "U56IDt_KOTyA"
      },
      "execution_count": null,
      "outputs": []
    },
    {
      "cell_type": "code",
      "source": [
        "'''\n",
        " 1) recommend_rating:\n",
        "This function implements knn and recommends restaurants based on rating of the input retaurant\n",
        "'''\n",
        "def recommend_rating(inp_rest_id, num_of_reccomendation):\n",
        "  X = rest_data_transformed[['rest_id']]\n",
        "  Y = rest_data_transformed['rating_encoded']\n",
        "  #Y_encoded = lab_enc.fit_transform(Y)\n",
        "\n",
        "  knc = NearestNeighbors(metric = 'cosine', n_neighbors=num_of_reccomendation, algorithm='brute', n_jobs=-1)\n",
        "  knc.fit(X,Y)\n",
        "  neighbor_distances, knc_neigbors = knc.kneighbors([[inp_rest_id]])\n",
        "  knc_neigbors = knc_neigbors[0]\n",
        "  print(\"\\n\",num_of_reccomendation,\"neighbors: \", knc_neigbors)\n",
        "  print(\"\\nDistance of neighbors: \", neighbor_distances[0], \"\\n\")\n",
        "  \n",
        "  recommended_rest = pd.DataFrame()\n",
        "  for item in knc_neigbors:\n",
        "    rest_entry = rest_data_transformed.loc[rest_data_transformed['rest_id'] == item]\n",
        "    recommended_rest=recommended_rest.append( [rest_entry] )\n",
        "    recommended_rest = recommended_rest.sort_values('rate', ascending=False)\n",
        "\n",
        "  return recommended_rest"
      ],
      "metadata": {
        "id": "ezZU9opSZ7KI"
      },
      "execution_count": null,
      "outputs": []
    },
    {
      "cell_type": "code",
      "source": [
        "'''\n",
        " 2) recommend_online:\n",
        "This function implements knn and recommends restaurants which have online deivery option available based on rating of the input retaurant \n",
        "'''\n",
        "def recommend_online(inp_rest_id, num_of_reccomendation):\n",
        "  rest_online = rest_data_transformed[(rest_data_transformed['online_order'] == 'Online')]\n",
        "  X = rest_online[['rest_id']]\n",
        "  Y = rest_online['rating_encoded']\n",
        "  #Y_encoded = lab_enc.fit_transform(Y)\n",
        "\n",
        "  knc = KNeighborsClassifier(metric = 'cosine', n_neighbors=num_of_reccomendation, algorithm='brute', n_jobs=-1)\n",
        "  knc.fit(X,Y)\n",
        "  neighbor_distances, knc_neigbors = knc.kneighbors([[inp_rest_id]])\n",
        "  knc_neigbors = knc_neigbors[0]\n",
        "  print(\"\\n\",num_of_reccomendation,\"neighbors: \", knc_neigbors)\n",
        "  print(\"\\nDistance of neighbors: \", neighbor_distances[0], \"\\n\")\n",
        "  \n",
        "  recommended_rest = pd.DataFrame()\n",
        "  for item in knc_neigbors:\n",
        "    rest_entry = rest_online.loc[rest_online['rest_id'] == item]\n",
        "    recommended_rest=recommended_rest.append( [rest_entry] )\n",
        "    recommended_rest = recommended_rest.sort_values('rate', ascending=False)\n",
        "\n",
        "  return recommended_rest"
      ],
      "metadata": {
        "id": "DuKH3_CMcMw0"
      },
      "execution_count": null,
      "outputs": []
    },
    {
      "cell_type": "code",
      "source": [
        "'''\n",
        " 3) recommend_according_to_budget:\n",
        "This function implements knn and recommends restaurants based on rating of the input retaurant and filters out the restaurants that are outisde the budegt provided by the user\n",
        "'''\n",
        "def recommend_according_to_budget(inp_rest_id, num_of_reccomendation, upper_limit):\n",
        "  rest_budget = rest_data_transformed[(rest_data_transformed['approx_cost(for two people)'] <= upper_limit)]\n",
        "  X = rest_budget[['rest_id']]\n",
        "  Y = rest_budget['rating_encoded']\n",
        "  #Y_encoded = lab_enc.fit_transform(Y)\n",
        "\n",
        "  knc = KNeighborsClassifier(metric = 'cosine', n_neighbors=num_of_reccomendation, algorithm='brute', n_jobs=-1)\n",
        "  knc.fit(X,Y)\n",
        "  neighbor_distances, knc_neigbors = knc.kneighbors([[inp_rest_id]])\n",
        "  knc_neigbors = knc_neigbors[0]\n",
        "  print(\"\\n\",num_of_reccomendation,\"neighbors: \", knc_neigbors)\n",
        "  print(\"\\nDistance of neighbors: \", neighbor_distances[0], \"\\n\")\n",
        "\n",
        "  recommended_rest = pd.DataFrame()\n",
        "  for item in knc_neigbors:\n",
        "    rest_entry = rest_budget.loc[rest_budget['rest_id'] == item]\n",
        "    recommended_rest=recommended_rest.append( [rest_entry] )\n",
        "    recommended_rest = recommended_rest.sort_values('rate', ascending=False)\n",
        "\n",
        "\n",
        "  return recommended_rest"
      ],
      "metadata": {
        "id": "9hxQ_aGHh1Uk"
      },
      "execution_count": null,
      "outputs": []
    },
    {
      "cell_type": "code",
      "source": [
        "'''\n",
        " 4) recommend_according_to_budget_and_online:\n",
        "This function implements knn and recommends restaurants which have online deivery option available based on rating of the input retaurant and \n",
        "filters out the restaurants that are outisde the budegt provided by the user\n",
        "'''\n",
        "def recommend_according_to_budget_and_online(inp_rest_id, num_of_reccomendation, upper_limit):\n",
        "  rest_online = rest_data_transformed[(rest_data_transformed['online_order'] == 'Online')]\n",
        "  rest_budget = rest_online[(rest_online['approx_cost(for two people)'] <= upper_limit)]\n",
        "  X = rest_budget[['rest_id']]\n",
        "  Y = rest_budget['rating_encoded']\n",
        "\n",
        "  # euclidean , cosine\n",
        "  knc = NearestNeighbors(metric = 'cosine', n_neighbors=num_of_reccomendation, n_jobs=-1)\n",
        "  knc.fit(X,Y)\n",
        "  neighbor_distances, knc_neigbors = knc.kneighbors([[inp_rest_id]], n_neighbors=num_of_reccomendation)\n",
        "  knc_neigbors = knc_neigbors[0]\n",
        "  print(\"\\n\",num_of_reccomendation,\"neighbors: \", knc_neigbors)\n",
        "  print(\"\\nDistance of neighbors: \", neighbor_distances[0], \"\\n\")\n",
        "\n",
        "  recommended_rest = pd.DataFrame()\n",
        "  for item in knc_neigbors:\n",
        "    rest_entry = rest_budget.loc[rest_budget['rest_id'] == item]\n",
        "    recommended_rest=recommended_rest.append( [rest_entry] )\n",
        "    recommended_rest = recommended_rest.sort_values('rate', ascending=False)\n",
        "\n",
        "  return recommended_rest"
      ],
      "metadata": {
        "id": "v1m5X9ocmB8s"
      },
      "execution_count": null,
      "outputs": []
    },
    {
      "cell_type": "code",
      "source": [
        "''' \n",
        "Taking input from the user\n",
        "'''\n",
        "inp_rest_id = int(input(\"Enter the restaurant ID: \"))\n",
        "num_of_reccomendation = int(input(\"\\nEnter number of recommendations you want for the restaurants: \"))\n",
        "online_available = int(input(\"\\nShould the restaurant have Onlne order facilities: \\n1.Yes \\n2.No\\nEnter your response: \"))\n",
        "budget = int(input(\"\\nFilter according to budget?: \\n1.Yes \\n2.Skip\\nEnter your response: \"))\n",
        "if budget == 1:\n",
        "  upper_limit = float(input(\"Enter the budget. Upper limit: \"))\n",
        "\n",
        "inp_rest = rest_data_transformed[(rest_data_transformed['rest_id'] == inp_rest_id)]\n",
        "print(\"\\nDetails of input restaurant: \\n\", inp_rest[['name', 'rest_id', 'rate', 'rating_encoded', 'location']])\n",
        "\n",
        "if (online_available == 1) & (budget == 1):\n",
        "  recommended_rest = recommend_according_to_budget_and_online(inp_rest_id, num_of_reccomendation, upper_limit)\n",
        "elif (online_available != 1) & (budget == 1):\n",
        "  recommended_rest = recommend_according_to_budget(inp_rest_id, num_of_reccomendation, upper_limit)\n",
        "elif (online_available == 1) & (budget != 1):\n",
        "  recommended_rest = recommend_online(inp_rest_id, num_of_reccomendation)\n",
        "elif (online_available != 1) & (budget != 1):\n",
        "  recommended_rest = recommend_rating(inp_rest_id, num_of_reccomendation)\n",
        "\n",
        "recommended_rest[['name', 'rest_id', 'rate', 'rating_encoded', 'location', 'rest_type', 'cuisines', 'approx_cost(for two people)']]"
      ],
      "metadata": {
        "colab": {
          "base_uri": "https://localhost:8080/",
          "height": 814
        },
        "id": "meQgUDKnq-4v",
        "outputId": "746dd296-774b-4229-8529-aad32cb9a336"
      },
      "execution_count": null,
      "outputs": [
        {
          "output_type": "stream",
          "name": "stdout",
          "text": [
            "Enter the restaurant ID: 457\n",
            "\n",
            "Enter number of recommendations you want for the restaurants: 10\n",
            "\n",
            "Should the restaurant have Onlne order facilities: \n",
            "1.Yes \n",
            "2.No\n",
            "Enter your response: 2\n",
            "\n",
            "Filter according to budget?: \n",
            "1.Yes \n",
            "2.Skip\n",
            "Enter your response: 2\n",
            "\n",
            "Details of input restaurant: \n",
            "      name  rest_id  rate  rating_encoded  location\n",
            "1013  KFC    457.0   3.9            19.0  JP Nagar\n",
            "\n",
            " 10 neighbors:  [4396 4397 4393 4394 4395 4391 4400 4399 4389 4398]\n",
            "\n",
            "Distance of neighbors:  [0. 0. 0. 0. 0. 0. 0. 0. 0. 0.] \n",
            "\n"
          ]
        },
        {
          "output_type": "stream",
          "name": "stderr",
          "text": [
            "/usr/local/lib/python3.7/dist-packages/ipykernel_launcher.py:11: UserWarning: Boolean Series key will be reindexed to match DataFrame index.\n",
            "  # This is added back by InteractiveShellApp.init_path()\n",
            "/usr/local/lib/python3.7/dist-packages/sklearn/base.py:451: UserWarning: X does not have valid feature names, but NearestNeighbors was fitted with feature names\n",
            "  \"X does not have valid feature names, but\"\n"
          ]
        },
        {
          "output_type": "execute_result",
          "data": {
            "text/plain": [
              "                                name  rest_id  rate  rating_encoded  \\\n",
              "11022                    Khawa Karpo   4396.0   4.3            28.0   \n",
              "11017            Meenu Oota Da Maane   4393.0   4.2            25.0   \n",
              "11013             California Burrito   4391.0   4.1            23.0   \n",
              "11027                Willys Top Cafe   4400.0   4.0            21.0   \n",
              "11018    Over The Top Terrace Lounge   4394.0   3.9            28.0   \n",
              "11019                     Bangaliana   4395.0   3.9            26.0   \n",
              "11011           Chicken County Grand   4389.0   3.9            26.0   \n",
              "11023                       7 Plates   4397.0   3.7            27.0   \n",
              "11025                  Biriyani Mane   4399.0   3.7            25.0   \n",
              "11024  Aalishan Restaurant & Caterer   4398.0   3.5            22.0   \n",
              "\n",
              "                    location      rest_type                        cuisines  \\\n",
              "11022  Koramangala 5th Block    Quick Bites         Chinese, Tibetan, Momos   \n",
              "11017  Koramangala 5th Block  Casual Dining   Seafood, Mangalorean, Chinese   \n",
              "11013  Koramangala 5th Block    Quick Bites              Mexican, Fast Food   \n",
              "11027              Jayanagar           Cafe        Cafe, Continental, Asian   \n",
              "11018  Koramangala 5th Block         Lounge       Continental, North Indian   \n",
              "11019  Koramangala 7th Block  Casual Dining                         Bengali   \n",
              "11011      Bannerghatta Road  Casual Dining           North Indian, Chinese   \n",
              "11023  Koramangala 5th Block  Casual Dining              Mughlai, Fast Food   \n",
              "11025              Jayanagar  Casual Dining  Biryani, Chinese, North Indian   \n",
              "11024  Koramangala 7th Block  Casual Dining           North Indian, Mughlai   \n",
              "\n",
              "       approx_cost(for two people)  \n",
              "11022                        350.0  \n",
              "11017                        800.0  \n",
              "11013                        400.0  \n",
              "11027                        750.0  \n",
              "11018                       1400.0  \n",
              "11019                        600.0  \n",
              "11011                        650.0  \n",
              "11023                        750.0  \n",
              "11025                        700.0  \n",
              "11024                        650.0  "
            ],
            "text/html": [
              "\n",
              "  <div id=\"df-e73193b6-8cb2-49be-89a0-c4353735b528\">\n",
              "    <div class=\"colab-df-container\">\n",
              "      <div>\n",
              "<style scoped>\n",
              "    .dataframe tbody tr th:only-of-type {\n",
              "        vertical-align: middle;\n",
              "    }\n",
              "\n",
              "    .dataframe tbody tr th {\n",
              "        vertical-align: top;\n",
              "    }\n",
              "\n",
              "    .dataframe thead th {\n",
              "        text-align: right;\n",
              "    }\n",
              "</style>\n",
              "<table border=\"1\" class=\"dataframe\">\n",
              "  <thead>\n",
              "    <tr style=\"text-align: right;\">\n",
              "      <th></th>\n",
              "      <th>name</th>\n",
              "      <th>rest_id</th>\n",
              "      <th>rate</th>\n",
              "      <th>rating_encoded</th>\n",
              "      <th>location</th>\n",
              "      <th>rest_type</th>\n",
              "      <th>cuisines</th>\n",
              "      <th>approx_cost(for two people)</th>\n",
              "    </tr>\n",
              "  </thead>\n",
              "  <tbody>\n",
              "    <tr>\n",
              "      <th>11022</th>\n",
              "      <td>Khawa Karpo</td>\n",
              "      <td>4396.0</td>\n",
              "      <td>4.3</td>\n",
              "      <td>28.0</td>\n",
              "      <td>Koramangala 5th Block</td>\n",
              "      <td>Quick Bites</td>\n",
              "      <td>Chinese, Tibetan, Momos</td>\n",
              "      <td>350.0</td>\n",
              "    </tr>\n",
              "    <tr>\n",
              "      <th>11017</th>\n",
              "      <td>Meenu Oota Da Maane</td>\n",
              "      <td>4393.0</td>\n",
              "      <td>4.2</td>\n",
              "      <td>25.0</td>\n",
              "      <td>Koramangala 5th Block</td>\n",
              "      <td>Casual Dining</td>\n",
              "      <td>Seafood, Mangalorean, Chinese</td>\n",
              "      <td>800.0</td>\n",
              "    </tr>\n",
              "    <tr>\n",
              "      <th>11013</th>\n",
              "      <td>California Burrito</td>\n",
              "      <td>4391.0</td>\n",
              "      <td>4.1</td>\n",
              "      <td>23.0</td>\n",
              "      <td>Koramangala 5th Block</td>\n",
              "      <td>Quick Bites</td>\n",
              "      <td>Mexican, Fast Food</td>\n",
              "      <td>400.0</td>\n",
              "    </tr>\n",
              "    <tr>\n",
              "      <th>11027</th>\n",
              "      <td>Willys Top Cafe</td>\n",
              "      <td>4400.0</td>\n",
              "      <td>4.0</td>\n",
              "      <td>21.0</td>\n",
              "      <td>Jayanagar</td>\n",
              "      <td>Cafe</td>\n",
              "      <td>Cafe, Continental, Asian</td>\n",
              "      <td>750.0</td>\n",
              "    </tr>\n",
              "    <tr>\n",
              "      <th>11018</th>\n",
              "      <td>Over The Top Terrace Lounge</td>\n",
              "      <td>4394.0</td>\n",
              "      <td>3.9</td>\n",
              "      <td>28.0</td>\n",
              "      <td>Koramangala 5th Block</td>\n",
              "      <td>Lounge</td>\n",
              "      <td>Continental, North Indian</td>\n",
              "      <td>1400.0</td>\n",
              "    </tr>\n",
              "    <tr>\n",
              "      <th>11019</th>\n",
              "      <td>Bangaliana</td>\n",
              "      <td>4395.0</td>\n",
              "      <td>3.9</td>\n",
              "      <td>26.0</td>\n",
              "      <td>Koramangala 7th Block</td>\n",
              "      <td>Casual Dining</td>\n",
              "      <td>Bengali</td>\n",
              "      <td>600.0</td>\n",
              "    </tr>\n",
              "    <tr>\n",
              "      <th>11011</th>\n",
              "      <td>Chicken County Grand</td>\n",
              "      <td>4389.0</td>\n",
              "      <td>3.9</td>\n",
              "      <td>26.0</td>\n",
              "      <td>Bannerghatta Road</td>\n",
              "      <td>Casual Dining</td>\n",
              "      <td>North Indian, Chinese</td>\n",
              "      <td>650.0</td>\n",
              "    </tr>\n",
              "    <tr>\n",
              "      <th>11023</th>\n",
              "      <td>7 Plates</td>\n",
              "      <td>4397.0</td>\n",
              "      <td>3.7</td>\n",
              "      <td>27.0</td>\n",
              "      <td>Koramangala 5th Block</td>\n",
              "      <td>Casual Dining</td>\n",
              "      <td>Mughlai, Fast Food</td>\n",
              "      <td>750.0</td>\n",
              "    </tr>\n",
              "    <tr>\n",
              "      <th>11025</th>\n",
              "      <td>Biriyani Mane</td>\n",
              "      <td>4399.0</td>\n",
              "      <td>3.7</td>\n",
              "      <td>25.0</td>\n",
              "      <td>Jayanagar</td>\n",
              "      <td>Casual Dining</td>\n",
              "      <td>Biryani, Chinese, North Indian</td>\n",
              "      <td>700.0</td>\n",
              "    </tr>\n",
              "    <tr>\n",
              "      <th>11024</th>\n",
              "      <td>Aalishan Restaurant &amp; Caterer</td>\n",
              "      <td>4398.0</td>\n",
              "      <td>3.5</td>\n",
              "      <td>22.0</td>\n",
              "      <td>Koramangala 7th Block</td>\n",
              "      <td>Casual Dining</td>\n",
              "      <td>North Indian, Mughlai</td>\n",
              "      <td>650.0</td>\n",
              "    </tr>\n",
              "  </tbody>\n",
              "</table>\n",
              "</div>\n",
              "      <button class=\"colab-df-convert\" onclick=\"convertToInteractive('df-e73193b6-8cb2-49be-89a0-c4353735b528')\"\n",
              "              title=\"Convert this dataframe to an interactive table.\"\n",
              "              style=\"display:none;\">\n",
              "        \n",
              "  <svg xmlns=\"http://www.w3.org/2000/svg\" height=\"24px\"viewBox=\"0 0 24 24\"\n",
              "       width=\"24px\">\n",
              "    <path d=\"M0 0h24v24H0V0z\" fill=\"none\"/>\n",
              "    <path d=\"M18.56 5.44l.94 2.06.94-2.06 2.06-.94-2.06-.94-.94-2.06-.94 2.06-2.06.94zm-11 1L8.5 8.5l.94-2.06 2.06-.94-2.06-.94L8.5 2.5l-.94 2.06-2.06.94zm10 10l.94 2.06.94-2.06 2.06-.94-2.06-.94-.94-2.06-.94 2.06-2.06.94z\"/><path d=\"M17.41 7.96l-1.37-1.37c-.4-.4-.92-.59-1.43-.59-.52 0-1.04.2-1.43.59L10.3 9.45l-7.72 7.72c-.78.78-.78 2.05 0 2.83L4 21.41c.39.39.9.59 1.41.59.51 0 1.02-.2 1.41-.59l7.78-7.78 2.81-2.81c.8-.78.8-2.07 0-2.86zM5.41 20L4 18.59l7.72-7.72 1.47 1.35L5.41 20z\"/>\n",
              "  </svg>\n",
              "      </button>\n",
              "      \n",
              "  <style>\n",
              "    .colab-df-container {\n",
              "      display:flex;\n",
              "      flex-wrap:wrap;\n",
              "      gap: 12px;\n",
              "    }\n",
              "\n",
              "    .colab-df-convert {\n",
              "      background-color: #E8F0FE;\n",
              "      border: none;\n",
              "      border-radius: 50%;\n",
              "      cursor: pointer;\n",
              "      display: none;\n",
              "      fill: #1967D2;\n",
              "      height: 32px;\n",
              "      padding: 0 0 0 0;\n",
              "      width: 32px;\n",
              "    }\n",
              "\n",
              "    .colab-df-convert:hover {\n",
              "      background-color: #E2EBFA;\n",
              "      box-shadow: 0px 1px 2px rgba(60, 64, 67, 0.3), 0px 1px 3px 1px rgba(60, 64, 67, 0.15);\n",
              "      fill: #174EA6;\n",
              "    }\n",
              "\n",
              "    [theme=dark] .colab-df-convert {\n",
              "      background-color: #3B4455;\n",
              "      fill: #D2E3FC;\n",
              "    }\n",
              "\n",
              "    [theme=dark] .colab-df-convert:hover {\n",
              "      background-color: #434B5C;\n",
              "      box-shadow: 0px 1px 3px 1px rgba(0, 0, 0, 0.15);\n",
              "      filter: drop-shadow(0px 1px 2px rgba(0, 0, 0, 0.3));\n",
              "      fill: #FFFFFF;\n",
              "    }\n",
              "  </style>\n",
              "\n",
              "      <script>\n",
              "        const buttonEl =\n",
              "          document.querySelector('#df-e73193b6-8cb2-49be-89a0-c4353735b528 button.colab-df-convert');\n",
              "        buttonEl.style.display =\n",
              "          google.colab.kernel.accessAllowed ? 'block' : 'none';\n",
              "\n",
              "        async function convertToInteractive(key) {\n",
              "          const element = document.querySelector('#df-e73193b6-8cb2-49be-89a0-c4353735b528');\n",
              "          const dataTable =\n",
              "            await google.colab.kernel.invokeFunction('convertToInteractive',\n",
              "                                                     [key], {});\n",
              "          if (!dataTable) return;\n",
              "\n",
              "          const docLinkHtml = 'Like what you see? Visit the ' +\n",
              "            '<a target=\"_blank\" href=https://colab.research.google.com/notebooks/data_table.ipynb>data table notebook</a>'\n",
              "            + ' to learn more about interactive tables.';\n",
              "          element.innerHTML = '';\n",
              "          dataTable['output_type'] = 'display_data';\n",
              "          await google.colab.output.renderOutput(dataTable, element);\n",
              "          const docLink = document.createElement('div');\n",
              "          docLink.innerHTML = docLinkHtml;\n",
              "          element.appendChild(docLink);\n",
              "        }\n",
              "      </script>\n",
              "    </div>\n",
              "  </div>\n",
              "  "
            ]
          },
          "metadata": {},
          "execution_count": 77
        }
      ]
    },
    {
      "cell_type": "code",
      "source": [
        "'''# get input as name\n",
        "\n",
        "name = input(\"Enter the name of your favorite restaurant: \")\n",
        "rest_name = rest_data[(rest_data['name'] == name)]\n",
        "rest_name'''"
      ],
      "metadata": {
        "id": "cSfJgtXbohEU",
        "colab": {
          "base_uri": "https://localhost:8080/",
          "height": 36
        },
        "outputId": "1e83f6ef-b88a-4547-aa0d-0bcde7a2fd3f"
      },
      "execution_count": null,
      "outputs": [
        {
          "output_type": "execute_result",
          "data": {
            "text/plain": [
              "'# get input as name\\n\\nname = input(\"Enter the name of your favorite restaurant: \")\\nrest_name = rest_data[(rest_data[\\'name\\'] == name)]\\nrest_name'"
            ],
            "application/vnd.google.colaboratory.intrinsic+json": {
              "type": "string"
            }
          },
          "metadata": {},
          "execution_count": 68
        }
      ]
    },
    {
      "cell_type": "code",
      "source": [
        "# print distance and all metrics - done\n",
        "# save fig of EDA - done\n",
        "# combine codes - done\n",
        "# while printing, print restaurants according to descending order of ratings - done\n",
        "# improve EDA part - done\n",
        "\n",
        "# test and demo file - done\n"
      ],
      "metadata": {
        "id": "NLOlvLzNsncs"
      },
      "execution_count": null,
      "outputs": []
    },
    {
      "cell_type": "markdown",
      "source": [
        "# Recommendation Using Scores\n",
        "1. take name as input\n",
        "2. filter according to rating. suppose rating of input restarant is x. give score for restaurants having rating below (x-0.3)  as 7 else 10. \n",
        "3. Similarly give scores for location and cost of two people column. Add all three scores\n",
        "4. filter score in descending order. Show top 7\n",
        " \n",
        "5. kmeans clustering for location\n"
      ],
      "metadata": {
        "id": "xI6HMcl02pwE"
      }
    },
    {
      "cell_type": "code",
      "source": [
        "'''def reccomend_score(inp_rest_id):\n",
        "  rest_score_data = rest_data\n",
        "  rest_score_data['rating_score'] = rest_score_data['rate'].apply(lambda x: if  rest_score_data['rate'].values[0] - inp_rest_id = )'''"
      ],
      "metadata": {
        "id": "LTo_CXRn8XGs",
        "colab": {
          "base_uri": "https://localhost:8080/",
          "height": 53
        },
        "outputId": "713ac3c9-d31e-48b6-be00-c3898d3e3036"
      },
      "execution_count": null,
      "outputs": [
        {
          "output_type": "execute_result",
          "data": {
            "text/plain": [
              "\"def reccomend_score(inp_rest_id):\\n  rest_score_data = rest_data\\n  rest_score_data['rating_score'] = rest_score_data['rate'].apply(lambda x: if  rest_score_data['rate'].values[0] - inp_rest_id = )\""
            ],
            "application/vnd.google.colaboratory.intrinsic+json": {
              "type": "string"
            }
          },
          "metadata": {},
          "execution_count": 70
        }
      ]
    },
    {
      "cell_type": "code",
      "source": [
        "# 'Jalsa', 'Online', 'booking_available', 775, 'Banashankari', 'Casual Dining', 'North Indian, Mughlai, Chinese', '800.0', 'Buffet'"
      ],
      "metadata": {
        "id": "O0l9pYkSg7rP"
      },
      "execution_count": null,
      "outputs": []
    }
  ]
}